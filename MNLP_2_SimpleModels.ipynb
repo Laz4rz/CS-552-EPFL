{
  "cells": [
    {
      "cell_type": "markdown",
      "id": "3275ace2",
      "metadata": {
        "id": "3275ace2"
      },
      "source": [
        "# 📚  Exercise Session - Week 2\n",
        "\n",
        "Welcome to Week 2 exercise's session of CS552-Modern NLP!\n",
        "\n",
        "\n",
        "> **What will be covered:**\n",
        "1. [**TASK A:** N-gram Language Models](#ngram_lm)\n",
        "    - [Unigram Language Model](#unigram_lm)\n",
        "    - [Bi-gram Language Model](#bigram_lm)\n",
        "    - [Tri-gram Language Model](#trigram_lm)\n",
        "     \n",
        "2. [**TASK B:** Neural Language Models](#neural_lm)\n",
        "    - [Fixed-Window Neural Language Model](#fixed_window_lm)\n",
        "    - [RNN-based Language Model](#rnn_lm)\n",
        "\n",
        "> **By the end of the session you will be able to:**\n",
        "> - ✅  Compute and interpret the perplexity of a language model\n",
        "> - ✅  Implement N-gram language models for N=1,2,3\n",
        "> - ✅  Implement, train, and evaluate a fixed window language model\n",
        "> - ✅  Evaluate an RNN language model\n",
        "> - ✅  Understand the advantages and disadvantages of each of the above models"
      ]
    },
    {
      "cell_type": "code",
      "execution_count": null,
      "id": "98eb6b6c",
      "metadata": {
        "id": "98eb6b6c",
        "colab": {
          "base_uri": "https://localhost:8080/"
        },
        "outputId": "643b73c8-ca5c-4285-8320-8dc955187ee1"
      },
      "outputs": [
        {
          "output_type": "stream",
          "name": "stdout",
          "text": [
            "\u001b[31mERROR: Could not open requirements file: [Errno 2] No such file or directory: 'requirements.txt'\u001b[0m\u001b[31m\n",
            "\u001b[0m"
          ]
        }
      ],
      "source": [
        "# install the libraries if needed using the requirements.txt file\n",
        "!pip install -r requirements.txt"
      ]
    },
    {
      "cell_type": "markdown",
      "id": "272c0a7c",
      "metadata": {
        "id": "272c0a7c"
      },
      "source": [
        "<a name=\"ngram_lm\"></a>\n",
        "## 1. Task A: N-gram Language Models"
      ]
    },
    {
      "cell_type": "markdown",
      "id": "85c137c6",
      "metadata": {
        "id": "85c137c6"
      },
      "source": [
        "\n",
        "In this exercise, we will better understand the functioning of different types of (non-neural) language modeling, namely,  Unigram LM, Bi-gram LM, and Tri-gram LM."
      ]
    },
    {
      "cell_type": "markdown",
      "id": "066c0427",
      "metadata": {
        "id": "066c0427"
      },
      "source": [
        "### 1.1 Unigram Language Model <a name=\"unigram_lm\"></a>\n",
        "In the simple Unigram language model, we pick/generate next token independent of the previous token. In other words, during the generation, we pick the tokens according to the token probability. Therefore, for an arbitrary sequence $x_1x_2~...x_n$, its respective probability becomes:\n",
        "$$p(x_1x_2~...x_n) = \\Pi_{i=1} ^n p(x_i)$$\n",
        "Let's use an unsupervised dataset (raw corpus) to evaluate this model's perplexity. We use Huggingface's `datasets` library to download needed datasets.\n",
        "\n",
        "\n",
        "Here we use the `Penn Treebank` dataset, featuring a million words of 1989 Wall Street Journal material. The rare words in this version are already replaced with `<unk>` token. The numbers are also replaced with a special token. This token replacement helps us to end up with a more reasonable vocabulary size to work with.\n"
      ]
    },
    {
      "cell_type": "code",
      "source": [
        "!pip install datasets"
      ],
      "metadata": {
        "colab": {
          "base_uri": "https://localhost:8080/"
        },
        "id": "8tZB78VbX1xa",
        "outputId": "6f191dae-6dad-4109-dd34-cbe3cfdbc4b6"
      },
      "id": "8tZB78VbX1xa",
      "execution_count": null,
      "outputs": [
        {
          "output_type": "stream",
          "name": "stdout",
          "text": [
            "Collecting datasets\n",
            "  Downloading datasets-2.18.0-py3-none-any.whl (510 kB)\n",
            "\u001b[2K     \u001b[90m━━━━━━━━━━━━━━━━━━━━━━━━━━━━━━━━━━━━━━━━\u001b[0m \u001b[32m510.5/510.5 kB\u001b[0m \u001b[31m6.6 MB/s\u001b[0m eta \u001b[36m0:00:00\u001b[0m\n",
            "\u001b[?25hRequirement already satisfied: filelock in /usr/local/lib/python3.10/dist-packages (from datasets) (3.13.1)\n",
            "Requirement already satisfied: numpy>=1.17 in /usr/local/lib/python3.10/dist-packages (from datasets) (1.25.2)\n",
            "Requirement already satisfied: pyarrow>=12.0.0 in /usr/local/lib/python3.10/dist-packages (from datasets) (14.0.2)\n",
            "Requirement already satisfied: pyarrow-hotfix in /usr/local/lib/python3.10/dist-packages (from datasets) (0.6)\n",
            "Collecting dill<0.3.9,>=0.3.0 (from datasets)\n",
            "  Downloading dill-0.3.8-py3-none-any.whl (116 kB)\n",
            "\u001b[2K     \u001b[90m━━━━━━━━━━━━━━━━━━━━━━━━━━━━━━━━━━━━━━━━\u001b[0m \u001b[32m116.3/116.3 kB\u001b[0m \u001b[31m10.8 MB/s\u001b[0m eta \u001b[36m0:00:00\u001b[0m\n",
            "\u001b[?25hRequirement already satisfied: pandas in /usr/local/lib/python3.10/dist-packages (from datasets) (1.5.3)\n",
            "Requirement already satisfied: requests>=2.19.0 in /usr/local/lib/python3.10/dist-packages (from datasets) (2.31.0)\n",
            "Requirement already satisfied: tqdm>=4.62.1 in /usr/local/lib/python3.10/dist-packages (from datasets) (4.66.2)\n",
            "Requirement already satisfied: xxhash in /usr/local/lib/python3.10/dist-packages (from datasets) (3.4.1)\n",
            "Collecting multiprocess (from datasets)\n",
            "  Downloading multiprocess-0.70.16-py310-none-any.whl (134 kB)\n",
            "\u001b[2K     \u001b[90m━━━━━━━━━━━━━━━━━━━━━━━━━━━━━━━━━━━━━━━━\u001b[0m \u001b[32m134.8/134.8 kB\u001b[0m \u001b[31m11.5 MB/s\u001b[0m eta \u001b[36m0:00:00\u001b[0m\n",
            "\u001b[?25hRequirement already satisfied: fsspec[http]<=2024.2.0,>=2023.1.0 in /usr/local/lib/python3.10/dist-packages (from datasets) (2023.6.0)\n",
            "Requirement already satisfied: aiohttp in /usr/local/lib/python3.10/dist-packages (from datasets) (3.9.3)\n",
            "Requirement already satisfied: huggingface-hub>=0.19.4 in /usr/local/lib/python3.10/dist-packages (from datasets) (0.20.3)\n",
            "Requirement already satisfied: packaging in /usr/local/lib/python3.10/dist-packages (from datasets) (23.2)\n",
            "Requirement already satisfied: pyyaml>=5.1 in /usr/local/lib/python3.10/dist-packages (from datasets) (6.0.1)\n",
            "Requirement already satisfied: aiosignal>=1.1.2 in /usr/local/lib/python3.10/dist-packages (from aiohttp->datasets) (1.3.1)\n",
            "Requirement already satisfied: attrs>=17.3.0 in /usr/local/lib/python3.10/dist-packages (from aiohttp->datasets) (23.2.0)\n",
            "Requirement already satisfied: frozenlist>=1.1.1 in /usr/local/lib/python3.10/dist-packages (from aiohttp->datasets) (1.4.1)\n",
            "Requirement already satisfied: multidict<7.0,>=4.5 in /usr/local/lib/python3.10/dist-packages (from aiohttp->datasets) (6.0.5)\n",
            "Requirement already satisfied: yarl<2.0,>=1.0 in /usr/local/lib/python3.10/dist-packages (from aiohttp->datasets) (1.9.4)\n",
            "Requirement already satisfied: async-timeout<5.0,>=4.0 in /usr/local/lib/python3.10/dist-packages (from aiohttp->datasets) (4.0.3)\n",
            "Requirement already satisfied: typing-extensions>=3.7.4.3 in /usr/local/lib/python3.10/dist-packages (from huggingface-hub>=0.19.4->datasets) (4.10.0)\n",
            "Requirement already satisfied: charset-normalizer<4,>=2 in /usr/local/lib/python3.10/dist-packages (from requests>=2.19.0->datasets) (3.3.2)\n",
            "Requirement already satisfied: idna<4,>=2.5 in /usr/local/lib/python3.10/dist-packages (from requests>=2.19.0->datasets) (3.6)\n",
            "Requirement already satisfied: urllib3<3,>=1.21.1 in /usr/local/lib/python3.10/dist-packages (from requests>=2.19.0->datasets) (2.0.7)\n",
            "Requirement already satisfied: certifi>=2017.4.17 in /usr/local/lib/python3.10/dist-packages (from requests>=2.19.0->datasets) (2024.2.2)\n",
            "Requirement already satisfied: python-dateutil>=2.8.1 in /usr/local/lib/python3.10/dist-packages (from pandas->datasets) (2.8.2)\n",
            "Requirement already satisfied: pytz>=2020.1 in /usr/local/lib/python3.10/dist-packages (from pandas->datasets) (2023.4)\n",
            "Requirement already satisfied: six>=1.5 in /usr/local/lib/python3.10/dist-packages (from python-dateutil>=2.8.1->pandas->datasets) (1.16.0)\n",
            "Installing collected packages: dill, multiprocess, datasets\n",
            "Successfully installed datasets-2.18.0 dill-0.3.8 multiprocess-0.70.16\n"
          ]
        }
      ]
    },
    {
      "cell_type": "code",
      "execution_count": null,
      "id": "69afb9de",
      "metadata": {
        "scrolled": true,
        "id": "69afb9de",
        "colab": {
          "base_uri": "https://localhost:8080/",
          "height": 313,
          "referenced_widgets": [
            "3d9b5ee3347a48eb89681b4557975603",
            "0683b8dee4044953b91d03ae9c06a3ec",
            "15f178d739684b9980f522068d12e7ae",
            "4f3d82925ae549a88cd5e363a32e9e9f",
            "fa75a1027a71459c8ce8c982dbdd7d88",
            "fb4673bf5643466b9d844fb5ccb40d59",
            "e5160cba0c754f4fbc187dea125ec82d",
            "c4e8060cc7884c30a3de27f76ef800af",
            "2263b09ac7a94568aebb4a955495b920",
            "0790f6fcb3704b0e88ffb69af6135dc3",
            "cb55a81668234f928a7cc7ea9c0d2de3",
            "07e1b423a1d1451e9abb1e354a333791",
            "80b9003b94164717a4929c3b47d59823",
            "c03da261bfc74c9eb65e8004a3e8ba5f",
            "dfb2cd34563e4c7a96e16c6d6c41dadb",
            "3de2950f039f41809d8005b69cceba6d",
            "d180bece7ef64d5aae7fdc0edffdbec7",
            "730c505dc2104e9986e4689196a689e0",
            "0c0f476d1eb847f2946096e049f8a417",
            "50a00316b7754963ba6a55be48db6152",
            "4d5ee190984b4a73bfbb8d07c266cba6",
            "c280e90bf3034eb492b6a9f79eb88a43",
            "f3c04f15d352426494a72f55805d466b",
            "77d9af0bafd341f8a8de0f5c1a2b81c3",
            "b4daed69f05e4376930113580438d276",
            "3a4db15fa16a4532bdca1fe2df332660",
            "f1b188f0c6eb47799dc6050002447785",
            "164f2bf75ea144a6bd746c71dc2e27a5",
            "fbc22f5d33c94a2cb88a3f0d5738b743",
            "e84cb8ccfc2747f9a0d7ec992805f943",
            "29f9840034c0414d977dc88a51736e7d",
            "4f79bd00959147d6a037e0b91de5fdcf",
            "d6a8ef56b5d741bab2b2b3343cfb68ea",
            "8aab25d5a75d417283512c5dc6c7100b",
            "e91caf840d52411897eef9e74336d1b6",
            "8e2972f71b8e41fb9d2cd38938d6fcaf",
            "4a28088f5efa43538617759acead0a21",
            "61c6856d7b64442488989d2d473ac2c1",
            "6ad3d02970c24a2aa83ca5e19cfcaff2",
            "926b29fcbf964b94a706af57a4762966",
            "ae02163303e149869357a1f412e6c799",
            "81803433af54437ebc4158356a88907c",
            "0cc331f282a5407e9a9b6c871c8b4675",
            "87a1e5e149634d9a9770488b65e177e2",
            "e08792ac3dd84db7a98f97ab588b2bbc",
            "dbf71d82f66f4affb886b225570f6e01",
            "b2330e983e5f42f3ab7e48a2c10b7ab8",
            "00cd0d3d4c6b4653b095c412ca0e2938",
            "0bebe4431cce415986439bc84277d95d",
            "aa56cc9e4a064ca09d5c4fe91c8c3cdc",
            "f80e6cacc4a748818824e2de81308acd",
            "3701e0e0675243aca845f01f4d6036e7",
            "d4a416258b1f45188dc437a605370733",
            "30ac26c7a30946889ce16b1a154763f6",
            "76f54b705c744a0e9960458d534c4869",
            "74e355a1da17433b83f453ed11220a01",
            "1e251a2ef6824b66a2dfab6df5b6df07",
            "db649c00513e4643b5af092b4dbd4cea",
            "2135d271479746878c5eac0d3234c2c6",
            "bf024685fd7c4ab2b9d1c8c2af0a635a",
            "f1d36da66c4140e39187337825219063",
            "1fe704976986464dacf70ae3d6a87454",
            "c75e2ba8c5ed4678a322106cf45e475b",
            "8d13f624443945a09615a494cec1defe",
            "14e9f1002499416e968f2bb03e2e67a1",
            "4c44cd4f6b9a4f378f5544eda240c6a9"
          ]
        },
        "outputId": "aaaa7e51-fd0c-4cb1-d588-be3163d7136b"
      },
      "outputs": [
        {
          "output_type": "stream",
          "name": "stderr",
          "text": [
            "/usr/local/lib/python3.10/dist-packages/huggingface_hub/utils/_token.py:88: UserWarning: \n",
            "The secret `HF_TOKEN` does not exist in your Colab secrets.\n",
            "To authenticate with the Hugging Face Hub, create a token in your settings tab (https://huggingface.co/settings/tokens), set it as secret in your Google Colab and restart your session.\n",
            "You will be able to reuse this secret in all of your notebooks.\n",
            "Please note that authentication is recommended but still optional to access public models or datasets.\n",
            "  warnings.warn(\n"
          ]
        },
        {
          "output_type": "display_data",
          "data": {
            "text/plain": [
              "Downloading data:   0%|          | 0.00/2.96M [00:00<?, ?B/s]"
            ],
            "application/vnd.jupyter.widget-view+json": {
              "version_major": 2,
              "version_minor": 0,
              "model_id": "3d9b5ee3347a48eb89681b4557975603"
            }
          },
          "metadata": {}
        },
        {
          "output_type": "display_data",
          "data": {
            "text/plain": [
              "Downloading data:   0%|          | 0.00/262k [00:00<?, ?B/s]"
            ],
            "application/vnd.jupyter.widget-view+json": {
              "version_major": 2,
              "version_minor": 0,
              "model_id": "07e1b423a1d1451e9abb1e354a333791"
            }
          },
          "metadata": {}
        },
        {
          "output_type": "display_data",
          "data": {
            "text/plain": [
              "Downloading data:   0%|          | 0.00/236k [00:00<?, ?B/s]"
            ],
            "application/vnd.jupyter.widget-view+json": {
              "version_major": 2,
              "version_minor": 0,
              "model_id": "f3c04f15d352426494a72f55805d466b"
            }
          },
          "metadata": {}
        },
        {
          "output_type": "display_data",
          "data": {
            "text/plain": [
              "Generating train split:   0%|          | 0/42068 [00:00<?, ? examples/s]"
            ],
            "application/vnd.jupyter.widget-view+json": {
              "version_major": 2,
              "version_minor": 0,
              "model_id": "8aab25d5a75d417283512c5dc6c7100b"
            }
          },
          "metadata": {}
        },
        {
          "output_type": "display_data",
          "data": {
            "text/plain": [
              "Generating test split:   0%|          | 0/3761 [00:00<?, ? examples/s]"
            ],
            "application/vnd.jupyter.widget-view+json": {
              "version_major": 2,
              "version_minor": 0,
              "model_id": "e08792ac3dd84db7a98f97ab588b2bbc"
            }
          },
          "metadata": {}
        },
        {
          "output_type": "display_data",
          "data": {
            "text/plain": [
              "Generating validation split:   0%|          | 0/3370 [00:00<?, ? examples/s]"
            ],
            "application/vnd.jupyter.widget-view+json": {
              "version_major": 2,
              "version_minor": 0,
              "model_id": "74e355a1da17433b83f453ed11220a01"
            }
          },
          "metadata": {}
        }
      ],
      "source": [
        "import torch\n",
        "import datasets\n",
        "import numpy as np\n",
        "from datasets import load_dataset\n",
        "\n",
        "ptb_dataset = load_dataset(\"ptb_text_only\", split=\"train\")\n",
        "\n",
        "# splitting dataset in train/test (to be later used for language model evaluation)\n",
        "ptb_dataset = ptb_dataset.train_test_split(test_size=0.2, seed=1)\n",
        "ptb_train, ptb_test = ptb_dataset['train'], ptb_dataset['test']"
      ]
    },
    {
      "cell_type": "markdown",
      "id": "20589cd0",
      "metadata": {
        "id": "20589cd0"
      },
      "source": [
        "#### Let's have a look at a few samples of the training dataset (and also the structure of the dataset)"
      ]
    },
    {
      "cell_type": "code",
      "execution_count": null,
      "id": "b6ceb684",
      "metadata": {
        "id": "b6ceb684",
        "colab": {
          "base_uri": "https://localhost:8080/"
        },
        "outputId": "7c425e7e-3470-47ec-ccf8-2801209e0e93"
      },
      "outputs": [
        {
          "output_type": "stream",
          "name": "stdout",
          "text": [
            "{'sentence': \"a former executive agreed that the departures do n't reflect major problems adding if you see any company that grows as fast as reebok did it is going to have people coming and going\"}\n",
            "\n",
            "{'sentence': 'with talk today of a second economic <unk> in west germany east germany no longer can content itself with being the economic star in a loser league'}\n",
            "\n",
            "{'sentence': 'transportation secretary sam skinner who earlier fueled the anti-takeover fires with his <unk> attacks on foreign investment in u.s. carriers now says the bill would further <unk> the jittery capital markets'}\n"
          ]
        }
      ],
      "source": [
        "print(f\"{ptb_train[0]}\\n\\n{ptb_train[1]}\\n\\n{ptb_train[2]}\")"
      ]
    },
    {
      "cell_type": "markdown",
      "id": "07207b13",
      "metadata": {
        "id": "07207b13"
      },
      "source": [
        "During generation with a given language model, we often need to have a `<stop>` token in our vocabulary to terminate the generation of a given sentence/paragraph. In this dataset, every sample is a sentence, and the `<stop>` token should be added to the end of every sample (i.e., end of sentence).\n",
        "\n",
        "#### Create a new train/test dataset starting from `ptb_train` and `ptb_test` that has a `<stop>` at the end of each sentence. (Note: do not change the structure of the datasets objects, and just change the respective sentences as discussed).\n",
        "Hint: use the `.map()` functionality of the `datasets` package (read more [here](https://huggingface.co/docs/datasets/process#map]))."
      ]
    },
    {
      "cell_type": "code",
      "execution_count": null,
      "id": "aa1b7b70",
      "metadata": {
        "id": "aa1b7b70",
        "colab": {
          "base_uri": "https://localhost:8080/",
          "height": 81,
          "referenced_widgets": [
            "1b937e58a5d642feb2e032f2cf87cd95",
            "795a4c4c74da49e083bd66f2936dfc46",
            "bab80dab3ef54c22a775c3bd63943812",
            "8aa3389d222541359157343363d3b6e5",
            "b5c13d88e0974c3ca1b60d2f5fd4312d",
            "5195db4212c64249976a46180f18b001",
            "c9fd933a30de4b06a7de11e761aeb10c",
            "0c59db6b50544933ae06317005ebca6b",
            "11c518af6e214ac0b1cd9946f03cda2a",
            "6c1bfeeea0784e48a41f8120e9ee25c8",
            "116cc65981154f96a4f5132eab281055",
            "94b6a732d5434485a4f0daa06d760e8b",
            "30bc9a4e9fd94166ba87c547c26e2855",
            "fa82ce95e6af48cd84ac3cb975e1be18",
            "69ec6ad07491469abd9ae726e896f532",
            "b3a935de110c4bf09688ddb9fc26b25b",
            "84efddf48fb54d6dba06fb6dc020ed8a",
            "479de5c05c4e4897bb30ce4081fd92a8",
            "2edbd73bc06f46109aa2e8b31feb8d78",
            "7258e2b0fca14202bf0291b9bff112c7",
            "e8929159f7cf43b5b260e42a5190483c",
            "18b4048058c746469f426e0cd3a45c8b"
          ]
        },
        "outputId": "e36fc17d-30be-46d3-c99d-84c669c2bacc"
      },
      "outputs": [
        {
          "output_type": "display_data",
          "data": {
            "text/plain": [
              "Map:   0%|          | 0/33654 [00:00<?, ? examples/s]"
            ],
            "application/vnd.jupyter.widget-view+json": {
              "version_major": 2,
              "version_minor": 0,
              "model_id": "1b937e58a5d642feb2e032f2cf87cd95"
            }
          },
          "metadata": {}
        },
        {
          "output_type": "display_data",
          "data": {
            "text/plain": [
              "Map:   0%|          | 0/8414 [00:00<?, ? examples/s]"
            ],
            "application/vnd.jupyter.widget-view+json": {
              "version_major": 2,
              "version_minor": 0,
              "model_id": "94b6a732d5434485a4f0daa06d760e8b"
            }
          },
          "metadata": {}
        }
      ],
      "source": [
        "def add_stop_token(input_sample: dict):\n",
        "    '''\n",
        "    args:\n",
        "        input_sample: a dict representing a sample of the dataset. (look above for the dict struture)\n",
        "    output:\n",
        "        modified_sample: modified dict adding <stop> at the end of each sentence.\n",
        "    '''\n",
        "    # YOUR CODE HERE\n",
        "    modified_sample = input_sample\n",
        "    modified_sample['sentence'] = f\"{modified_sample['sentence']} <stop>\"\n",
        "    return modified_sample\n",
        "\n",
        "\n",
        "\n",
        "ptb_train = ptb_train.map(add_stop_token)\n",
        "ptb_test = ptb_test.map(add_stop_token)"
      ]
    },
    {
      "cell_type": "markdown",
      "id": "2d338821",
      "metadata": {
        "id": "2d338821"
      },
      "source": [
        "For both `ptb_train` and `ptb_test` datasets, filter out every sample that has less than 3 tokens. it will help remove very short sentences that are not very helpful for training/evaluating a langugage model.\n",
        "\n",
        "Hint: use `.filter()` functionality of the `datasets` package (read more [here](https://huggingface.co/docs/datasets/process#select-and-filter))."
      ]
    },
    {
      "cell_type": "code",
      "source": [
        "ptb_train.filter(lambda x: x)"
      ],
      "metadata": {
        "colab": {
          "base_uri": "https://localhost:8080/",
          "height": 118,
          "referenced_widgets": [
            "22498be0303544feb09d829f72816341",
            "932c8b18a33840019f8df75de6a9b1c8",
            "f706f70a261640929794737d3548b499",
            "204cd6cbdc1b4652967625719f791f41",
            "d35d61bcb98a4c6288c265a53ba2f132",
            "5ac997938f0f4213aed161952cd939a4",
            "4f2b12c9655b4b6589acf7c7b8942a6c",
            "f9839dff18ba4a6f84ee6b1ec77074ce",
            "195c706fbdad45eb97780ab3d611d70a",
            "25a07d56b928491cbff3226eb89e8927",
            "dacbfe28aff24861aa43621c301931b5"
          ]
        },
        "id": "vSbXj6uKZRHN",
        "outputId": "711bbf64-938c-4624-c8df-fcd96849bc7a"
      },
      "id": "vSbXj6uKZRHN",
      "execution_count": null,
      "outputs": [
        {
          "output_type": "display_data",
          "data": {
            "text/plain": [
              "Filter:   0%|          | 0/33654 [00:00<?, ? examples/s]"
            ],
            "application/vnd.jupyter.widget-view+json": {
              "version_major": 2,
              "version_minor": 0,
              "model_id": "22498be0303544feb09d829f72816341"
            }
          },
          "metadata": {}
        },
        {
          "output_type": "execute_result",
          "data": {
            "text/plain": [
              "Dataset({\n",
              "    features: ['sentence'],\n",
              "    num_rows: 33654\n",
              "})"
            ]
          },
          "metadata": {},
          "execution_count": 6
        }
      ]
    },
    {
      "cell_type": "code",
      "execution_count": null,
      "id": "9c0222f5",
      "metadata": {
        "id": "9c0222f5",
        "colab": {
          "base_uri": "https://localhost:8080/",
          "height": 81,
          "referenced_widgets": [
            "0033c66fce5b45e9874cb9d1f12d09bd",
            "91ebb84d9ad0466e965bed04a9739c98",
            "7c9de769b2d04a6994e36b236feacc91",
            "bd72620bfe2141a0b038b92b63a2577f",
            "d3b3de2911cf46c5b0b221c900042f4f",
            "2733758bc8e44b5283694c749e559c00",
            "31061d9d6d724c7fa88ab01645c65e96",
            "27b1d566f890482bbd69778030b16329",
            "e022f276d2dc48e896139a4a636e2d8a",
            "693d5f9d767e413a831a47b013f1069d",
            "83dac075b61f41e7b8b300e40f560035",
            "e6801809414a4bb596df1db2b6e2f09e",
            "e2a658a6ffd84d73881ad7259390180f",
            "257b948fc0ed451e843d282cfa5cd40f",
            "ea48b4fc6a374e88bbe76b4353faccdf",
            "f4c1a7ff14404e76ba17912db0526693",
            "c9d3f934b18f4593b80148a25f6f1079",
            "0b1b8a4cb37446eeb6ddbf7778aadf51",
            "562e4ce4f4fa4f859fa2171f1921db73",
            "2e23270ab3294dd8b1fa8beef9683593",
            "3db0d07d8f694d5ba85b164cd038be7e",
            "ede3ef11d33b4c04b6742494569b7786"
          ]
        },
        "outputId": "80cbcf76-c1b3-41db-b1fa-f15fc155f110"
      },
      "outputs": [
        {
          "output_type": "display_data",
          "data": {
            "text/plain": [
              "Filter:   0%|          | 0/33654 [00:00<?, ? examples/s]"
            ],
            "application/vnd.jupyter.widget-view+json": {
              "version_major": 2,
              "version_minor": 0,
              "model_id": "0033c66fce5b45e9874cb9d1f12d09bd"
            }
          },
          "metadata": {}
        },
        {
          "output_type": "display_data",
          "data": {
            "text/plain": [
              "Filter:   0%|          | 0/8414 [00:00<?, ? examples/s]"
            ],
            "application/vnd.jupyter.widget-view+json": {
              "version_major": 2,
              "version_minor": 0,
              "model_id": "e6801809414a4bb596df1db2b6e2f09e"
            }
          },
          "metadata": {}
        }
      ],
      "source": [
        "ptb_train = ptb_train.filter(lambda x: len(x[\"sentence\"].split())>=3)\n",
        "ptb_test = ptb_test.filter(lambda x: len(x[\"sentence\"].split())>=3)"
      ]
    },
    {
      "cell_type": "markdown",
      "id": "2733f77b",
      "metadata": {
        "id": "2733f77b"
      },
      "source": [
        "#### What are the 10 most frequent tokens in this dataset? Can you spot the token used to replace the numbers in this dataset? How are rare tokens replaced in this dataset?"
      ]
    },
    {
      "cell_type": "code",
      "execution_count": null,
      "id": "28e93fb6",
      "metadata": {
        "id": "28e93fb6",
        "colab": {
          "base_uri": "https://localhost:8080/"
        },
        "outputId": "1a4222cf-d6a4-4746-af59-938db4389a61"
      },
      "outputs": [
        {
          "output_type": "execute_result",
          "data": {
            "text/plain": [
              "[('the', 40616),\n",
              " ('<unk>', 35888),\n",
              " ('<stop>', 33539),\n",
              " ('N', 25966),\n",
              " ('of', 19459),\n",
              " ('to', 18896),\n",
              " ('a', 16901),\n",
              " ('in', 14473),\n",
              " ('and', 14013),\n",
              " (\"'s\", 7850)]"
            ]
          },
          "metadata": {},
          "execution_count": 8
        }
      ],
      "source": [
        "from collections import Counter\n",
        "\n",
        "Counter(\" \".join([i[\"sentence\"] for i in ptb_train]).split()).most_common(10)"
      ]
    },
    {
      "cell_type": "markdown",
      "id": "a6eaec09",
      "metadata": {
        "id": "a6eaec09"
      },
      "source": [
        "#### Now let's create a dictionary of the word probabilites (in the format of `{word: Prob(word)}`in the following function. We will use these probabilities to estimate sequence probabilities for a given sequence, as mentioned above."
      ]
    },
    {
      "cell_type": "code",
      "execution_count": null,
      "id": "0e015a74",
      "metadata": {
        "id": "0e015a74"
      },
      "outputs": [],
      "source": [
        "from collections import defaultdict, Counter\n",
        "\n",
        "def get_word_probability_dict(train_dataset: datasets.arrow_dataset.Dataset):\n",
        "    '''\n",
        "    args:\n",
        "        train_dataset: a Dataset object that can be iterated to get all the sentences\n",
        "    output:\n",
        "        word_prob_dict: a dictionary containing the word probabilities (and outputing zero for non-seen tokens)\n",
        "    '''\n",
        "    # YOUR CODE HERE\n",
        "    counts = Counter(\" \".join([i[\"sentence\"] for i in train_dataset]).split())\n",
        "    prob_sum = sum([v for k, v in counts.items()])\n",
        "    word_prob_dict = {k: v/prob_sum for k, v in counts.items()}\n",
        "    return defaultdict(int, word_prob_dict)\n",
        "\n",
        "word_prob_dict = get_word_probability_dict(ptb_train)"
      ]
    },
    {
      "cell_type": "markdown",
      "id": "766d403e",
      "metadata": {
        "id": "766d403e"
      },
      "source": [
        "Let's also get a sense of how high the top-k probabilities are:"
      ]
    },
    {
      "cell_type": "code",
      "execution_count": null,
      "id": "37d958f6",
      "metadata": {
        "scrolled": true,
        "id": "37d958f6",
        "colab": {
          "base_uri": "https://localhost:8080/"
        },
        "outputId": "7f056d62-187d-48f1-91a3-027b82aaed93"
      },
      "outputs": [
        {
          "output_type": "execute_result",
          "data": {
            "text/plain": [
              "[('the', 0.054680915800329036),\n",
              " ('<unk>', 0.04831565654525823),\n",
              " ('<stop>', 0.045153221268151356),\n",
              " ('N', 0.03495776688180381),\n",
              " ('of', 0.026197457665910053),\n",
              " ('to', 0.025439496379826114),\n",
              " ('a', 0.022753647772832404),\n",
              " ('in', 0.019484855583468637),\n",
              " ('and', 0.01886556217032723),\n",
              " (\"'s\", 0.010568376724260954),\n",
              " ('for', 0.009569429523063295),\n",
              " ('that', 0.009558659202834748),\n",
              " ('$', 0.00801984970018121),\n",
              " ('is', 0.007975422129238458),\n",
              " ('it', 0.006556432439127497),\n",
              " ('said', 0.006516043738270448),\n",
              " ('on', 0.006050227388385825),\n",
              " ('at', 0.005312460452730411),\n",
              " ('by', 0.005303036422530433),\n",
              " ('as', 0.00519667951027354)]"
            ]
          },
          "metadata": {},
          "execution_count": 10
        }
      ],
      "source": [
        "sorted(word_prob_dict.items(), key=lambda item: item[1], reverse=True)[:20]"
      ]
    },
    {
      "cell_type": "markdown",
      "id": "e1b408c2",
      "metadata": {
        "id": "e1b408c2"
      },
      "source": [
        "#### Now let's analyze the Unigram language model for different sequences. We first create a function that can output the probability for a given string."
      ]
    },
    {
      "cell_type": "code",
      "execution_count": null,
      "id": "fc167228",
      "metadata": {
        "id": "fc167228"
      },
      "outputs": [],
      "source": [
        "def unigram_lm_seq_probability(input_sentence: str,\n",
        "                               word_prob_dict: dict):\n",
        "    '''\n",
        "    args:\n",
        "        input_sentence: The input sequence string. Here we assume\n",
        "        word_prob_dict: A dictionary containing the probability for a given token\n",
        "    output:\n",
        "        probability: The probability of the input_sentence according to the Unigram language model\n",
        "    '''\n",
        "    from functools import reduce\n",
        "    def mul(x, y): return x*y\n",
        "    return reduce(mul, map(lambda x: word_prob_dict[x], input_sentence.split()))"
      ]
    },
    {
      "cell_type": "markdown",
      "id": "3427e046",
      "metadata": {
        "id": "3427e046"
      },
      "source": [
        "#### Let's investigate a major issue with Unigram language model. What are the probabilities for the two following sequences?\n",
        "- the the the the \\<stop>\n",
        "- i love computer science \\<stop>\n",
        "\n",
        "DIscussion: How can we avoid having large probability values for sequences like `the the the <stop>`"
      ]
    },
    {
      "cell_type": "code",
      "execution_count": null,
      "id": "2c753d2d",
      "metadata": {
        "id": "2c753d2d",
        "colab": {
          "base_uri": "https://localhost:8080/"
        },
        "outputId": "5e1dda4b-153e-4a7d-b1c3-ab0a196d18c2"
      },
      "outputs": [
        {
          "output_type": "stream",
          "name": "stdout",
          "text": [
            "probability for seq1 is 4.0367500274713214e-07, and for seq2 is 2.3485816949091947e-17\n"
          ]
        }
      ],
      "source": [
        "seq1 = \"the the the the <stop>\"\n",
        "seq2 = \"i love computer science <stop>\"\n",
        "\n",
        "prob_seq1 = unigram_lm_seq_probability(seq1, word_prob_dict)\n",
        "prob_seq2 = unigram_lm_seq_probability(seq2, word_prob_dict)\n",
        "print(f\"probability for seq1 is {prob_seq1}, and for seq2 is {prob_seq2}\")"
      ]
    },
    {
      "cell_type": "markdown",
      "id": "06747969",
      "metadata": {
        "id": "06747969"
      },
      "source": [
        "#### Now let's formally evaluate the Unigram model in terms of perplexity. We first compute the entropy as the average negative log-likelihood:\n",
        "$$H(W_{test}∣M)= \\frac{1}{|W_{test}|} \\sum_{w\\in W_{test}} −log_2P(w∣M)$$\n",
        ", where $W_{test}$ is the input sequence and M is the Unigram language model. (note that the logarithm is in base 2).\n",
        "\n",
        "In order to get a reliable value, we will do the above calculation for all the sentences in `ptb_test` dataset and then an average is taken over all these samples."
      ]
    },
    {
      "cell_type": "code",
      "execution_count": null,
      "id": "aa48300f",
      "metadata": {
        "id": "aa48300f"
      },
      "outputs": [],
      "source": [
        "def get_unigram_lm_entropy(input_sentence: str,\n",
        "                           word_prob_dict: dict):\n",
        "    '''\n",
        "    args:\n",
        "        input_sentence: the input string that we would like to have its respective entropy value.\n",
        "        word_prob_dict: A dictionary containing the probability for a given token\n",
        "    output:\n",
        "        entropy: entropy value as defined above\n",
        "    '''\n",
        "    entropy = np.mean([-np.log2(word_prob_dict[word]) for word in input_sentence.split()])\n",
        "    # YOUR CODE HERE\n",
        "\n",
        "    return entropy"
      ]
    },
    {
      "cell_type": "markdown",
      "id": "b07afa63",
      "metadata": {
        "id": "b07afa63"
      },
      "source": [
        "Now compute the average entropy for all the sentences in the `ptb_test` given above function, and then compute the average entropy. Then compute the perplexity as $2^{\\bar{H}}$, where $\\bar{H}$ is the average entropy over the test dataset."
      ]
    },
    {
      "cell_type": "code",
      "execution_count": null,
      "id": "ac66be2c",
      "metadata": {
        "id": "ac66be2c",
        "colab": {
          "base_uri": "https://localhost:8080/"
        },
        "outputId": "89b3e036-96f9-4dc8-9498-ec54875fc5cc"
      },
      "outputs": [
        {
          "output_type": "stream",
          "name": "stderr",
          "text": [
            "<ipython-input-13-8b9e3fe09a64>:10: RuntimeWarning: divide by zero encountered in log2\n",
            "  entropy = np.mean([-np.log2(word_prob_dict[word]) for word in input_sentence.split()])\n"
          ]
        },
        {
          "output_type": "stream",
          "name": "stdout",
          "text": [
            "The perplexity for the Unigram language model is 677.4370337591317\n"
          ]
        }
      ],
      "source": [
        "def get_unigram_lm_perplexity(test_dataset: datasets.arrow_dataset.Dataset,\n",
        "                              word_prob_dict: dict):\n",
        "    '''\n",
        "    args:\n",
        "        test_dataset: the test dataset samples are used to compute the perplexity for the Unigram LM.\n",
        "        word_prob_dict: A dictionary containing the probability for a given token\n",
        "    output:\n",
        "        perplexity: entropy value as defined above\n",
        "    '''\n",
        "    entropies = [get_unigram_lm_entropy(i[\"sentence\"], word_prob_dict) for i in test_dataset]\n",
        "    entropies = [entropy for entropy in entropies if ~np.isinf(entropy)]\n",
        "    avg_entropy = sum(entropies)/len(entropies)\n",
        "    perplexity = 2**avg_entropy\n",
        "    return perplexity\n",
        "\n",
        "unigram_lm_perplexity = get_unigram_lm_perplexity(ptb_test, word_prob_dict)\n",
        "print(f\"The perplexity for the Unigram language model is {unigram_lm_perplexity}\")"
      ]
    },
    {
      "cell_type": "markdown",
      "id": "4a3cec0a",
      "metadata": {
        "id": "4a3cec0a"
      },
      "source": [
        "As discussed in the lectures, the models with lower perplexities are desired; however, we should be careful when comparing language models with different vocabualry sizes.\n",
        "#### In the `ptb_train` dataset, replace every token that is appearing less than 10 times with the `<unk>` token. (Note: the same token replacement should be done for the test dataset). What is the Unigram language model perplexity for the new dataset?\n",
        "Discussion: What would happen to the vocabulary size and perplexity as we increase the rare token threshold to higher values? (instead of 10 here)"
      ]
    },
    {
      "cell_type": "code",
      "execution_count": null,
      "id": "3a14c853",
      "metadata": {
        "id": "3a14c853",
        "colab": {
          "base_uri": "https://localhost:8080/",
          "height": 81,
          "referenced_widgets": [
            "f059361bbeb04d2f8df6499036b68393",
            "c64f2dfd4cd84b859bc64f718c6b076b",
            "d29b06d0705e41299e153082fb9bbbc9",
            "5659fee170ae47b5b26dd0c407f6fe8e",
            "305a7d5c6e534e49b9983295b8812f6d",
            "26f53062079d45de80a10fa00a88f831",
            "e691ca50a13a478d88fd81f312961f2e",
            "5c97915d8a704b2eb4bfa0a0582a5835",
            "e5a0604177cc4b39867fee1b26ea9e79",
            "87ac7f75e35844eeacf69dc8a53fc6ca",
            "f418a3d0247a475682b500b3774c2b9d",
            "d923292285cf47eea8d8e9aff198ec6b",
            "0eeff58793584ca5ac22f33ec2630d92",
            "3c17d7acdb424846912dd51f2ab7df20",
            "cce527d08c9c4ee0a8b7074ad3f308b4",
            "fb16d7bef19944d7afa916f040e35898",
            "dd6e2c2bdd6b47288c7b644fbfb0f2ac",
            "e669c7a775674fc18afce75166756004",
            "d3643d573e344788af1ea65248657823",
            "b71b2c0515cd426080b6ed59c5d5fb24",
            "74286344714f450eae655b3ca6fff2b7",
            "2ec1f1c6224d4d91a7331143eaf82cfc"
          ]
        },
        "outputId": "0b676208-2091-45be-9800-64ccb2d7a9e8"
      },
      "outputs": [
        {
          "output_type": "display_data",
          "data": {
            "text/plain": [
              "Map:   0%|          | 0/33539 [00:00<?, ? examples/s]"
            ],
            "application/vnd.jupyter.widget-view+json": {
              "version_major": 2,
              "version_minor": 0,
              "model_id": "f059361bbeb04d2f8df6499036b68393"
            }
          },
          "metadata": {}
        },
        {
          "output_type": "display_data",
          "data": {
            "text/plain": [
              "Map:   0%|          | 0/8392 [00:00<?, ? examples/s]"
            ],
            "application/vnd.jupyter.widget-view+json": {
              "version_major": 2,
              "version_minor": 0,
              "model_id": "d923292285cf47eea8d8e9aff198ec6b"
            }
          },
          "metadata": {}
        }
      ],
      "source": [
        "def remove_rare_token(train_dataset: datasets.arrow_dataset.Dataset,\n",
        "                      test_dataset: datasets.arrow_dataset.Dataset,\n",
        "                      rare_token_threshold: int):\n",
        "    '''\n",
        "    Note that the tokens that are considered rare here, are identified based on the train_dataset, so that\n",
        "    we have the same token mapping (to <unk>) for both the train and test datasets.\n",
        "    args:\n",
        "        train_dataset: the input dataset where its rare tokens has to be replaced with <unk> token.\n",
        "        rare_token_threshold: every word that is appearing less than this threshold in the train dataset will\n",
        "                              be replace with the <unk> token\n",
        "    output:\n",
        "        cleaned_train_dataset: the cleaned train dataset where rare tokens are replace with <unk> token.\n",
        "        cleaned_test_dataset: the cleaned test dataset where rare tokens are replace with <unk> token.\n",
        "    '''\n",
        "    counts = defaultdict(int, Counter(\" \".join([i[\"sentence\"] for i in train_dataset]).split()))\n",
        "    not_unk_tokens = {k for k, v in counts.items() if v >= rare_token_threshold}\n",
        "\n",
        "    def swap_token(sample):\n",
        "      sentence = sample[\"sentence\"].split()\n",
        "      sample[\"sentence\"] = \" \".join([word if word in not_unk_tokens else \"<unk>\" for word in sentence])\n",
        "      return sample\n",
        "\n",
        "    cleaned_train_dataset = train_dataset.map(swap_token)\n",
        "    cleaned_test_dataset = test_dataset.map(swap_token)\n",
        "\n",
        "    return cleaned_train_dataset, cleaned_test_dataset\n",
        "\n",
        "cleaned_train_dataset, cleaned_test_dataset = remove_rare_token(train_dataset=ptb_train,\n",
        "                                                                test_dataset=ptb_test,\n",
        "                                                                rare_token_threshold=10)\n"
      ]
    },
    {
      "cell_type": "markdown",
      "id": "6f09a7d3",
      "metadata": {
        "id": "6f09a7d3"
      },
      "source": [
        "##### Now, follow similar steps to compute the perplexity given the two new datasets (`cleaned_train_dataset` and `cleaned_test_dataset`)"
      ]
    },
    {
      "cell_type": "code",
      "execution_count": null,
      "id": "d2083f50",
      "metadata": {
        "id": "d2083f50",
        "colab": {
          "base_uri": "https://localhost:8080/"
        },
        "outputId": "6dc888f2-1373-4aa9-d5d9-8b4f73f56bff"
      },
      "outputs": [
        {
          "output_type": "stream",
          "name": "stdout",
          "text": [
            "The perplexity for the Unigram language model after replacing rare tokens is  459.5467339922062\n"
          ]
        }
      ],
      "source": [
        "cleaned_unigram_lm_perplexity = -1\n",
        "\n",
        "cleaned_word_prob_dict = get_word_probability_dict(cleaned_train_dataset)\n",
        "cleaned_unigram_lm_perplexity = get_unigram_lm_perplexity(cleaned_test_dataset, cleaned_word_prob_dict)\n",
        "\n",
        "print(\"The perplexity for the Unigram language model after replacing rare tokens is \",\n",
        "      cleaned_unigram_lm_perplexity)"
      ]
    },
    {
      "cell_type": "markdown",
      "id": "4abe9eac",
      "metadata": {
        "id": "4abe9eac"
      },
      "source": [
        "## 1.2 Bi-gram Language Model <a name='bigram_lm'></a>\n",
        "In the Bi-gram language model, we pick/generate next token conditioned only on the previous token. Therefore, for an arbitrary sequence $x_1x_2~...x_n$, its respective probability becomes:\n",
        "$$p(x_1x_2~...x_n) = p(x_1) ~\\Pi_{i=2} ^n p(x_i|x_{i-1})$$\n",
        "Let's use the same dataset (`Penn Treebank`) to evaluate this model's perplexity. (We use the dataset that already has the `<stop>` token at the end).\n",
        "\n",
        "We estimate $p(x_i|x_{i-1})$ as the $\\frac{count(x_{i-1},~x_i)}{count(x_{i-1})}$ according to the training dataset frequencies."
      ]
    },
    {
      "cell_type": "code",
      "source": [
        "all_tokens = \" \".join([i[\"sentence\"] for i in ptb_train]).split()\n",
        "word_frequency_dict = Counter(all_tokens)\n",
        "\n",
        "all_bigrams = []\n",
        "for sample in ptb_train:\n",
        "  tokens = sample[\"sentence\"].split()\n",
        "  sample_bigrams = [(s1, s2) for s1, s2 in zip(tokens, tokens[1:])]\n",
        "  all_bigrams += sample_bigrams\n",
        "\n",
        "bigram_counts = Counter(all_bigrams)\n",
        "bigram_probs = defaultdict(int, {(w1, w2): v/word_frequency_dict[w1] for (w1, w2), v in bigram_counts.items()})"
      ],
      "metadata": {
        "id": "IWMDVWZ7kPr1"
      },
      "id": "IWMDVWZ7kPr1",
      "execution_count": null,
      "outputs": []
    },
    {
      "cell_type": "code",
      "execution_count": null,
      "id": "f96966fc",
      "metadata": {
        "id": "f96966fc"
      },
      "outputs": [],
      "source": [
        "def get_first_order_conditional_probabilities(train_dataset: datasets.arrow_dataset.Dataset):\n",
        "    '''\n",
        "    In this function the conditional probabilities have to be computed based on train_dataset. The output of the\n",
        "    function is a dictionary having keys like (x_{i-1}, x_i) as a tuple and the value being p(x_i|x_{i-1}).\n",
        "    args:\n",
        "        train_dataset: a Dataset object that can be iterated to get all the sentences\n",
        "    output:\n",
        "        word_prob_dict:\n",
        "        first_order_condition_prob: a dictionary having containing the first order conditional probabilities\n",
        "                                    as discussed above.\n",
        "        word_prob_dict: a dictionary containing the word probabilities\n",
        "    '''\n",
        "    first_order_condition_prob = defaultdict(float) # in order to get zeroes\n",
        "    # let's first get the word frequencies (later used for computation of conditional probabilities)\n",
        "    word_prob_dict = get_word_probability_dict(train_dataset)\n",
        "\n",
        "    all_tokens = \" \".join([i[\"sentence\"] for i in train_dataset]).split()\n",
        "    word_frequency_dict = Counter(all_tokens)\n",
        "\n",
        "    all_bigrams = []\n",
        "    for sample in train_dataset:\n",
        "      tokens = sample[\"sentence\"].split()\n",
        "      sample_bigrams = [(s1, s2) for s1, s2 in zip(tokens, tokens[1:])]\n",
        "      all_bigrams += sample_bigrams\n",
        "\n",
        "    bigram_counts = Counter(all_bigrams)\n",
        "    first_order_condition_prob = defaultdict(int, {(w1, w2): v/word_frequency_dict[w1] for (w1, w2), v in bigram_counts.items()})\n",
        "\n",
        "    return word_prob_dict, first_order_condition_prob\n",
        "\n",
        "word_prob_dict, first_order_condition_prob = get_first_order_conditional_probabilities(ptb_train)"
      ]
    },
    {
      "cell_type": "markdown",
      "id": "c89cb406",
      "metadata": {
        "id": "c89cb406"
      },
      "source": [
        "#### Now let's analyze the Bi-gram language model for different sequences. We first create a function that can output the probability for a given string."
      ]
    },
    {
      "cell_type": "code",
      "execution_count": null,
      "id": "e459cdc4",
      "metadata": {
        "id": "e459cdc4"
      },
      "outputs": [],
      "source": [
        "def bigram_lm_seq_probability(input_sentence: str,\n",
        "                              word_prob_dict: dict,\n",
        "                              first_order_condition_prob: dict):\n",
        "    '''\n",
        "    args:\n",
        "        input_sentence: The input sequence string. Here we assume\n",
        "        word_prob_dict: a dictionary containing the word probabilities\n",
        "        first_order_condition_prob: a dictionary containing the first order conditional probabilities\n",
        "                                    as discussed in the previous function.\n",
        "    output:\n",
        "        probability: The probability of the input_sentence according to the Bi-gram language model\n",
        "    '''\n",
        "    tokens = input_sentence.split()\n",
        "    bigrams = [(s1, s2) for s1, s2 in zip(tokens, tokens[1:])]\n",
        "    probability = np.prod([word_prob_dict[tokens[0]]] + [first_order_condition_prob[bigram] for bigram in bigrams])\n",
        "\n",
        "    return probability"
      ]
    },
    {
      "cell_type": "markdown",
      "id": "a87509ef",
      "metadata": {
        "id": "a87509ef"
      },
      "source": [
        "Let's investigate a major issue with higher order language models.\n",
        "#### Compute the probabilities for all the sequences in `ptb_test` dataset, and compute the minimum value among these probablities. What would be the perplexity for the dataset given these values?\n",
        "Discussion: How can we avoid this **overfitting** to train dataset?"
      ]
    },
    {
      "cell_type": "code",
      "execution_count": null,
      "id": "3d9a0460",
      "metadata": {
        "id": "3d9a0460",
        "colab": {
          "base_uri": "https://localhost:8080/"
        },
        "outputId": "aed8622c-862f-4eb7-a984-3c0d269a246b"
      },
      "outputs": [
        {
          "output_type": "stream",
          "name": "stdout",
          "text": [
            "90.84842707340324% of samples in the test set have zero probability!\n"
          ]
        }
      ],
      "source": [
        "bigram_test_probabilities = []\n",
        "\n",
        "for sample in ptb_test:\n",
        "  bigram_test_probabilities.append(bigram_lm_seq_probability(sample[\"sentence\"], word_prob_dict, first_order_condition_prob))\n",
        "\n",
        "print(f\"{bigram_test_probabilities.count(0)/len(ptb_test)*100}% of samples in the test set have zero probability!\")"
      ]
    },
    {
      "cell_type": "markdown",
      "id": "9ced914f",
      "metadata": {
        "id": "9ced914f"
      },
      "source": [
        "### Smoothing\n",
        "As we saw above, due to having new pair of consecutive words in the test dataset, we might have zero probabilities for some sequences. Therefore, as discussed in the lectures, in order to have a meaningful perplexity for N-gram language models, we need to smooth the probabilities to have non-zero values for non-seen sequences. In this exercise, we use Laplace smoothing as defined below:\n",
        "$$P(x_i|x_{i-1}) = \\frac{count(x_{i-1},~x_i) + \\alpha}{count(x_{i-1}) + \\alpha ~|V|}$$\n",
        ", where $\\alpha$ is the smoothing parameter, and $|V|$ is the (train dataset) vocabulary size.\n",
        "\n",
        "#### Let's recompute the conditional probabilities using Laplace smoothing."
      ]
    },
    {
      "cell_type": "code",
      "execution_count": null,
      "id": "5d808944",
      "metadata": {
        "id": "5d808944"
      },
      "outputs": [],
      "source": [
        "def get_smoothed_first_order_conditional_probabilities(train_dataset: datasets.arrow_dataset.Dataset,\n",
        "                                                       smoothing_alpha: float):\n",
        "    '''\n",
        "    In this function the conditional probabilities have to be computed based on train_dataset. The output\n",
        "    of the function is a dictionary having keys like (x_{i-1}, x_i) as a tuple and the\n",
        "    value being p(x_i|x_{i-1}).\n",
        "    args:\n",
        "        train_dataset: a Dataset object that can be iterated to get all the sentences\n",
        "        smoothing_alpha: The alpha parameter used in the Laplace smoothing.\n",
        "    output:\n",
        "        word_prob_dict: a dictionary containing the word probabilities\n",
        "        first_order_condition_prob: a dictionary containing the smoothed first order\n",
        "                                    conditional probabilities as discussed above.\n",
        "    '''\n",
        "    first_order_condition_prob = defaultdict(float)  # Note that we shouldn't get zeros for unseen events.\n",
        "    # let's first get the word probabilities (later used for computation of conditional probabilities)\n",
        "    word_prob_dict = get_word_probability_dict(train_dataset)\n",
        "\n",
        "\n",
        "    # YOUR CODE here\n",
        "    all_tokens = \" \".join([i[\"sentence\"] for i in train_dataset]).split()\n",
        "    word_frequency_dict = Counter(all_tokens)\n",
        "    vocab_size = len(word_frequency_dict)\n",
        "    # now let's create all the bigrams in the train_dataset\n",
        "    all_bigrams = []\n",
        "    for sample in train_dataset:\n",
        "        token_list = sample[\"sentence\"].split()\n",
        "        sample_bigrams = [(s1, s2) for s1, s2 in zip(token_list, token_list[1:])]\n",
        "        all_bigrams += sample_bigrams\n",
        "    bigram_frequency_dict = Counter(all_bigrams)\n",
        "\n",
        "    first_order_condition_prob = defaultdict(\n",
        "        float, {(w1,w2): (bigram_freq+smoothing_alpha)/(word_frequency_dict[w1] + smoothing_alpha*vocab_size)\n",
        "                for (w1,w2), bigram_freq in bigram_frequency_dict.items()})\n",
        "\n",
        "    return word_prob_dict, first_order_condition_prob"
      ]
    },
    {
      "cell_type": "code",
      "execution_count": null,
      "id": "3008240c",
      "metadata": {
        "id": "3008240c"
      },
      "outputs": [],
      "source": [
        "def smoothed_bigram_lm_seq_probability(input_sentence: str,\n",
        "                                       word_prob_dict: dict,\n",
        "                                       word_frequency_dict: dict,\n",
        "                                       first_order_condition_prob: dict,\n",
        "                                       smoothing_alpha: float):\n",
        "    '''\n",
        "    args:\n",
        "        input_sentence: The input sequence string. Here we assume\n",
        "        word_prob_dict: a dictionary containing the word probabilities\n",
        "        word_frequency_dict: a dictionary containing the frequency for every word in vocabulary\n",
        "        first_order_condition_prob: a dictionary containing the first order conditional probabilities\n",
        "                                    as discussed in the previous function.\n",
        "        smoothing_alpha: The alpha parameter used in the Laplace smoothing.\n",
        "    output:\n",
        "        probability: The probability of the input_sentence according to the Bi-gram language model\n",
        "    '''\n",
        "    tokens = input_sentence.split()\n",
        "    bigrams = [(s1, s2) for s1, s2 in zip(tokens, tokens[1:])]\n",
        "    vocab_size = len(word_prob_dict)\n",
        "    probability = np.prod(\n",
        "        [word_prob_dict[tokens[0]]] + [first_order_condition_prob.get(\n",
        "            bigram, smoothing_alpha/(word_frequency_dict[bigram[0]] + smoothing_alpha*vocab_size))\n",
        "                                           for bigram in bigrams])\n",
        "    return probability"
      ]
    },
    {
      "cell_type": "markdown",
      "id": "4cd77e6c",
      "metadata": {
        "id": "4cd77e6c"
      },
      "source": [
        "#### Assuming $\\alpha=0.01$ for the smoothing, use the previous function and `bigram_lm_seq_probability` to compute the sequence probabilities for all the sentences in the `ptb_test` dataset."
      ]
    },
    {
      "cell_type": "code",
      "execution_count": null,
      "id": "e2c76c94",
      "metadata": {
        "id": "e2c76c94",
        "colab": {
          "base_uri": "https://localhost:8080/"
        },
        "outputId": "d91dd244-a308-4138-eb9d-81622e25854c"
      },
      "outputs": [
        {
          "output_type": "stream",
          "name": "stdout",
          "text": [
            "0.0% of samples in the test set have zero probability!\n"
          ]
        }
      ],
      "source": [
        "smoothed_bigram_test_probabilities = []\n",
        "\n",
        "word_frequency_dict = Counter(\" \".join([i[\"sentence\"] for i in ptb_train]).split())\n",
        "(word_prob_dict, smoothed_first_order_condition_prob) = get_smoothed_first_order_conditional_probabilities(ptb_train, 0.01)\n",
        "smoothed_bigram_test_probabilities = [\n",
        "    smoothed_bigram_lm_seq_probability(\n",
        "        input_sentence=sample[\"sentence\"],\n",
        "        word_prob_dict=word_prob_dict,\n",
        "        word_frequency_dict=word_frequency_dict,\n",
        "        first_order_condition_prob=smoothed_first_order_condition_prob,\n",
        "        smoothing_alpha=0.01)\n",
        "    for sample in ptb_test]\n",
        "\n",
        "print(f\"{smoothed_bigram_test_probabilities.count(0)/len(ptb_test)*100}% of samples in the test set have zero probability!\")"
      ]
    },
    {
      "cell_type": "markdown",
      "id": "8f8b38b8",
      "metadata": {
        "id": "8f8b38b8"
      },
      "source": [
        "If the perplexity for a given sequence is computed as below, compute the Bigram language model perplexity over `ptb_test` dataset over all the sentences ($\\alpha=0.01)$:\n",
        "$$Perplexity(x_1x_2...x_n) = p(x_1x_2...x_n)^{-1/n}$$\n",
        ", where $p(x_1x_2...x_n)$ is the probability assigned to $x_1x_2...x_n$ sequence by the language model."
      ]
    },
    {
      "cell_type": "code",
      "execution_count": null,
      "id": "7e3665f1",
      "metadata": {
        "id": "7e3665f1",
        "colab": {
          "base_uri": "https://localhost:8080/"
        },
        "outputId": "b0cb8ee5-4514-4ffa-b894-93533daa59cd"
      },
      "outputs": [
        {
          "output_type": "stream",
          "name": "stdout",
          "text": [
            "Bigram language model perplexity is 304.0188984456335\n"
          ]
        }
      ],
      "source": [
        "bigram_lm_perplexity = -1\n",
        "# YOUR CODE HERE\n",
        "log_perplex_list = []\n",
        "for idx in range(len(ptb_test)):\n",
        "    sentence_prob = smoothed_bigram_test_probabilities[idx]\n",
        "    if sentence_prob==0:\n",
        "        continue\n",
        "    sentence_length = len(ptb_test[idx][\"sentence\"].split())\n",
        "    log_perplex_list.append(-np.log2(sentence_prob)/sentence_length)\n",
        "bigram_lm_perplexity = 2**np.mean(log_perplex_list)\n",
        "\n",
        "\n",
        "print(f\"Bigram language model perplexity is {bigram_lm_perplexity}\")"
      ]
    },
    {
      "cell_type": "markdown",
      "id": "edd753ef",
      "metadata": {
        "id": "edd753ef"
      },
      "source": [
        "Repeat the same steps but for `cleaned_train_dataset` and `cleaned_test_dataset` datasets where rare tokens (with frequency less than 10) are replaced with `<unk>` token. Do we have a better or a worse perplexity compared to the previous computed perplexity?"
      ]
    },
    {
      "cell_type": "code",
      "execution_count": null,
      "id": "92b98f8b",
      "metadata": {
        "id": "92b98f8b",
        "colab": {
          "base_uri": "https://localhost:8080/"
        },
        "outputId": "64aa6c24-3e61-4e3d-f37a-b6443a3c4d09"
      },
      "outputs": [
        {
          "output_type": "stream",
          "name": "stdout",
          "text": [
            "(cleaned) Bigram language model perplexity is 186.1614783700363\n"
          ]
        }
      ],
      "source": [
        "# YOUR CODE HERE\n",
        "cleaned_word_frequency_dict = Counter(\" \".join([i[\"sentence\"] for i in cleaned_train_dataset]).split())\n",
        "(cleaned_word_prob_dict,\n",
        "    cleaned_smoothed_first_order_condition_prob) = get_smoothed_first_order_conditional_probabilities(cleaned_train_dataset,\n",
        "                                                                                                      0.01)\n",
        "cleaned_smoothed_bigram_test_probabilities = [\n",
        "    smoothed_bigram_lm_seq_probability(\n",
        "        input_sentence=sample[\"sentence\"],\n",
        "        word_prob_dict=cleaned_word_prob_dict,\n",
        "        word_frequency_dict=cleaned_word_frequency_dict,\n",
        "        first_order_condition_prob=cleaned_smoothed_first_order_condition_prob,\n",
        "        smoothing_alpha=0.01)\n",
        "    for sample in cleaned_test_dataset]\n",
        "\n",
        "\n",
        "# YOUR CODE HERE\n",
        "log_perplex_list = []\n",
        "for idx in range(len(cleaned_test_dataset)):\n",
        "    sentence_prob = cleaned_smoothed_bigram_test_probabilities[idx]\n",
        "    if sentence_prob==0:\n",
        "        continue\n",
        "    sentence_length = len(cleaned_test_dataset[idx][\"sentence\"].split())\n",
        "    log_perplex_list.append(-np.log2(sentence_prob)/sentence_length)\n",
        "cleaned_bigram_lm_perplexity = 2**np.mean(log_perplex_list)\n",
        "\n",
        "print(f\"(cleaned) Bigram language model perplexity is {cleaned_bigram_lm_perplexity}\")"
      ]
    },
    {
      "cell_type": "markdown",
      "id": "e2ea844a",
      "metadata": {
        "id": "e2ea844a"
      },
      "source": [
        "## 1.3 Tri-gram Language Model <a name='trigram_lm'></a>\n",
        "In the Tri-gram language model, we pick/generate next token conditioned only on the two previous tokens. Therefore, for an arbitrary sequence $x_1x_2~...x_n$, its respective probability becomes:\n",
        "$$p(x_1x_2~...x_n) = p(x_1) p(x_2|x_1) ~\\Pi_{i=3} ^n p(x_i|x_{i-2}x_{i-1})$$\n",
        "Let's use the same dataset (`Penn Treebank`) to evaluate this model's perplexity. (We use the dataset that already has the `<stop>` token at the end of each sentence).\n",
        "\n",
        "\n",
        "We estimate $p(x_i|x_{i-1}x_{i-2})$ using the Laplace smoothing with $\\alpha=3 \\cdot 10^{-3}$. First let's write a function that computes these conditional probabilities for the Tri-gram language model."
      ]
    },
    {
      "cell_type": "code",
      "execution_count": null,
      "id": "abdf0b35",
      "metadata": {
        "id": "abdf0b35"
      },
      "outputs": [],
      "source": [
        "def get_smoothed_second_order_conditional_probabilities(train_dataset: datasets.arrow_dataset.Dataset,\n",
        "                                                        smoothing_alpha: float):\n",
        "    '''\n",
        "    In this function the conditional probabilities have to be computed based on train_dataset. The output\n",
        "    of the function is a dictionary having keys like (x_{i-2}, x_{i-1}, x_i) as a tuple and the\n",
        "    value being p(x_i | x_{i-2} x_{i-1}).\n",
        "    args:\n",
        "        train_dataset: a Dataset object that can be iterated to get all the sentences\n",
        "        smoothing_alpha: The alpha parameter used in the Laplace smoothing.\n",
        "    output:\n",
        "        word_prob_dict: a dictionary containing the word probabilities\n",
        "        first_order_condition_prob: a dictionary containing the smoothed first order\n",
        "                                    conditional probabilities.\n",
        "        second_order_condition_prob: a dictionary containing the smoothed second order\n",
        "                                     conditional probabilities.\n",
        "    '''\n",
        "    smoothed_second_order_condition_prob = defaultdict(float)  # Note that we shouldn't get zeros for unseen probabilies.\n",
        "\n",
        "    # let's first get the 0th and 1st order conditional probabilities\n",
        "    (word_prob_dict, first_order_condition_prob) = get_smoothed_first_order_conditional_probabilities(\n",
        "        train_dataset, smoothing_alpha)\n",
        "\n",
        "    # YOUR CODE HERE\n",
        "    all_tokens = \" \".join([i[\"sentence\"] for i in train_dataset]).split()\n",
        "    word_frequency_dict = Counter(all_tokens)\n",
        "    vocab_size = len(word_frequency_dict)\n",
        "    # now let's create all the bigrams in the train_dataset\n",
        "    all_bigrams = []\n",
        "    for sample in train_dataset:\n",
        "        token_list = sample[\"sentence\"].split()\n",
        "        sample_bigrams = [(s1, s2) for s1, s2 in zip(token_list, token_list[1:])]\n",
        "        all_bigrams += sample_bigrams\n",
        "    bigram_frequency_dict = Counter(all_bigrams)\n",
        "\n",
        "    # now let's create all the trigrams in the train_dataset\n",
        "    all_trigrams = []\n",
        "    for sample in train_dataset:\n",
        "        token_list = sample[\"sentence\"].split()\n",
        "        sample_trigrams = [(s1, s2, s3) for s1,s2,s3 in zip(token_list, token_list[1:], token_list[2:])]\n",
        "        all_trigrams += sample_trigrams\n",
        "    trigram_frequency_dict = Counter(all_trigrams)\n",
        "\n",
        "    smoothed_second_order_condition_prob = defaultdict(\n",
        "        float, {(w1,w2,w3): (trigram_freq+smoothing_alpha)/(bigram_frequency_dict[(w1,w2)] +\n",
        "                                                           smoothing_alpha*vocab_size)\n",
        "                for (w1,w2,w3), trigram_freq in trigram_frequency_dict.items()})\n",
        "\n",
        "\n",
        "    return word_prob_dict, first_order_condition_prob, smoothed_second_order_condition_prob"
      ]
    },
    {
      "cell_type": "markdown",
      "id": "936a664f",
      "metadata": {
        "id": "936a664f"
      },
      "source": [
        "#### Now let's analyze the Tri-gram language model for different sequences. We first create a function that can output the probability for a given string."
      ]
    },
    {
      "cell_type": "code",
      "execution_count": null,
      "id": "3f6a692c",
      "metadata": {
        "id": "3f6a692c"
      },
      "outputs": [],
      "source": [
        "def smoothed_trigram_lm_seq_probability(input_sentence: str,\n",
        "                                        word_prob_dict: dict,\n",
        "                                        word_frequency_dict: dict,\n",
        "                                        bigram_frequency_dict: dict,\n",
        "                                        first_order_condition_prob: dict,\n",
        "                                        second_order_condition_prob: dict,\n",
        "                                        smoothing_alpha: float):\n",
        "    '''\n",
        "    args:\n",
        "        input_sentence: The input sequence string. Here we assume\n",
        "        word_prob_dict: a dictionary containing the word probabilities\n",
        "        word_frequency_dict: a dictionary containing the frequency for every word in vocabulary\n",
        "        bigram_frequency_dict: a dictionary containing the frequency for every bigram in vocabulary\n",
        "        first_order_condition_prob: a dictionary containing the first order conditional probabilities\n",
        "                                    as discussed earlier.\n",
        "        second_order_condition_prob: a dictionary containing the second order conditional probabilities\n",
        "                                     as discussed in the previous function.\n",
        "    output:\n",
        "        probability: The probability of the input_sentence according to the Bi-gram language model\n",
        "    '''\n",
        "\n",
        "    # YOUR CODE HERE\n",
        "    vocab_size = len(word_prob_dict)\n",
        "    token_list = input_sentence.split()\n",
        "    bigram_list = [(s1, s2) for s1, s2 in zip(token_list, token_list[1:])]\n",
        "    trigram_list = [(s1, s2, s3) for s1, s2, s3 in zip(token_list, token_list[1:], token_list[2:])]\n",
        "    probability = np.prod(\n",
        "        [word_prob_dict[token_list[0]]] + [first_order_condition_prob.get(\n",
        "            bigram_list[0], smoothing_alpha / (word_frequency_dict[bigram_list[0][0]] +\n",
        "                                               smoothing_alpha * vocab_size))] + [\n",
        "            second_order_condition_prob.get(trigram,\n",
        "                                            smoothing_alpha / (bigram_frequency_dict[trigram[:2]] +\n",
        "                                                               smoothing_alpha * vocab_size))\n",
        "            for trigram in trigram_list])\n",
        "\n",
        "\n",
        "    return probability"
      ]
    },
    {
      "cell_type": "markdown",
      "id": "16865742",
      "metadata": {
        "id": "16865742"
      },
      "source": [
        "#### Now let's compute the probability for sequences in the test dataset, assuming $\\alpha=3\\cdot10^{-3}$ has been used in the Laplace smoothing."
      ]
    },
    {
      "cell_type": "code",
      "execution_count": null,
      "id": "36feefd8",
      "metadata": {
        "id": "36feefd8",
        "colab": {
          "base_uri": "https://localhost:8080/"
        },
        "outputId": "3b1fad9b-3d86-4c23-fcbb-cf57177c73dc"
      },
      "outputs": [
        {
          "output_type": "stream",
          "name": "stdout",
          "text": [
            "0.0% of samples in the test set have zero probability!\n"
          ]
        }
      ],
      "source": [
        "smoothed_trigram_test_probabilities = []\n",
        "\n",
        "# YOUR CODE HERE\n",
        "word_frequency_dict = Counter(\" \".join([i[\"sentence\"] for i in ptb_train]).split())\n",
        "\n",
        "all_bigrams = []\n",
        "for sample in ptb_train:\n",
        "    token_list = sample[\"sentence\"].split()\n",
        "    sample_bigrams = [(s1, s2) for s1, s2 in zip(token_list, token_list[1:])]\n",
        "    all_bigrams += sample_bigrams\n",
        "bigram_frequency_dict = Counter(all_bigrams)\n",
        "\n",
        "(word_prob_dict,\n",
        " smoothed_first_order_condition_prob,\n",
        " smoothed_second_order_condition_prob) = get_smoothed_second_order_conditional_probabilities(ptb_train, 3e-3)\n",
        "\n",
        "\n",
        "smoothed_trigram_test_probabilities = [\n",
        "    smoothed_trigram_lm_seq_probability(\n",
        "        input_sentence=sample[\"sentence\"],\n",
        "        word_prob_dict=word_prob_dict,\n",
        "        word_frequency_dict=word_frequency_dict,\n",
        "        bigram_frequency_dict=bigram_frequency_dict,\n",
        "        first_order_condition_prob=smoothed_first_order_condition_prob,\n",
        "        second_order_condition_prob=smoothed_second_order_condition_prob,\n",
        "        smoothing_alpha=3e-3)\n",
        "    for sample in ptb_test]\n",
        "\n",
        "\n",
        "print(f\"{smoothed_trigram_test_probabilities.count(0)/len(ptb_test)*100}% of samples in the test set have zero probability!\")\n"
      ]
    },
    {
      "cell_type": "markdown",
      "id": "26ddd040",
      "metadata": {
        "id": "26ddd040"
      },
      "source": [
        "Now we compute the perplexity on the `ptb_test` dataset for the tri-gram language model."
      ]
    },
    {
      "cell_type": "code",
      "execution_count": null,
      "id": "25ed3d70",
      "metadata": {
        "id": "25ed3d70",
        "colab": {
          "base_uri": "https://localhost:8080/"
        },
        "outputId": "d84b0b76-7cbf-4bd3-fabe-7fd892cf54ba"
      },
      "outputs": [
        {
          "output_type": "stream",
          "name": "stdout",
          "text": [
            "Trigram language model perplexity is 967.0855127667662\n"
          ]
        }
      ],
      "source": [
        "Trigram_lm_perplexity = -1\n",
        "# YOUR CODE HERE\n",
        "log_perplex_list = []\n",
        "for idx in range(len(ptb_test)):\n",
        "    sentence_prob = smoothed_trigram_test_probabilities[idx]\n",
        "    if sentence_prob==0:\n",
        "        continue\n",
        "    sentence_length = len(ptb_test[idx][\"sentence\"].split())\n",
        "    log_perplex_list.append(-np.log2(sentence_prob)/sentence_length)\n",
        "Trigram_lm_perplexity = 2**np.mean(log_perplex_list)\n",
        "\n",
        "print(f\"Trigram language model perplexity is {Trigram_lm_perplexity}\")"
      ]
    },
    {
      "cell_type": "markdown",
      "id": "e34c59c8",
      "metadata": {
        "id": "e34c59c8"
      },
      "source": [
        "Repeat the same steps but for `cleaned_train_dataset` and `cleaned_test_dataset` datasets where rare tokens (with frequency less than 10) are replaced with `<unk>` token. Do we have a better or a worse perplexity compared to the previous computed perplexity?"
      ]
    },
    {
      "cell_type": "code",
      "execution_count": null,
      "id": "41b456be",
      "metadata": {
        "id": "41b456be",
        "colab": {
          "base_uri": "https://localhost:8080/"
        },
        "outputId": "998e0f35-d9ab-4375-b8ee-727ace8ca989"
      },
      "outputs": [
        {
          "output_type": "stream",
          "name": "stdout",
          "text": [
            "(cleaned) Trigram language model perplexity is 511.4526616266122\n"
          ]
        }
      ],
      "source": [
        "# YOUR CODE HERE\n",
        "cleaned_word_frequency_dict = Counter(\" \".join([i[\"sentence\"] for i in cleaned_train_dataset]).split())\n",
        "\n",
        "all_bigrams = []\n",
        "for sample in cleaned_train_dataset:\n",
        "    token_list = sample[\"sentence\"].split()\n",
        "    sample_bigrams = [(s1, s2) for s1, s2 in zip(token_list, token_list[1:])]\n",
        "    all_bigrams += sample_bigrams\n",
        "cleaned_bigram_frequency_dict = Counter(all_bigrams)\n",
        "\n",
        "(cleaned_word_prob_dict,\n",
        " cleaned_first_order_condition_prob,\n",
        " cleaned_second_order_condition_prob\n",
        ") = get_smoothed_second_order_conditional_probabilities(cleaned_train_dataset, 3e-3)\n",
        "\n",
        "\n",
        "cleaned_smoothed_trigram_test_probabilities = [\n",
        "    smoothed_trigram_lm_seq_probability(\n",
        "        input_sentence=sample[\"sentence\"],\n",
        "        word_prob_dict=cleaned_word_prob_dict,\n",
        "        word_frequency_dict=cleaned_word_frequency_dict,\n",
        "        bigram_frequency_dict=cleaned_bigram_frequency_dict,\n",
        "        first_order_condition_prob=cleaned_first_order_condition_prob,\n",
        "        second_order_condition_prob=cleaned_second_order_condition_prob,\n",
        "        smoothing_alpha=3e-3)\n",
        "    for sample in cleaned_test_dataset]\n",
        "\n",
        "\n",
        "log_perplex_list = []\n",
        "for idx in range(len(cleaned_test_dataset)):\n",
        "    sentence_prob = cleaned_smoothed_trigram_test_probabilities[idx]\n",
        "    if sentence_prob==0:\n",
        "        continue\n",
        "    sentence_length = len(cleaned_test_dataset[idx][\"sentence\"].split())\n",
        "    log_perplex_list.append(-np.log2(sentence_prob)/sentence_length)\n",
        "cleaned_Trigram_lm_perplexity = 2**np.mean(log_perplex_list)\n",
        "\n",
        "print(f\"(cleaned) Trigram language model perplexity is {cleaned_Trigram_lm_perplexity}\")\n"
      ]
    },
    {
      "cell_type": "markdown",
      "id": "2d8e69cc",
      "metadata": {
        "id": "2d8e69cc"
      },
      "source": [
        "#### Discussion\n",
        "Perplexity is a metric that tells you how many word the model will missgenerate on average.\n",
        " - How are the three discussed models performance compare to each other?\n",
        "\n",
        " Bigram performs the best.\n",
        " - What is the cost of using N-gram language models for even larger N values?\n",
        "\n",
        " ???\n",
        " - What is the effect of vocabulary size on models' perplexities? Can we compare models with different vocabulary sizes?\n",
        "\n",
        " No. Different vocabular sizes result in:\n",
        " 1. different probabilities\n",
        " 2. different smoothings\n",
        " - What is the perplexity of a language model (vocabulary size of |V|) that given any context (i.e., $x_1 x_2 ... x_{n-1}$) assigns uniform probabilities (for all the tokens in the vocabulary) for the next token?\n",
        "\n",
        " equal to the vocab size\n"
      ]
    },
    {
      "cell_type": "markdown",
      "id": "641578b1",
      "metadata": {
        "id": "641578b1"
      },
      "source": [
        "## 2. Task B: Neural Language Models <a name='neural_lm'></a>\n",
        "\n",
        "In this exercise, we will better understand the functioning of some simple neural language models. We first start with a fixed-window neural language model. In the following subsection, we will investigate an RNN-based language model."
      ]
    },
    {
      "cell_type": "markdown",
      "id": "88cee765",
      "metadata": {
        "id": "88cee765"
      },
      "source": [
        "### 2.1 Fixed-Window Neural Language Model <a name='fixed_window_lm'></a>\n",
        "This language model take as input a constant number of tokens, and then outputs a probability distribution for the next token. In this section, we assume the underlying model is a Multi-layer Perceptron (MLP) with a single hidden layer. This model doesn't have the sparsity issue of N-gram language models, but is always limited to a fixed window of tokens.\n",
        "\n",
        "In this section, we don't include the training of the model but rather we use a pretrained model on the same training dataset. We evaluate the language model over the `ptb_test` dataset, to show the power of neural language models, when compared to N-gram language models.\n",
        "\n",
        "More importantly, we use PyTorch modules in this section, so that you get more familiar with its capabilities. Throughout this exercise, we use a `window_size=3` for this model.\n",
        "\n"
      ]
    },
    {
      "cell_type": "markdown",
      "id": "6808da1e",
      "metadata": {
        "id": "6808da1e"
      },
      "source": [
        "Let's first create a dataset of all consecutive tokens of length `window_size` from the `ptb_train` dataset. you can read more about PyTorch datasets and how to create a custom dataset  [here](https://pytorch.org/tutorials/beginner/basics/data_tutorial.html#creating-a-custom-dataset-for-your-files)."
      ]
    },
    {
      "cell_type": "code",
      "source": [
        "!wget 'https://github.com/epfl-nlp/cs-552-modern-nlp/raw/main/Exercises/Week%202%20-%20N-gram%20&%20Neural%20Language%20Models/fixed_window_model.pt'"
      ],
      "metadata": {
        "colab": {
          "base_uri": "https://localhost:8080/"
        },
        "id": "FSlNjEWlEoR2",
        "outputId": "ec152206-a947-4073-ee77-144a0e948c3d"
      },
      "id": "FSlNjEWlEoR2",
      "execution_count": null,
      "outputs": [
        {
          "output_type": "stream",
          "name": "stdout",
          "text": [
            "--2024-03-09 23:29:24--  https://github.com/epfl-nlp/cs-552-modern-nlp/raw/main/Exercises/Week%202%20-%20N-gram%20&%20Neural%20Language%20Models/fixed_window_model.pt\n",
            "Resolving github.com (github.com)... 140.82.113.3\n",
            "Connecting to github.com (github.com)|140.82.113.3|:443... connected.\n",
            "HTTP request sent, awaiting response... 302 Found\n",
            "Location: https://raw.githubusercontent.com/epfl-nlp/cs-552-modern-nlp/main/Exercises/Week%202%20-%20N-gram%20%26%20Neural%20Language%20Models/fixed_window_model.pt [following]\n",
            "--2024-03-09 23:29:24--  https://raw.githubusercontent.com/epfl-nlp/cs-552-modern-nlp/main/Exercises/Week%202%20-%20N-gram%20%26%20Neural%20Language%20Models/fixed_window_model.pt\n",
            "Resolving raw.githubusercontent.com (raw.githubusercontent.com)... 185.199.111.133, 185.199.110.133, 185.199.109.133, ...\n",
            "Connecting to raw.githubusercontent.com (raw.githubusercontent.com)|185.199.111.133|:443... connected.\n",
            "HTTP request sent, awaiting response... 200 OK\n",
            "Length: 8162472 (7.8M) [application/octet-stream]\n",
            "Saving to: ‘fixed_window_model.pt’\n",
            "\n",
            "fixed_window_model. 100%[===================>]   7.78M  --.-KB/s    in 0.09s   \n",
            "\n",
            "2024-03-09 23:29:24 (88.6 MB/s) - ‘fixed_window_model.pt’ saved [8162472/8162472]\n",
            "\n"
          ]
        }
      ]
    },
    {
      "cell_type": "code",
      "execution_count": null,
      "id": "70f5c3bf",
      "metadata": {
        "id": "70f5c3bf"
      },
      "outputs": [],
      "source": [
        "from torch.utils.data import Dataset, DataLoader\n",
        "\n",
        "window_size = 3\n",
        "vocabulary_size = 10000\n",
        "word_emb_dim = 100\n",
        "hidden_dim = 100\n",
        "\n",
        "\n",
        "class FixedWindowDataset(Dataset):\n",
        "    # read more about custom datasets at https://pytorch.org/tutorials/beginner/basics/data_tutorial.html\n",
        "    def __init__(self,\n",
        "                 train_dataset: datasets.arrow_dataset.Dataset,\n",
        "                 test_dataset: datasets.arrow_dataset.Dataset,\n",
        "                 window_size: int,\n",
        "                 vocabulary_size: int\n",
        "                ):\n",
        "        self.prepared_train_dataset = self.prepare_fixed_window_lm_dataset(train_dataset, window_size + 1)\n",
        "        self.prepared_test_dataset = self.prepare_fixed_window_lm_dataset(test_dataset, window_size + 1)\n",
        "\n",
        "        dataset_vocab = self.get_dataset_vocabulary(train_dataset)\n",
        "        # defining a dictionary that simply maps tokens to their respective index in the embedding matrix\n",
        "        self.word_to_index = {word: idx for idx,word in enumerate(dataset_vocab)}\n",
        "        self.index_to_word = {idx: word for idx,word in enumerate(dataset_vocab)}\n",
        "\n",
        "        assert vocabulary_size >= len(dataset_vocab) , f\"The dataset vocab size is {len(dataset_vocab)}!\"\n",
        "\n",
        "    def __len__(self):\n",
        "        return len(self.prepared_train_dataset)\n",
        "\n",
        "    def get_encoded_test_samples(self):\n",
        "        all_token_lists = [sample.split() for sample in self.prepared_test_dataset]\n",
        "        all_token_ids = [[self.word_to_index.get(word, self.word_to_index[\"<unk>\"])\n",
        "                          for word in token_list[:-1]]\n",
        "                         for token_list in all_token_lists\n",
        "                        ]\n",
        "        all_next_token_ids = [self.word_to_index.get(token_list[-1], self.word_to_index[\"<unk>\"]) for\n",
        "                              token_list in all_token_lists]\n",
        "        return torch.tensor(all_token_ids), torch.tensor(all_next_token_ids)\n",
        "\n",
        "    def __getitem__(self, idx):\n",
        "        # here we need to transform the data to the format we expect at the model input\n",
        "        token_list = self.prepared_train_dataset[idx].split()\n",
        "        # having a fallback to <unk> token if an unseen word is encoded.\n",
        "        token_ids = [self.word_to_index.get(word, self.word_to_index[\"<unk>\"]) for word in token_list[:-1]]\n",
        "        next_token_id = self.word_to_index.get(token_list[-1], self.word_to_index[\"<unk>\"])\n",
        "        return torch.tensor(token_ids), torch.tensor(next_token_id)\n",
        "\n",
        "    def decode_idx_to_word(self, token_id):\n",
        "        return [self.index_to_word[id_.item()] for id_ in token_id]\n",
        "\n",
        "    def get_dataset_vocabulary(self, train_dataset: datasets.arrow_dataset.Dataset):\n",
        "        vocab = sorted(set(\" \".join([sample[\"sentence\"] for sample in train_dataset]).split()))\n",
        "        # we also add a <start> token to include initial tokens in the sentences in the dataset\n",
        "        vocab += [\"<start>\"]\n",
        "        return vocab\n",
        "\n",
        "    @staticmethod\n",
        "    def prepare_fixed_window_lm_dataset(target_dataset: datasets.arrow_dataset.Dataset,\n",
        "                                        window_size: int):\n",
        "        '''\n",
        "        Please note that for the very first tokens, they will be added like \"<start> <start> Token#1\".\n",
        "        args:\n",
        "            target_dataset: the target dataset where its consecutive tokens of length 'window_size' should be extracted\n",
        "            window_size: the window size for the language model\n",
        "        output:\n",
        "            prepared_dataset: a list of strings each containing 'window_size' tokens.\n",
        "        '''\n",
        "\n",
        "        prepared_dataset = []\n",
        "\n",
        "        # YOUR CODE HERE\n",
        "        prepared_dataset = []\n",
        "        for sample in target_dataset:\n",
        "            temp_token_list = sample[\"sentence\"].split()\n",
        "            if len(temp_token_list) < window_size:\n",
        "                continue\n",
        "            else:\n",
        "                for dx in range(1, window_size):\n",
        "                    prepared_dataset.append( \" \".join([\"<start>\"] * (window_size - dx) + temp_token_list[:dx]) )\n",
        "                for dx in range(len(temp_token_list) - window_size + 1):\n",
        "                    # sliding a window over the string tokens\n",
        "                    prepared_dataset.append(\" \".join(temp_token_list[dx: dx+window_size]) )\n",
        "\n",
        "        return prepared_dataset\n",
        "\n"
      ]
    },
    {
      "cell_type": "code",
      "execution_count": null,
      "id": "524f4a18",
      "metadata": {
        "id": "524f4a18"
      },
      "outputs": [],
      "source": [
        "fixed_window_dataset = FixedWindowDataset(ptb_train, ptb_test, window_size, vocabulary_size)\n",
        "\n",
        "# let's create a simple dataloader for this dataset\n",
        "train_dataloader =  DataLoader(fixed_window_dataset, batch_size=8, shuffle=True)"
      ]
    },
    {
      "cell_type": "markdown",
      "id": "5b44e90d",
      "metadata": {
        "id": "5b44e90d"
      },
      "source": [
        "Now, let's define the underlying PyTorch model for the language model. You can read more about PyTorch models [here](https://pytorch.org/tutorials/beginner/introyt/modelsyt_tutorial.html).\n",
        "\n",
        "**Note**: Here in the forward pass, we compute the negative log-likelihood after passing through the MLP layers. Here we use `torch.nn.LogSoftmax`, as it's numerically more stable than doing seperately `softmax` followed by taking its logarithm."
      ]
    },
    {
      "cell_type": "code",
      "execution_count": null,
      "id": "e3ea691f",
      "metadata": {
        "id": "e3ea691f"
      },
      "outputs": [],
      "source": [
        "import torch.optim as optim\n",
        "\n",
        "class Fixed_window_language_model(torch.nn.Module):\n",
        "    def __init__(self, emb_dim, hidden_dim, window_size, vocab_size=10000):\n",
        "        super().__init__()\n",
        "\n",
        "        self.window_size = window_size\n",
        "        self.emb_dim = emb_dim\n",
        "        self.word_embeddings = torch.nn.Embedding(vocab_size, emb_dim) # word embeddings\n",
        "        self.linear1 = torch.nn.Linear(window_size * emb_dim, hidden_dim) # first linear layer\n",
        "        self.activation_func = torch.tanh # the activation function\n",
        "        self.linear2 = torch.nn.Linear(hidden_dim, vocab_size) # second linear layer\n",
        "\n",
        "        self.log_softmax = torch.nn.LogSoftmax(dim=1)\n",
        "        self.criterion = torch.nn.NLLLoss()\n",
        "\n",
        "    def forward(self, input_ids, labels):\n",
        "        inputs_embeds = self.word_embeddings(input_ids)\n",
        "        concat_input_embed = inputs_embeds.reshape(-1, self.emb_dim * self.window_size)\n",
        "        hidden_state = self.activation_func( self.linear1(concat_input_embed) )\n",
        "        logits = self.log_softmax( self.linear2(hidden_state) )\n",
        "        loss = self.criterion(logits, labels)\n",
        "\n",
        "        return loss\n"
      ]
    },
    {
      "cell_type": "markdown",
      "id": "4dae5397",
      "metadata": {
        "id": "4dae5397"
      },
      "source": [
        "Now let's see how easy it is to train a model with PyTorch! (we provide a trained model in the cell after train, so that you can just start using the model without going through the time-consuming training)"
      ]
    },
    {
      "cell_type": "code",
      "execution_count": null,
      "id": "93779901",
      "metadata": {
        "id": "93779901"
      },
      "outputs": [],
      "source": [
        "# defining the model\n",
        "model_fixed_window = Fixed_window_language_model(emb_dim=word_emb_dim, hidden_dim=hidden_dim,\n",
        "                                                 window_size=window_size, vocab_size=vocabulary_size)\n",
        "\n",
        "# defining the optimizer\n",
        "optimizer = optim.SGD(model_fixed_window.parameters(),\n",
        "                      lr=0.005,\n",
        "                      momentum=0.9)"
      ]
    },
    {
      "cell_type": "code",
      "execution_count": null,
      "id": "77626d29",
      "metadata": {
        "scrolled": true,
        "id": "77626d29"
      },
      "outputs": [],
      "source": [
        "# for epoch in range(2):  # loop over the dataset multiple times\n",
        "\n",
        "#     running_loss = 0.0\n",
        "#     for i, data in enumerate(train_dataloader):\n",
        "#         # get the inputs; data is a tuple of (context, target)\n",
        "#         context, target = data\n",
        "\n",
        "#         # zero the parameter gradients\n",
        "#         optimizer.zero_grad()\n",
        "\n",
        "#         # forward + backward + optimize\n",
        "#         loss = model_fixed_window(context, target)\n",
        "#         loss.backward()\n",
        "#         optimizer.step()\n",
        "\n",
        "#         # print statistics\n",
        "#         running_loss += loss.item()\n",
        "#         if i % 5000 == 4999. :    # print every 5000 mini-batches\n",
        "#             print(f'[{epoch + 1}, {i + 1:5d}] loss: {running_loss / 5000:.3f}')\n",
        "#             running_loss = 0.0\n",
        "\n",
        "# print('Finished Training')\n",
        "\n",
        "# saving the trained model\n",
        "# torch.save(model_fixed_window.state_dict(), \"fixed_window_model.pt\")"
      ]
    },
    {
      "cell_type": "code",
      "source": [
        "print(context[0])\n",
        "\n",
        "for i in range(len(context)):\n",
        "  print(f\"#Minibatch {i}\")\n",
        "  print(f\"context is: {fixed_window_dataset.decode_idx_to_word(context[i])}\")\n",
        "  print(f\"target is: {fixed_window_dataset.decode_idx_to_word([target[i]])}\")"
      ],
      "metadata": {
        "colab": {
          "base_uri": "https://localhost:8080/"
        },
        "id": "pH-a3PTHKnO_",
        "outputId": "e1a4ee9e-4a1c-4c83-9cc8-c3264f20ceab"
      },
      "id": "pH-a3PTHKnO_",
      "execution_count": null,
      "outputs": [
        {
          "output_type": "stream",
          "name": "stdout",
          "text": [
            "tensor([9116,  873, 2676])\n",
            "#Minibatch 0\n",
            "context is: ['to', 'be', 'discussed']\n",
            "target is: ['at']\n",
            "#Minibatch 1\n",
            "context is: ['could', 'be', 'taking']\n",
            "target is: ['place']\n",
            "#Minibatch 2\n",
            "context is: ['francs', 'and', 'N']\n",
            "target is: ['million']\n",
            "#Minibatch 3\n",
            "context is: ['defended', 'oliver', 'north']\n",
            "target is: ['before']\n",
            "#Minibatch 4\n",
            "context is: ['growth', 'while', 'other']\n",
            "target is: ['computer']\n",
            "#Minibatch 5\n",
            "context is: ['more', 'presidential', 'support']\n",
            "target is: ['<stop>']\n",
            "#Minibatch 6\n",
            "context is: ['extent', 'for', 'local']\n",
            "target is: ['investors']\n",
            "#Minibatch 7\n",
            "context is: ['the', 'goal', 'would']\n",
            "target is: ['be']\n"
          ]
        }
      ]
    },
    {
      "cell_type": "markdown",
      "id": "0483dd01",
      "metadata": {
        "id": "0483dd01"
      },
      "source": [
        "We provide a trained model, so that you can start using it right away"
      ]
    },
    {
      "cell_type": "code",
      "execution_count": null,
      "id": "54ba51b1",
      "metadata": {
        "id": "54ba51b1",
        "colab": {
          "base_uri": "https://localhost:8080/"
        },
        "outputId": "a0d3336b-96a3-40a7-a8af-71eec3ea26ea"
      },
      "outputs": [
        {
          "output_type": "execute_result",
          "data": {
            "text/plain": [
              "<All keys matched successfully>"
            ]
          },
          "metadata": {},
          "execution_count": 39
        }
      ],
      "source": [
        "fixed_window_checkpoint_file = \"fixed_window_model.pt\"\n",
        "model_fixed_window.load_state_dict(torch.load(fixed_window_checkpoint_file))"
      ]
    },
    {
      "cell_type": "code",
      "execution_count": null,
      "id": "b806f375",
      "metadata": {
        "id": "b806f375"
      },
      "outputs": [],
      "source": [
        "# context and 'target' ids (target is the next word after the context)\n",
        "test_token_ids, test_target_ids = fixed_window_dataset.get_encoded_test_samples()"
      ]
    },
    {
      "cell_type": "markdown",
      "id": "f87e283d",
      "metadata": {
        "id": "f87e283d"
      },
      "source": [
        "We now have the `test_token_ids`, `test_target_ids` tensors for the test dataset. The `test_token_ids` are the context ids and `test_target_ids` are the respective **next token** (a.k.a. target here) for these contexts.\n",
        "#### Using the trained model, implement a function that can output the loss for the discussed test dataset. How can we generally decide if the model is overfitted to the train dataset or not?"
      ]
    },
    {
      "cell_type": "code",
      "execution_count": null,
      "id": "e352e019",
      "metadata": {
        "id": "e352e019",
        "colab": {
          "base_uri": "https://localhost:8080/"
        },
        "outputId": "b3774102-cbc6-429a-95af-f5f4386c780b"
      },
      "outputs": [
        {
          "output_type": "stream",
          "name": "stdout",
          "text": [
            "Test dataset loss is 5.539917028697696\n"
          ]
        }
      ],
      "source": [
        "def generate_test_dataset_loss(model: torch.nn.Module,\n",
        "                               test_token_ids: torch.Tensor,\n",
        "                               test_target_ids: torch.Tensor):\n",
        "    '''\n",
        "    args:\n",
        "        model: fixed-window language model\n",
        "        test_token_ids: the context ids in a single tensor.\n",
        "        test_target_ids: the target ids (next token after the context) in a single tensor.\n",
        "    output:\n",
        "        avg_test_loss: The average loss of model over test dataset.\n",
        "    '''\n",
        "    batch_size = 4\n",
        "    test_loss = []\n",
        "\n",
        "\n",
        "    # YOUR CODE HERE\n",
        "\n",
        "    with torch.no_grad():\n",
        "        for data_idx in range(0, test_token_ids.shape[0], batch_size):\n",
        "            context_batch = test_token_ids[data_idx: data_idx + batch_size]\n",
        "            target = test_target_ids[data_idx: data_idx + batch_size]\n",
        "            batch_loss = model(context_batch, target)\n",
        "            test_loss.append(batch_loss.item())\n",
        "    avg_test_loss = np.array(test_loss).mean()\n",
        "\n",
        "    return avg_test_loss\n",
        "\n",
        "\n",
        "test_dataset_loss = generate_test_dataset_loss(model_fixed_window, test_token_ids, test_target_ids)\n",
        "print(f\"Test dataset loss is {test_dataset_loss}\")"
      ]
    },
    {
      "cell_type": "markdown",
      "id": "085d7476",
      "metadata": {
        "id": "085d7476"
      },
      "source": [
        "#### Using the trained fixed-window model, implement a function that can output entropy for a given sequence."
      ]
    },
    {
      "cell_type": "code",
      "execution_count": null,
      "id": "db54e454",
      "metadata": {
        "id": "db54e454"
      },
      "outputs": [],
      "source": [
        "def get_seqeuence_entropy_fixed_window_lm(model: torch.nn.Module,\n",
        "                                              input_sequence: str,\n",
        "                                              window_size: int,\n",
        "                                              word_to_idx: dict):\n",
        "    '''\n",
        "    Note that e.g., in order to get the first token probability, you need to pass a sequence\n",
        "    like \"<start> <start> <start>\" (prefix padding) to the neural model. In a similar fashion, we need to pass\n",
        "    \"<start> <start> TOKEN#1\" for getting the probability of the second token.\n",
        "    args:\n",
        "        model: fixed-window language model\n",
        "        input_sequence: the sequence for which we want to calculate the probability\n",
        "        window_size: the size of window for the language model\n",
        "        word_to_idx: a mapping from words to the embedding indices (to encode tokens before being\n",
        "                     passed to model). You can get this dict from 'fixed_window_dataset.word_to_index'\n",
        "    output:\n",
        "        sequence_entropy: the entropy for the input sequence using the trained model\n",
        "    '''\n",
        "\n",
        "    # YOUR CODE HERE\n",
        "    modified_sentence = \"<start> \" * (window_size) + input_sequence\n",
        "\n",
        "    token_list = modified_sentence.split()\n",
        "    encoded_context = []\n",
        "    encoded_target = []\n",
        "\n",
        "    for idx in range(len(token_list)-window_size):\n",
        "        encoded_context.append([word_to_idx.get(token, word_to_idx[\"<unk>\"])\n",
        "                                for token in token_list[idx: idx+window_size]])\n",
        "        encoded_target.append(word_to_idx.get(token_list[idx+window_size], word_to_idx[\"<unk>\"]))\n",
        "    encoded_context = torch.tensor(encoded_context)\n",
        "    encoded_target = torch.tensor(encoded_target)\n",
        "\n",
        "    # passing the context (and respective labels) to the fixed-window LM to get average NLL.\n",
        "    with torch.no_grad():\n",
        "        sequence_entropy = model(encoded_context, encoded_target).item()\n",
        "\n",
        "    return sequence_entropy"
      ]
    },
    {
      "cell_type": "code",
      "source": [
        "input_sequence = \"Anna is doing very well today\"\n",
        "\n",
        "modified_sentence = \"<start> \" * (window_size) + input_sequence\n",
        "\n",
        "token_list = modified_sentence.split()\n",
        "encoded_context = []\n",
        "encoded_target = []\n",
        "\n",
        "for idx in range(len(token_list)-window_size):\n",
        "    print(encoded_context)\n",
        "    encoded_context.append([fixed_window_dataset.word_to_index.get(token, fixed_window_dataset.word_to_index[\"<unk>\"])\n",
        "                            for token in token_list[idx: idx+window_size]])\n",
        "    encoded_target.append(fixed_window_dataset.word_to_index.get(token_list[idx+window_size], fixed_window_dataset.word_to_index[\"<unk>\"]))\n",
        "encoded_context = torch.tensor(encoded_context)\n",
        "encoded_target = torch.tensor(encoded_target)\n",
        "\n",
        "# passing the context (and respective labels) to the fixed-window LM to get average NLL.\n",
        "with torch.no_grad():\n",
        "    sequence_entropy = model_fixed_window(encoded_context, encoded_target).item()"
      ],
      "metadata": {
        "colab": {
          "base_uri": "https://localhost:8080/"
        },
        "id": "KApiL28KQtzs",
        "outputId": "d285246b-6380-429b-df4e-a0ee84754e9e"
      },
      "id": "KApiL28KQtzs",
      "execution_count": null,
      "outputs": [
        {
          "output_type": "stream",
          "name": "stdout",
          "text": [
            "[]\n",
            "[[9997, 9997, 9997]]\n",
            "[[9997, 9997, 9997], [9997, 9997, 44]]\n",
            "[[9997, 9997, 9997], [9997, 9997, 44], [9997, 44, 4747]]\n",
            "[[9997, 9997, 9997], [9997, 9997, 44], [9997, 44, 4747], [44, 4747, 2760]]\n",
            "[[9997, 9997, 9997], [9997, 9997, 44], [9997, 44, 4747], [44, 4747, 2760], [4747, 2760, 9566]]\n"
          ]
        }
      ]
    },
    {
      "cell_type": "code",
      "source": [
        "encoded_context[-1]"
      ],
      "metadata": {
        "colab": {
          "base_uri": "https://localhost:8080/"
        },
        "id": "zmAq5T9wRCIt",
        "outputId": "ca05ac5c-3bc6-4b9c-d40d-1287252ba527"
      },
      "id": "zmAq5T9wRCIt",
      "execution_count": null,
      "outputs": [
        {
          "output_type": "execute_result",
          "data": {
            "text/plain": [
              "tensor([2760, 9566, 9769])"
            ]
          },
          "metadata": {},
          "execution_count": 44
        }
      ]
    },
    {
      "cell_type": "code",
      "source": [
        "encoded_target[-1]"
      ],
      "metadata": {
        "colab": {
          "base_uri": "https://localhost:8080/"
        },
        "id": "LQQgpS4bRHDm",
        "outputId": "c42b68ff-8428-4054-cec5-9252a495b79c"
      },
      "id": "LQQgpS4bRHDm",
      "execution_count": null,
      "outputs": [
        {
          "output_type": "execute_result",
          "data": {
            "text/plain": [
              "tensor(9118)"
            ]
          },
          "metadata": {},
          "execution_count": 45
        }
      ]
    },
    {
      "cell_type": "code",
      "source": [
        "fixed_window_dataset.word_to_index[\"today\"]"
      ],
      "metadata": {
        "colab": {
          "base_uri": "https://localhost:8080/"
        },
        "id": "LSuXYgQuRYjT",
        "outputId": "20359af0-63f1-4d29-8adf-79ebc7c2a03f"
      },
      "id": "LSuXYgQuRYjT",
      "execution_count": null,
      "outputs": [
        {
          "output_type": "execute_result",
          "data": {
            "text/plain": [
              "9118"
            ]
          },
          "metadata": {},
          "execution_count": 46
        }
      ]
    },
    {
      "cell_type": "code",
      "source": [
        "model_fixed_window(encoded_context, encoded_target).item()"
      ],
      "metadata": {
        "colab": {
          "base_uri": "https://localhost:8080/"
        },
        "id": "2GiGFMgfSBxj",
        "outputId": "13b4c839-9efc-45bb-9494-2dee341eed27"
      },
      "id": "2GiGFMgfSBxj",
      "execution_count": null,
      "outputs": [
        {
          "output_type": "execute_result",
          "data": {
            "text/plain": [
              "5.889780044555664"
            ]
          },
          "metadata": {},
          "execution_count": 47
        }
      ]
    },
    {
      "cell_type": "markdown",
      "id": "7d055835",
      "metadata": {
        "id": "7d055835"
      },
      "source": [
        "#### Compute the perplexity for the trained fixed-window language model over `ptb_test` dataset using the previous function. How does it perform compared to N-gram language models we discussed earlier?"
      ]
    },
    {
      "cell_type": "code",
      "execution_count": null,
      "id": "f4289886",
      "metadata": {
        "id": "f4289886",
        "colab": {
          "base_uri": "https://localhost:8080/"
        },
        "outputId": "c5cc5f03-a2cf-40b2-c5db-6bd28d4a12ff"
      },
      "outputs": [
        {
          "output_type": "stream",
          "name": "stdout",
          "text": [
            "The fixed-window model perplexity over test dataset is 252.61245486535864\n"
          ]
        }
      ],
      "source": [
        "perplexity = -1\n",
        "\n",
        "fixed_window_test_set_entropy = [get_seqeuence_entropy_fixed_window_lm(model_fixed_window,\n",
        "                                                                           sample[\"sentence\"],\n",
        "                                                                           window_size,\n",
        "                                                                           fixed_window_dataset.word_to_index)\n",
        "                                 for sample in ptb_test]\n",
        "perplexity = np.exp(np.mean(fixed_window_test_set_entropy))\n",
        "\n",
        "print(f\"The fixed-window model perplexity over test dataset is {perplexity}\")"
      ]
    },
    {
      "cell_type": "markdown",
      "id": "240c3d89",
      "metadata": {
        "id": "240c3d89"
      },
      "source": [
        "### 2.2 RNN-based Language Model <a name='rnn_lm'></a>\n",
        "To address the need for a neural architecture that can proceed with any length input (as opposed to the fixed-window model that can only process a fixed number of tokens), we implement the Recurrent Neural Network (RNN). The core idea behind is that we can apply the same weight W repeatedly.\n",
        "\n",
        "An advatange of RNN model compared to fixed-window langauage model is that we can pass a given sentence at once, instead of passing it in many windows of size `window_size`. Moreover, the language model has the ability to look behind further that a fixed number of tokens.\n",
        "\n",
        " As we already did a neural model training exercise for the previous neural model, we only provide a trained LM at this section, so that you can focus only on the analysis part.\n",
        "\n",
        "You can find the dataset structure as well as the RNN architecture in the `rnn_utils.py` file."
      ]
    },
    {
      "cell_type": "code",
      "source": [
        "!wget 'https://github.com/epfl-nlp/cs-552-modern-nlp/raw/main/Exercises/Week%202%20-%20N-gram%20&%20Neural%20Language%20Models/rnn_model.pt'\n",
        "!wget 'https://github.com/epfl-nlp/cs-552-modern-nlp/raw/main/Exercises/Week%202%20-%20N-gram%20&%20Neural%20Language%20Models/rnn_utils.py'"
      ],
      "metadata": {
        "colab": {
          "base_uri": "https://localhost:8080/"
        },
        "id": "3QADn08LTI6P",
        "outputId": "562dcddf-d502-4be7-f681-59deb4d87f78"
      },
      "id": "3QADn08LTI6P",
      "execution_count": null,
      "outputs": [
        {
          "output_type": "stream",
          "name": "stdout",
          "text": [
            "--2024-03-09 23:30:57--  https://github.com/epfl-nlp/cs-552-modern-nlp/raw/main/Exercises/Week%202%20-%20N-gram%20&%20Neural%20Language%20Models/rnn_model.pt\n",
            "Resolving github.com (github.com)... 140.82.114.3\n",
            "Connecting to github.com (github.com)|140.82.114.3|:443... connected.\n",
            "HTTP request sent, awaiting response... 302 Found\n",
            "Location: https://raw.githubusercontent.com/epfl-nlp/cs-552-modern-nlp/main/Exercises/Week%202%20-%20N-gram%20%26%20Neural%20Language%20Models/rnn_model.pt [following]\n",
            "--2024-03-09 23:30:57--  https://raw.githubusercontent.com/epfl-nlp/cs-552-modern-nlp/main/Exercises/Week%202%20-%20N-gram%20%26%20Neural%20Language%20Models/rnn_model.pt\n",
            "Resolving raw.githubusercontent.com (raw.githubusercontent.com)... 185.199.109.133, 185.199.108.133, 185.199.111.133, ...\n",
            "Connecting to raw.githubusercontent.com (raw.githubusercontent.com)|185.199.109.133|:443... connected.\n",
            "HTTP request sent, awaiting response... 200 OK\n",
            "Length: 17329247 (17M) [application/octet-stream]\n",
            "Saving to: ‘rnn_model.pt’\n",
            "\n",
            "rnn_model.pt        100%[===================>]  16.53M  --.-KB/s    in 0.1s    \n",
            "\n",
            "2024-03-09 23:30:57 (134 MB/s) - ‘rnn_model.pt’ saved [17329247/17329247]\n",
            "\n",
            "--2024-03-09 23:30:57--  https://github.com/epfl-nlp/cs-552-modern-nlp/raw/main/Exercises/Week%202%20-%20N-gram%20&%20Neural%20Language%20Models/rnn_utils.py\n",
            "Resolving github.com (github.com)... 140.82.114.3\n",
            "Connecting to github.com (github.com)|140.82.114.3|:443... connected.\n",
            "HTTP request sent, awaiting response... 302 Found\n",
            "Location: https://raw.githubusercontent.com/epfl-nlp/cs-552-modern-nlp/main/Exercises/Week%202%20-%20N-gram%20%26%20Neural%20Language%20Models/rnn_utils.py [following]\n",
            "--2024-03-09 23:30:57--  https://raw.githubusercontent.com/epfl-nlp/cs-552-modern-nlp/main/Exercises/Week%202%20-%20N-gram%20%26%20Neural%20Language%20Models/rnn_utils.py\n",
            "Resolving raw.githubusercontent.com (raw.githubusercontent.com)... 185.199.108.133, 185.199.109.133, 185.199.110.133, ...\n",
            "Connecting to raw.githubusercontent.com (raw.githubusercontent.com)|185.199.108.133|:443... connected.\n",
            "HTTP request sent, awaiting response... 200 OK\n",
            "Length: 4942 (4.8K) [text/plain]\n",
            "Saving to: ‘rnn_utils.py’\n",
            "\n",
            "rnn_utils.py        100%[===================>]   4.83K  --.-KB/s    in 0s      \n",
            "\n",
            "2024-03-09 23:30:57 (57.5 MB/s) - ‘rnn_utils.py’ saved [4942/4942]\n",
            "\n"
          ]
        }
      ]
    },
    {
      "cell_type": "code",
      "execution_count": null,
      "id": "fc631bc1",
      "metadata": {
        "id": "fc631bc1",
        "colab": {
          "base_uri": "https://localhost:8080/"
        },
        "outputId": "b03dbe17-d8d7-4f99-eca2-601c7b3f9997"
      },
      "outputs": [
        {
          "output_type": "execute_result",
          "data": {
            "text/plain": [
              "RNN_language_model(\n",
              "  (criterion): CrossEntropyLoss()\n",
              "  (embedding): Embedding(10000, 200)\n",
              "  (rnn): RNN(200, 200, num_layers=4)\n",
              "  (dropout): Dropout(p=0.001, inplace=False)\n",
              "  (lm_decoder): Linear(in_features=200, out_features=10000, bias=True)\n",
              ")"
            ]
          },
          "metadata": {},
          "execution_count": 50
        }
      ],
      "source": [
        "from rnn_utils import RNNDataset, RNN_language_model\n",
        "\n",
        "vocabulary_size = 10000\n",
        "word_emb_dim = 200\n",
        "hidden_dim = 200\n",
        "\n",
        "rnn_dataset = RNNDataset(ptb_train, ptb_test, vocabulary_size)\n",
        "\n",
        "# if gpu is available, we puts the model on it\n",
        "device = torch.device(\"cuda:0\" if torch.cuda.is_available() else \"cpu\")\n",
        "\n",
        "# Here we need a <pad> token for the RNN model, in order to have a batch of sequences with difference sizes\n",
        "pad_idx = rnn_dataset.pad_idx # the index for <pad> token\n",
        "rnn_model = RNN_language_model(vocab_size=vocabulary_size, emb_dim=word_emb_dim, hidden_dim=hidden_dim,\n",
        "                               pad_idx=pad_idx)\n",
        "rnn_model.to(device)"
      ]
    },
    {
      "cell_type": "markdown",
      "id": "25137a9f",
      "metadata": {
        "id": "25137a9f"
      },
      "source": [
        "load the model weights using the state_dict in `rnn_model.pt` file."
      ]
    },
    {
      "cell_type": "code",
      "execution_count": null,
      "id": "52adb1f9",
      "metadata": {
        "id": "52adb1f9"
      },
      "outputs": [],
      "source": [
        "if torch.cuda.is_available():\n",
        "    rnn_model.load_state_dict(torch.load(\"rnn_model.pt\"))\n",
        "else: # cpu only\n",
        "    rnn_model.load_state_dict(torch.load(\"rnn_model.pt\", map_location=torch.device('cpu')))"
      ]
    },
    {
      "cell_type": "markdown",
      "id": "f06eb967",
      "metadata": {
        "id": "f06eb967"
      },
      "source": [
        "As the training of an RNN model is time-consuming, we provide a trained language model on this dataset (`rnn_model.pt`), so that you can just analyze the model performance here.\n",
        "As mentioned above, as RNN can get sequences with varying lengths, the input sequences should be padded with a special token like `<pad>`, so that we can create a batch of sentences. The output of the defined RNN model (see the architecture detail `rnn_utils.py`) is the model's entropy over the input data.\n",
        "\n",
        "#### First get the encoded test samples of `ptb_test` dataset, and then pass these (already padded) sentences to the RNN model to get the respective entropy values. Compute the perplexity of the model and compare it with previous approaches.\n",
        "**HINT**: You can use the `get_encoded_test_samples` function of `rnn_dataset` to get encoded test samples.\n"
      ]
    },
    {
      "cell_type": "code",
      "execution_count": null,
      "id": "09d7b99f",
      "metadata": {
        "id": "09d7b99f",
        "colab": {
          "base_uri": "https://localhost:8080/"
        },
        "outputId": "22f87203-e57c-4eb3-ba90-2788d24b5001"
      },
      "outputs": [
        {
          "output_type": "stream",
          "name": "stdout",
          "text": [
            "The model perplexity is nan\n"
          ]
        },
        {
          "output_type": "stream",
          "name": "stderr",
          "text": [
            "<ipython-input-52-bcfec1c65088>:19: RuntimeWarning: Mean of empty slice.\n",
            "  avg_test_loss = np.array(test_loss).mean()\n",
            "/usr/local/lib/python3.10/dist-packages/numpy/core/_methods.py:129: RuntimeWarning: invalid value encountered in scalar divide\n",
            "  ret = ret.dtype.type(ret / rcount)\n"
          ]
        }
      ],
      "source": [
        "test_perplexity = -1\n",
        "\n",
        "# YOUR CODE HERE\n",
        "test_token_ids = rnn_dataset.get_encoded_test_samples()\n",
        "\n",
        "test_loss = []\n",
        "\n",
        "eval_batch_size = 8\n",
        "with torch.no_grad():\n",
        "    for data_idx in range(0, test_token_ids.shape[0], eval_batch_size):\n",
        "        context_batch = test_token_ids[data_idx: data_idx + eval_batch_size].to(device)\n",
        "\n",
        "        batch_max_seq_length = (context_batch!=rnn_dataset.pad_idx).sum(dim=1).max().item()\n",
        "        context_batch_ = context_batch[:, :batch_max_seq_length]\n",
        "\n",
        "        break\n",
        "        batch_loss = rnn_model(context_batch)\n",
        "        test_loss.append(batch_loss.item())\n",
        "avg_test_loss = np.array(test_loss).mean()\n",
        "test_perplexity = np.exp(avg_test_loss)\n",
        "\n",
        "print(f\"The model perplexity is {test_perplexity}\")"
      ]
    },
    {
      "cell_type": "code",
      "source": [
        "context_batch[:, :batch_max_seq_length]"
      ],
      "metadata": {
        "colab": {
          "base_uri": "https://localhost:8080/"
        },
        "id": "seipCw87XLEA",
        "outputId": "3b95a127-af31-4862-b0e9-d2e7625f71c0"
      },
      "id": "seipCw87XLEA",
      "execution_count": null,
      "outputs": [
        {
          "output_type": "execute_result",
          "data": {
            "text/plain": [
              "tensor([[9997, 4804, 4027, 4476, 7821, 9044, 5962, 4493, 3476,   45,   45, 9116,\n",
              "            1,   45, 5666, 6235,   45, 1477,   48, 8086, 3771,    1,   45, 5666,\n",
              "         6235,   45, 1477,   48, 8086, 6183, 5780, 8090,   48, 9955, 2900,   43,\n",
              "         9998, 9998, 9998, 9998, 9998, 9998, 9998, 9998, 9998, 9998],\n",
              "        [9997, 4902, 9009, 5773, 5172, 9009, 9335, 9021,   44,  424,   44, 9015,\n",
              "         9724, 9070, 8339,   44,   44, 2574, 1291, 5823, 2799,  609,  413,  376,\n",
              "         9116,   44,    9, 2865,   44, 8932,  424, 9021, 9866, 5823,   44, 8305,\n",
              "          424,   44, 6183, 9009,   44,    9, 9088,   44,   44,   43],\n",
              "        [9997, 8063, 6140, 9009, 5973, 9974, 8579, 3241,    9, 6321, 5214, 1814,\n",
              "         5091, 1291, 3906, 2004, 2096,  555, 4834, 3658, 9009, 3567, 9097, 9116,\n",
              "         1839,   73, 6958, 9192,  424, 9009, 3241,    9, 7717, 4469, 4763,   43,\n",
              "         9998, 9998, 9998, 9998, 9998, 9998, 9998, 9998, 9998, 9998],\n",
              "        [9997, 9009, 1816, 4615,   48, 7032, 8850, 9007,   44, 2294, 9866, 5620,\n",
              "         6296, 2608, 6574, 5196,   43, 9998, 9998, 9998, 9998, 9998, 9998, 9998,\n",
              "         9998, 9998, 9998, 9998, 9998, 9998, 9998, 9998, 9998, 9998, 9998, 9998,\n",
              "         9998, 9998, 9998, 9998, 9998, 9998, 9998, 9998, 9998, 9998],\n",
              "        [9997, 7650, 4776,   44, 9702, 2986, 9116, 9009, 1040, 6140, 9045, 6534,\n",
              "         1988, 1883, 4504, 4769, 8239, 9116, 6008, 5562,   43, 9998, 9998, 9998,\n",
              "         9998, 9998, 9998, 9998, 9998, 9998, 9998, 9998, 9998, 9998, 9998, 9998,\n",
              "         9998, 9998, 9998, 9998, 9998, 9998, 9998, 9998, 9998, 9998],\n",
              "        [9997, 1285, 6148, 3658, 5359,  555, 5858,   44, 7874, 3262, 9579, 6840,\n",
              "         2326, 1295,   44, 1279, 9031,  555, 5858, 8868, 9566, 8040,   43, 9998,\n",
              "         9998, 9998, 9998, 9998, 9998, 9998, 9998, 9998, 9998, 9998, 9998, 9998,\n",
              "         9998, 9998, 9998, 9998, 9998, 9998, 9998, 9998, 9998, 9998],\n",
              "        [9997, 9967, 9009, 1816, 7821, 4763, 4080, 3518,   48, 7499, 9866, 9009,\n",
              "         7968,  424, 3241, 1785, 9116, 9867, 9009, 7370, 8521, 7361, 9009, 7005,\n",
              "         8815,   43, 9998, 9998, 9998, 9998, 9998, 9998, 9998, 9998, 9998, 9998,\n",
              "         9998, 9998, 9998, 9998, 9998, 9998, 9998, 9998, 9998, 9998],\n",
              "        [9997, 3502,    9, 4870, 3799, 4143, 3394,   45,   45, 9045, 9955, 9070,\n",
              "         6133,   45, 5204, 7874, 9009, 9538, 3799, 7738,   45,   45,  424, 9009,\n",
              "         8852, 7755, 6867, 3799, 2941, 9471,   45,   45,   43, 9998, 9998, 9998,\n",
              "         9998, 9998, 9998, 9998, 9998, 9998, 9998, 9998, 9998, 9998]])"
            ]
          },
          "metadata": {},
          "execution_count": 57
        }
      ]
    },
    {
      "cell_type": "code",
      "source": [],
      "metadata": {
        "id": "LXtCP6vRXd07"
      },
      "id": "LXtCP6vRXd07",
      "execution_count": null,
      "outputs": []
    }
  ],
  "metadata": {
    "kernelspec": {
      "display_name": "Python 3 (ipykernel)",
      "language": "python",
      "name": "python3"
    },
    "language_info": {
      "codemirror_mode": {
        "name": "ipython",
        "version": 3
      },
      "file_extension": ".py",
      "mimetype": "text/x-python",
      "name": "python",
      "nbconvert_exporter": "python",
      "pygments_lexer": "ipython3",
      "version": "3.9.0"
    },
    "vscode": {
      "interpreter": {
        "hash": "a8ced340a52f9326f5856e1d63a73f97bd9f0a225610b549ff7b502d766a19ce"
      }
    },
    "colab": {
      "provenance": []
    },
    "widgets": {
      "application/vnd.jupyter.widget-state+json": {
        "3d9b5ee3347a48eb89681b4557975603": {
          "model_module": "@jupyter-widgets/controls",
          "model_name": "HBoxModel",
          "model_module_version": "1.5.0",
          "state": {
            "_dom_classes": [],
            "_model_module": "@jupyter-widgets/controls",
            "_model_module_version": "1.5.0",
            "_model_name": "HBoxModel",
            "_view_count": null,
            "_view_module": "@jupyter-widgets/controls",
            "_view_module_version": "1.5.0",
            "_view_name": "HBoxView",
            "box_style": "",
            "children": [
              "IPY_MODEL_0683b8dee4044953b91d03ae9c06a3ec",
              "IPY_MODEL_15f178d739684b9980f522068d12e7ae",
              "IPY_MODEL_4f3d82925ae549a88cd5e363a32e9e9f"
            ],
            "layout": "IPY_MODEL_fa75a1027a71459c8ce8c982dbdd7d88"
          }
        },
        "0683b8dee4044953b91d03ae9c06a3ec": {
          "model_module": "@jupyter-widgets/controls",
          "model_name": "HTMLModel",
          "model_module_version": "1.5.0",
          "state": {
            "_dom_classes": [],
            "_model_module": "@jupyter-widgets/controls",
            "_model_module_version": "1.5.0",
            "_model_name": "HTMLModel",
            "_view_count": null,
            "_view_module": "@jupyter-widgets/controls",
            "_view_module_version": "1.5.0",
            "_view_name": "HTMLView",
            "description": "",
            "description_tooltip": null,
            "layout": "IPY_MODEL_fb4673bf5643466b9d844fb5ccb40d59",
            "placeholder": "​",
            "style": "IPY_MODEL_e5160cba0c754f4fbc187dea125ec82d",
            "value": "Downloading data: 100%"
          }
        },
        "15f178d739684b9980f522068d12e7ae": {
          "model_module": "@jupyter-widgets/controls",
          "model_name": "FloatProgressModel",
          "model_module_version": "1.5.0",
          "state": {
            "_dom_classes": [],
            "_model_module": "@jupyter-widgets/controls",
            "_model_module_version": "1.5.0",
            "_model_name": "FloatProgressModel",
            "_view_count": null,
            "_view_module": "@jupyter-widgets/controls",
            "_view_module_version": "1.5.0",
            "_view_name": "ProgressView",
            "bar_style": "success",
            "description": "",
            "description_tooltip": null,
            "layout": "IPY_MODEL_c4e8060cc7884c30a3de27f76ef800af",
            "max": 2961439,
            "min": 0,
            "orientation": "horizontal",
            "style": "IPY_MODEL_2263b09ac7a94568aebb4a955495b920",
            "value": 2961439
          }
        },
        "4f3d82925ae549a88cd5e363a32e9e9f": {
          "model_module": "@jupyter-widgets/controls",
          "model_name": "HTMLModel",
          "model_module_version": "1.5.0",
          "state": {
            "_dom_classes": [],
            "_model_module": "@jupyter-widgets/controls",
            "_model_module_version": "1.5.0",
            "_model_name": "HTMLModel",
            "_view_count": null,
            "_view_module": "@jupyter-widgets/controls",
            "_view_module_version": "1.5.0",
            "_view_name": "HTMLView",
            "description": "",
            "description_tooltip": null,
            "layout": "IPY_MODEL_0790f6fcb3704b0e88ffb69af6135dc3",
            "placeholder": "​",
            "style": "IPY_MODEL_cb55a81668234f928a7cc7ea9c0d2de3",
            "value": " 2.96M/2.96M [00:00&lt;00:00, 3.50MB/s]"
          }
        },
        "fa75a1027a71459c8ce8c982dbdd7d88": {
          "model_module": "@jupyter-widgets/base",
          "model_name": "LayoutModel",
          "model_module_version": "1.2.0",
          "state": {
            "_model_module": "@jupyter-widgets/base",
            "_model_module_version": "1.2.0",
            "_model_name": "LayoutModel",
            "_view_count": null,
            "_view_module": "@jupyter-widgets/base",
            "_view_module_version": "1.2.0",
            "_view_name": "LayoutView",
            "align_content": null,
            "align_items": null,
            "align_self": null,
            "border": null,
            "bottom": null,
            "display": null,
            "flex": null,
            "flex_flow": null,
            "grid_area": null,
            "grid_auto_columns": null,
            "grid_auto_flow": null,
            "grid_auto_rows": null,
            "grid_column": null,
            "grid_gap": null,
            "grid_row": null,
            "grid_template_areas": null,
            "grid_template_columns": null,
            "grid_template_rows": null,
            "height": null,
            "justify_content": null,
            "justify_items": null,
            "left": null,
            "margin": null,
            "max_height": null,
            "max_width": null,
            "min_height": null,
            "min_width": null,
            "object_fit": null,
            "object_position": null,
            "order": null,
            "overflow": null,
            "overflow_x": null,
            "overflow_y": null,
            "padding": null,
            "right": null,
            "top": null,
            "visibility": null,
            "width": null
          }
        },
        "fb4673bf5643466b9d844fb5ccb40d59": {
          "model_module": "@jupyter-widgets/base",
          "model_name": "LayoutModel",
          "model_module_version": "1.2.0",
          "state": {
            "_model_module": "@jupyter-widgets/base",
            "_model_module_version": "1.2.0",
            "_model_name": "LayoutModel",
            "_view_count": null,
            "_view_module": "@jupyter-widgets/base",
            "_view_module_version": "1.2.0",
            "_view_name": "LayoutView",
            "align_content": null,
            "align_items": null,
            "align_self": null,
            "border": null,
            "bottom": null,
            "display": null,
            "flex": null,
            "flex_flow": null,
            "grid_area": null,
            "grid_auto_columns": null,
            "grid_auto_flow": null,
            "grid_auto_rows": null,
            "grid_column": null,
            "grid_gap": null,
            "grid_row": null,
            "grid_template_areas": null,
            "grid_template_columns": null,
            "grid_template_rows": null,
            "height": null,
            "justify_content": null,
            "justify_items": null,
            "left": null,
            "margin": null,
            "max_height": null,
            "max_width": null,
            "min_height": null,
            "min_width": null,
            "object_fit": null,
            "object_position": null,
            "order": null,
            "overflow": null,
            "overflow_x": null,
            "overflow_y": null,
            "padding": null,
            "right": null,
            "top": null,
            "visibility": null,
            "width": null
          }
        },
        "e5160cba0c754f4fbc187dea125ec82d": {
          "model_module": "@jupyter-widgets/controls",
          "model_name": "DescriptionStyleModel",
          "model_module_version": "1.5.0",
          "state": {
            "_model_module": "@jupyter-widgets/controls",
            "_model_module_version": "1.5.0",
            "_model_name": "DescriptionStyleModel",
            "_view_count": null,
            "_view_module": "@jupyter-widgets/base",
            "_view_module_version": "1.2.0",
            "_view_name": "StyleView",
            "description_width": ""
          }
        },
        "c4e8060cc7884c30a3de27f76ef800af": {
          "model_module": "@jupyter-widgets/base",
          "model_name": "LayoutModel",
          "model_module_version": "1.2.0",
          "state": {
            "_model_module": "@jupyter-widgets/base",
            "_model_module_version": "1.2.0",
            "_model_name": "LayoutModel",
            "_view_count": null,
            "_view_module": "@jupyter-widgets/base",
            "_view_module_version": "1.2.0",
            "_view_name": "LayoutView",
            "align_content": null,
            "align_items": null,
            "align_self": null,
            "border": null,
            "bottom": null,
            "display": null,
            "flex": null,
            "flex_flow": null,
            "grid_area": null,
            "grid_auto_columns": null,
            "grid_auto_flow": null,
            "grid_auto_rows": null,
            "grid_column": null,
            "grid_gap": null,
            "grid_row": null,
            "grid_template_areas": null,
            "grid_template_columns": null,
            "grid_template_rows": null,
            "height": null,
            "justify_content": null,
            "justify_items": null,
            "left": null,
            "margin": null,
            "max_height": null,
            "max_width": null,
            "min_height": null,
            "min_width": null,
            "object_fit": null,
            "object_position": null,
            "order": null,
            "overflow": null,
            "overflow_x": null,
            "overflow_y": null,
            "padding": null,
            "right": null,
            "top": null,
            "visibility": null,
            "width": null
          }
        },
        "2263b09ac7a94568aebb4a955495b920": {
          "model_module": "@jupyter-widgets/controls",
          "model_name": "ProgressStyleModel",
          "model_module_version": "1.5.0",
          "state": {
            "_model_module": "@jupyter-widgets/controls",
            "_model_module_version": "1.5.0",
            "_model_name": "ProgressStyleModel",
            "_view_count": null,
            "_view_module": "@jupyter-widgets/base",
            "_view_module_version": "1.2.0",
            "_view_name": "StyleView",
            "bar_color": null,
            "description_width": ""
          }
        },
        "0790f6fcb3704b0e88ffb69af6135dc3": {
          "model_module": "@jupyter-widgets/base",
          "model_name": "LayoutModel",
          "model_module_version": "1.2.0",
          "state": {
            "_model_module": "@jupyter-widgets/base",
            "_model_module_version": "1.2.0",
            "_model_name": "LayoutModel",
            "_view_count": null,
            "_view_module": "@jupyter-widgets/base",
            "_view_module_version": "1.2.0",
            "_view_name": "LayoutView",
            "align_content": null,
            "align_items": null,
            "align_self": null,
            "border": null,
            "bottom": null,
            "display": null,
            "flex": null,
            "flex_flow": null,
            "grid_area": null,
            "grid_auto_columns": null,
            "grid_auto_flow": null,
            "grid_auto_rows": null,
            "grid_column": null,
            "grid_gap": null,
            "grid_row": null,
            "grid_template_areas": null,
            "grid_template_columns": null,
            "grid_template_rows": null,
            "height": null,
            "justify_content": null,
            "justify_items": null,
            "left": null,
            "margin": null,
            "max_height": null,
            "max_width": null,
            "min_height": null,
            "min_width": null,
            "object_fit": null,
            "object_position": null,
            "order": null,
            "overflow": null,
            "overflow_x": null,
            "overflow_y": null,
            "padding": null,
            "right": null,
            "top": null,
            "visibility": null,
            "width": null
          }
        },
        "cb55a81668234f928a7cc7ea9c0d2de3": {
          "model_module": "@jupyter-widgets/controls",
          "model_name": "DescriptionStyleModel",
          "model_module_version": "1.5.0",
          "state": {
            "_model_module": "@jupyter-widgets/controls",
            "_model_module_version": "1.5.0",
            "_model_name": "DescriptionStyleModel",
            "_view_count": null,
            "_view_module": "@jupyter-widgets/base",
            "_view_module_version": "1.2.0",
            "_view_name": "StyleView",
            "description_width": ""
          }
        },
        "07e1b423a1d1451e9abb1e354a333791": {
          "model_module": "@jupyter-widgets/controls",
          "model_name": "HBoxModel",
          "model_module_version": "1.5.0",
          "state": {
            "_dom_classes": [],
            "_model_module": "@jupyter-widgets/controls",
            "_model_module_version": "1.5.0",
            "_model_name": "HBoxModel",
            "_view_count": null,
            "_view_module": "@jupyter-widgets/controls",
            "_view_module_version": "1.5.0",
            "_view_name": "HBoxView",
            "box_style": "",
            "children": [
              "IPY_MODEL_80b9003b94164717a4929c3b47d59823",
              "IPY_MODEL_c03da261bfc74c9eb65e8004a3e8ba5f",
              "IPY_MODEL_dfb2cd34563e4c7a96e16c6d6c41dadb"
            ],
            "layout": "IPY_MODEL_3de2950f039f41809d8005b69cceba6d"
          }
        },
        "80b9003b94164717a4929c3b47d59823": {
          "model_module": "@jupyter-widgets/controls",
          "model_name": "HTMLModel",
          "model_module_version": "1.5.0",
          "state": {
            "_dom_classes": [],
            "_model_module": "@jupyter-widgets/controls",
            "_model_module_version": "1.5.0",
            "_model_name": "HTMLModel",
            "_view_count": null,
            "_view_module": "@jupyter-widgets/controls",
            "_view_module_version": "1.5.0",
            "_view_name": "HTMLView",
            "description": "",
            "description_tooltip": null,
            "layout": "IPY_MODEL_d180bece7ef64d5aae7fdc0edffdbec7",
            "placeholder": "​",
            "style": "IPY_MODEL_730c505dc2104e9986e4689196a689e0",
            "value": "Downloading data: 100%"
          }
        },
        "c03da261bfc74c9eb65e8004a3e8ba5f": {
          "model_module": "@jupyter-widgets/controls",
          "model_name": "FloatProgressModel",
          "model_module_version": "1.5.0",
          "state": {
            "_dom_classes": [],
            "_model_module": "@jupyter-widgets/controls",
            "_model_module_version": "1.5.0",
            "_model_name": "FloatProgressModel",
            "_view_count": null,
            "_view_module": "@jupyter-widgets/controls",
            "_view_module_version": "1.5.0",
            "_view_name": "ProgressView",
            "bar_style": "success",
            "description": "",
            "description_tooltip": null,
            "layout": "IPY_MODEL_0c0f476d1eb847f2946096e049f8a417",
            "max": 261699,
            "min": 0,
            "orientation": "horizontal",
            "style": "IPY_MODEL_50a00316b7754963ba6a55be48db6152",
            "value": 261699
          }
        },
        "dfb2cd34563e4c7a96e16c6d6c41dadb": {
          "model_module": "@jupyter-widgets/controls",
          "model_name": "HTMLModel",
          "model_module_version": "1.5.0",
          "state": {
            "_dom_classes": [],
            "_model_module": "@jupyter-widgets/controls",
            "_model_module_version": "1.5.0",
            "_model_name": "HTMLModel",
            "_view_count": null,
            "_view_module": "@jupyter-widgets/controls",
            "_view_module_version": "1.5.0",
            "_view_name": "HTMLView",
            "description": "",
            "description_tooltip": null,
            "layout": "IPY_MODEL_4d5ee190984b4a73bfbb8d07c266cba6",
            "placeholder": "​",
            "style": "IPY_MODEL_c280e90bf3034eb492b6a9f79eb88a43",
            "value": " 262k/262k [00:00&lt;00:00, 1.45MB/s]"
          }
        },
        "3de2950f039f41809d8005b69cceba6d": {
          "model_module": "@jupyter-widgets/base",
          "model_name": "LayoutModel",
          "model_module_version": "1.2.0",
          "state": {
            "_model_module": "@jupyter-widgets/base",
            "_model_module_version": "1.2.0",
            "_model_name": "LayoutModel",
            "_view_count": null,
            "_view_module": "@jupyter-widgets/base",
            "_view_module_version": "1.2.0",
            "_view_name": "LayoutView",
            "align_content": null,
            "align_items": null,
            "align_self": null,
            "border": null,
            "bottom": null,
            "display": null,
            "flex": null,
            "flex_flow": null,
            "grid_area": null,
            "grid_auto_columns": null,
            "grid_auto_flow": null,
            "grid_auto_rows": null,
            "grid_column": null,
            "grid_gap": null,
            "grid_row": null,
            "grid_template_areas": null,
            "grid_template_columns": null,
            "grid_template_rows": null,
            "height": null,
            "justify_content": null,
            "justify_items": null,
            "left": null,
            "margin": null,
            "max_height": null,
            "max_width": null,
            "min_height": null,
            "min_width": null,
            "object_fit": null,
            "object_position": null,
            "order": null,
            "overflow": null,
            "overflow_x": null,
            "overflow_y": null,
            "padding": null,
            "right": null,
            "top": null,
            "visibility": null,
            "width": null
          }
        },
        "d180bece7ef64d5aae7fdc0edffdbec7": {
          "model_module": "@jupyter-widgets/base",
          "model_name": "LayoutModel",
          "model_module_version": "1.2.0",
          "state": {
            "_model_module": "@jupyter-widgets/base",
            "_model_module_version": "1.2.0",
            "_model_name": "LayoutModel",
            "_view_count": null,
            "_view_module": "@jupyter-widgets/base",
            "_view_module_version": "1.2.0",
            "_view_name": "LayoutView",
            "align_content": null,
            "align_items": null,
            "align_self": null,
            "border": null,
            "bottom": null,
            "display": null,
            "flex": null,
            "flex_flow": null,
            "grid_area": null,
            "grid_auto_columns": null,
            "grid_auto_flow": null,
            "grid_auto_rows": null,
            "grid_column": null,
            "grid_gap": null,
            "grid_row": null,
            "grid_template_areas": null,
            "grid_template_columns": null,
            "grid_template_rows": null,
            "height": null,
            "justify_content": null,
            "justify_items": null,
            "left": null,
            "margin": null,
            "max_height": null,
            "max_width": null,
            "min_height": null,
            "min_width": null,
            "object_fit": null,
            "object_position": null,
            "order": null,
            "overflow": null,
            "overflow_x": null,
            "overflow_y": null,
            "padding": null,
            "right": null,
            "top": null,
            "visibility": null,
            "width": null
          }
        },
        "730c505dc2104e9986e4689196a689e0": {
          "model_module": "@jupyter-widgets/controls",
          "model_name": "DescriptionStyleModel",
          "model_module_version": "1.5.0",
          "state": {
            "_model_module": "@jupyter-widgets/controls",
            "_model_module_version": "1.5.0",
            "_model_name": "DescriptionStyleModel",
            "_view_count": null,
            "_view_module": "@jupyter-widgets/base",
            "_view_module_version": "1.2.0",
            "_view_name": "StyleView",
            "description_width": ""
          }
        },
        "0c0f476d1eb847f2946096e049f8a417": {
          "model_module": "@jupyter-widgets/base",
          "model_name": "LayoutModel",
          "model_module_version": "1.2.0",
          "state": {
            "_model_module": "@jupyter-widgets/base",
            "_model_module_version": "1.2.0",
            "_model_name": "LayoutModel",
            "_view_count": null,
            "_view_module": "@jupyter-widgets/base",
            "_view_module_version": "1.2.0",
            "_view_name": "LayoutView",
            "align_content": null,
            "align_items": null,
            "align_self": null,
            "border": null,
            "bottom": null,
            "display": null,
            "flex": null,
            "flex_flow": null,
            "grid_area": null,
            "grid_auto_columns": null,
            "grid_auto_flow": null,
            "grid_auto_rows": null,
            "grid_column": null,
            "grid_gap": null,
            "grid_row": null,
            "grid_template_areas": null,
            "grid_template_columns": null,
            "grid_template_rows": null,
            "height": null,
            "justify_content": null,
            "justify_items": null,
            "left": null,
            "margin": null,
            "max_height": null,
            "max_width": null,
            "min_height": null,
            "min_width": null,
            "object_fit": null,
            "object_position": null,
            "order": null,
            "overflow": null,
            "overflow_x": null,
            "overflow_y": null,
            "padding": null,
            "right": null,
            "top": null,
            "visibility": null,
            "width": null
          }
        },
        "50a00316b7754963ba6a55be48db6152": {
          "model_module": "@jupyter-widgets/controls",
          "model_name": "ProgressStyleModel",
          "model_module_version": "1.5.0",
          "state": {
            "_model_module": "@jupyter-widgets/controls",
            "_model_module_version": "1.5.0",
            "_model_name": "ProgressStyleModel",
            "_view_count": null,
            "_view_module": "@jupyter-widgets/base",
            "_view_module_version": "1.2.0",
            "_view_name": "StyleView",
            "bar_color": null,
            "description_width": ""
          }
        },
        "4d5ee190984b4a73bfbb8d07c266cba6": {
          "model_module": "@jupyter-widgets/base",
          "model_name": "LayoutModel",
          "model_module_version": "1.2.0",
          "state": {
            "_model_module": "@jupyter-widgets/base",
            "_model_module_version": "1.2.0",
            "_model_name": "LayoutModel",
            "_view_count": null,
            "_view_module": "@jupyter-widgets/base",
            "_view_module_version": "1.2.0",
            "_view_name": "LayoutView",
            "align_content": null,
            "align_items": null,
            "align_self": null,
            "border": null,
            "bottom": null,
            "display": null,
            "flex": null,
            "flex_flow": null,
            "grid_area": null,
            "grid_auto_columns": null,
            "grid_auto_flow": null,
            "grid_auto_rows": null,
            "grid_column": null,
            "grid_gap": null,
            "grid_row": null,
            "grid_template_areas": null,
            "grid_template_columns": null,
            "grid_template_rows": null,
            "height": null,
            "justify_content": null,
            "justify_items": null,
            "left": null,
            "margin": null,
            "max_height": null,
            "max_width": null,
            "min_height": null,
            "min_width": null,
            "object_fit": null,
            "object_position": null,
            "order": null,
            "overflow": null,
            "overflow_x": null,
            "overflow_y": null,
            "padding": null,
            "right": null,
            "top": null,
            "visibility": null,
            "width": null
          }
        },
        "c280e90bf3034eb492b6a9f79eb88a43": {
          "model_module": "@jupyter-widgets/controls",
          "model_name": "DescriptionStyleModel",
          "model_module_version": "1.5.0",
          "state": {
            "_model_module": "@jupyter-widgets/controls",
            "_model_module_version": "1.5.0",
            "_model_name": "DescriptionStyleModel",
            "_view_count": null,
            "_view_module": "@jupyter-widgets/base",
            "_view_module_version": "1.2.0",
            "_view_name": "StyleView",
            "description_width": ""
          }
        },
        "f3c04f15d352426494a72f55805d466b": {
          "model_module": "@jupyter-widgets/controls",
          "model_name": "HBoxModel",
          "model_module_version": "1.5.0",
          "state": {
            "_dom_classes": [],
            "_model_module": "@jupyter-widgets/controls",
            "_model_module_version": "1.5.0",
            "_model_name": "HBoxModel",
            "_view_count": null,
            "_view_module": "@jupyter-widgets/controls",
            "_view_module_version": "1.5.0",
            "_view_name": "HBoxView",
            "box_style": "",
            "children": [
              "IPY_MODEL_77d9af0bafd341f8a8de0f5c1a2b81c3",
              "IPY_MODEL_b4daed69f05e4376930113580438d276",
              "IPY_MODEL_3a4db15fa16a4532bdca1fe2df332660"
            ],
            "layout": "IPY_MODEL_f1b188f0c6eb47799dc6050002447785"
          }
        },
        "77d9af0bafd341f8a8de0f5c1a2b81c3": {
          "model_module": "@jupyter-widgets/controls",
          "model_name": "HTMLModel",
          "model_module_version": "1.5.0",
          "state": {
            "_dom_classes": [],
            "_model_module": "@jupyter-widgets/controls",
            "_model_module_version": "1.5.0",
            "_model_name": "HTMLModel",
            "_view_count": null,
            "_view_module": "@jupyter-widgets/controls",
            "_view_module_version": "1.5.0",
            "_view_name": "HTMLView",
            "description": "",
            "description_tooltip": null,
            "layout": "IPY_MODEL_164f2bf75ea144a6bd746c71dc2e27a5",
            "placeholder": "​",
            "style": "IPY_MODEL_fbc22f5d33c94a2cb88a3f0d5738b743",
            "value": "Downloading data: 100%"
          }
        },
        "b4daed69f05e4376930113580438d276": {
          "model_module": "@jupyter-widgets/controls",
          "model_name": "FloatProgressModel",
          "model_module_version": "1.5.0",
          "state": {
            "_dom_classes": [],
            "_model_module": "@jupyter-widgets/controls",
            "_model_module_version": "1.5.0",
            "_model_name": "FloatProgressModel",
            "_view_count": null,
            "_view_module": "@jupyter-widgets/controls",
            "_view_module_version": "1.5.0",
            "_view_name": "ProgressView",
            "bar_style": "success",
            "description": "",
            "description_tooltip": null,
            "layout": "IPY_MODEL_e84cb8ccfc2747f9a0d7ec992805f943",
            "max": 235756,
            "min": 0,
            "orientation": "horizontal",
            "style": "IPY_MODEL_29f9840034c0414d977dc88a51736e7d",
            "value": 235756
          }
        },
        "3a4db15fa16a4532bdca1fe2df332660": {
          "model_module": "@jupyter-widgets/controls",
          "model_name": "HTMLModel",
          "model_module_version": "1.5.0",
          "state": {
            "_dom_classes": [],
            "_model_module": "@jupyter-widgets/controls",
            "_model_module_version": "1.5.0",
            "_model_name": "HTMLModel",
            "_view_count": null,
            "_view_module": "@jupyter-widgets/controls",
            "_view_module_version": "1.5.0",
            "_view_name": "HTMLView",
            "description": "",
            "description_tooltip": null,
            "layout": "IPY_MODEL_4f79bd00959147d6a037e0b91de5fdcf",
            "placeholder": "​",
            "style": "IPY_MODEL_d6a8ef56b5d741bab2b2b3343cfb68ea",
            "value": " 236k/236k [00:00&lt;00:00, 1.53MB/s]"
          }
        },
        "f1b188f0c6eb47799dc6050002447785": {
          "model_module": "@jupyter-widgets/base",
          "model_name": "LayoutModel",
          "model_module_version": "1.2.0",
          "state": {
            "_model_module": "@jupyter-widgets/base",
            "_model_module_version": "1.2.0",
            "_model_name": "LayoutModel",
            "_view_count": null,
            "_view_module": "@jupyter-widgets/base",
            "_view_module_version": "1.2.0",
            "_view_name": "LayoutView",
            "align_content": null,
            "align_items": null,
            "align_self": null,
            "border": null,
            "bottom": null,
            "display": null,
            "flex": null,
            "flex_flow": null,
            "grid_area": null,
            "grid_auto_columns": null,
            "grid_auto_flow": null,
            "grid_auto_rows": null,
            "grid_column": null,
            "grid_gap": null,
            "grid_row": null,
            "grid_template_areas": null,
            "grid_template_columns": null,
            "grid_template_rows": null,
            "height": null,
            "justify_content": null,
            "justify_items": null,
            "left": null,
            "margin": null,
            "max_height": null,
            "max_width": null,
            "min_height": null,
            "min_width": null,
            "object_fit": null,
            "object_position": null,
            "order": null,
            "overflow": null,
            "overflow_x": null,
            "overflow_y": null,
            "padding": null,
            "right": null,
            "top": null,
            "visibility": null,
            "width": null
          }
        },
        "164f2bf75ea144a6bd746c71dc2e27a5": {
          "model_module": "@jupyter-widgets/base",
          "model_name": "LayoutModel",
          "model_module_version": "1.2.0",
          "state": {
            "_model_module": "@jupyter-widgets/base",
            "_model_module_version": "1.2.0",
            "_model_name": "LayoutModel",
            "_view_count": null,
            "_view_module": "@jupyter-widgets/base",
            "_view_module_version": "1.2.0",
            "_view_name": "LayoutView",
            "align_content": null,
            "align_items": null,
            "align_self": null,
            "border": null,
            "bottom": null,
            "display": null,
            "flex": null,
            "flex_flow": null,
            "grid_area": null,
            "grid_auto_columns": null,
            "grid_auto_flow": null,
            "grid_auto_rows": null,
            "grid_column": null,
            "grid_gap": null,
            "grid_row": null,
            "grid_template_areas": null,
            "grid_template_columns": null,
            "grid_template_rows": null,
            "height": null,
            "justify_content": null,
            "justify_items": null,
            "left": null,
            "margin": null,
            "max_height": null,
            "max_width": null,
            "min_height": null,
            "min_width": null,
            "object_fit": null,
            "object_position": null,
            "order": null,
            "overflow": null,
            "overflow_x": null,
            "overflow_y": null,
            "padding": null,
            "right": null,
            "top": null,
            "visibility": null,
            "width": null
          }
        },
        "fbc22f5d33c94a2cb88a3f0d5738b743": {
          "model_module": "@jupyter-widgets/controls",
          "model_name": "DescriptionStyleModel",
          "model_module_version": "1.5.0",
          "state": {
            "_model_module": "@jupyter-widgets/controls",
            "_model_module_version": "1.5.0",
            "_model_name": "DescriptionStyleModel",
            "_view_count": null,
            "_view_module": "@jupyter-widgets/base",
            "_view_module_version": "1.2.0",
            "_view_name": "StyleView",
            "description_width": ""
          }
        },
        "e84cb8ccfc2747f9a0d7ec992805f943": {
          "model_module": "@jupyter-widgets/base",
          "model_name": "LayoutModel",
          "model_module_version": "1.2.0",
          "state": {
            "_model_module": "@jupyter-widgets/base",
            "_model_module_version": "1.2.0",
            "_model_name": "LayoutModel",
            "_view_count": null,
            "_view_module": "@jupyter-widgets/base",
            "_view_module_version": "1.2.0",
            "_view_name": "LayoutView",
            "align_content": null,
            "align_items": null,
            "align_self": null,
            "border": null,
            "bottom": null,
            "display": null,
            "flex": null,
            "flex_flow": null,
            "grid_area": null,
            "grid_auto_columns": null,
            "grid_auto_flow": null,
            "grid_auto_rows": null,
            "grid_column": null,
            "grid_gap": null,
            "grid_row": null,
            "grid_template_areas": null,
            "grid_template_columns": null,
            "grid_template_rows": null,
            "height": null,
            "justify_content": null,
            "justify_items": null,
            "left": null,
            "margin": null,
            "max_height": null,
            "max_width": null,
            "min_height": null,
            "min_width": null,
            "object_fit": null,
            "object_position": null,
            "order": null,
            "overflow": null,
            "overflow_x": null,
            "overflow_y": null,
            "padding": null,
            "right": null,
            "top": null,
            "visibility": null,
            "width": null
          }
        },
        "29f9840034c0414d977dc88a51736e7d": {
          "model_module": "@jupyter-widgets/controls",
          "model_name": "ProgressStyleModel",
          "model_module_version": "1.5.0",
          "state": {
            "_model_module": "@jupyter-widgets/controls",
            "_model_module_version": "1.5.0",
            "_model_name": "ProgressStyleModel",
            "_view_count": null,
            "_view_module": "@jupyter-widgets/base",
            "_view_module_version": "1.2.0",
            "_view_name": "StyleView",
            "bar_color": null,
            "description_width": ""
          }
        },
        "4f79bd00959147d6a037e0b91de5fdcf": {
          "model_module": "@jupyter-widgets/base",
          "model_name": "LayoutModel",
          "model_module_version": "1.2.0",
          "state": {
            "_model_module": "@jupyter-widgets/base",
            "_model_module_version": "1.2.0",
            "_model_name": "LayoutModel",
            "_view_count": null,
            "_view_module": "@jupyter-widgets/base",
            "_view_module_version": "1.2.0",
            "_view_name": "LayoutView",
            "align_content": null,
            "align_items": null,
            "align_self": null,
            "border": null,
            "bottom": null,
            "display": null,
            "flex": null,
            "flex_flow": null,
            "grid_area": null,
            "grid_auto_columns": null,
            "grid_auto_flow": null,
            "grid_auto_rows": null,
            "grid_column": null,
            "grid_gap": null,
            "grid_row": null,
            "grid_template_areas": null,
            "grid_template_columns": null,
            "grid_template_rows": null,
            "height": null,
            "justify_content": null,
            "justify_items": null,
            "left": null,
            "margin": null,
            "max_height": null,
            "max_width": null,
            "min_height": null,
            "min_width": null,
            "object_fit": null,
            "object_position": null,
            "order": null,
            "overflow": null,
            "overflow_x": null,
            "overflow_y": null,
            "padding": null,
            "right": null,
            "top": null,
            "visibility": null,
            "width": null
          }
        },
        "d6a8ef56b5d741bab2b2b3343cfb68ea": {
          "model_module": "@jupyter-widgets/controls",
          "model_name": "DescriptionStyleModel",
          "model_module_version": "1.5.0",
          "state": {
            "_model_module": "@jupyter-widgets/controls",
            "_model_module_version": "1.5.0",
            "_model_name": "DescriptionStyleModel",
            "_view_count": null,
            "_view_module": "@jupyter-widgets/base",
            "_view_module_version": "1.2.0",
            "_view_name": "StyleView",
            "description_width": ""
          }
        },
        "8aab25d5a75d417283512c5dc6c7100b": {
          "model_module": "@jupyter-widgets/controls",
          "model_name": "HBoxModel",
          "model_module_version": "1.5.0",
          "state": {
            "_dom_classes": [],
            "_model_module": "@jupyter-widgets/controls",
            "_model_module_version": "1.5.0",
            "_model_name": "HBoxModel",
            "_view_count": null,
            "_view_module": "@jupyter-widgets/controls",
            "_view_module_version": "1.5.0",
            "_view_name": "HBoxView",
            "box_style": "",
            "children": [
              "IPY_MODEL_e91caf840d52411897eef9e74336d1b6",
              "IPY_MODEL_8e2972f71b8e41fb9d2cd38938d6fcaf",
              "IPY_MODEL_4a28088f5efa43538617759acead0a21"
            ],
            "layout": "IPY_MODEL_61c6856d7b64442488989d2d473ac2c1"
          }
        },
        "e91caf840d52411897eef9e74336d1b6": {
          "model_module": "@jupyter-widgets/controls",
          "model_name": "HTMLModel",
          "model_module_version": "1.5.0",
          "state": {
            "_dom_classes": [],
            "_model_module": "@jupyter-widgets/controls",
            "_model_module_version": "1.5.0",
            "_model_name": "HTMLModel",
            "_view_count": null,
            "_view_module": "@jupyter-widgets/controls",
            "_view_module_version": "1.5.0",
            "_view_name": "HTMLView",
            "description": "",
            "description_tooltip": null,
            "layout": "IPY_MODEL_6ad3d02970c24a2aa83ca5e19cfcaff2",
            "placeholder": "​",
            "style": "IPY_MODEL_926b29fcbf964b94a706af57a4762966",
            "value": "Generating train split: 100%"
          }
        },
        "8e2972f71b8e41fb9d2cd38938d6fcaf": {
          "model_module": "@jupyter-widgets/controls",
          "model_name": "FloatProgressModel",
          "model_module_version": "1.5.0",
          "state": {
            "_dom_classes": [],
            "_model_module": "@jupyter-widgets/controls",
            "_model_module_version": "1.5.0",
            "_model_name": "FloatProgressModel",
            "_view_count": null,
            "_view_module": "@jupyter-widgets/controls",
            "_view_module_version": "1.5.0",
            "_view_name": "ProgressView",
            "bar_style": "success",
            "description": "",
            "description_tooltip": null,
            "layout": "IPY_MODEL_ae02163303e149869357a1f412e6c799",
            "max": 42068,
            "min": 0,
            "orientation": "horizontal",
            "style": "IPY_MODEL_81803433af54437ebc4158356a88907c",
            "value": 42068
          }
        },
        "4a28088f5efa43538617759acead0a21": {
          "model_module": "@jupyter-widgets/controls",
          "model_name": "HTMLModel",
          "model_module_version": "1.5.0",
          "state": {
            "_dom_classes": [],
            "_model_module": "@jupyter-widgets/controls",
            "_model_module_version": "1.5.0",
            "_model_name": "HTMLModel",
            "_view_count": null,
            "_view_module": "@jupyter-widgets/controls",
            "_view_module_version": "1.5.0",
            "_view_name": "HTMLView",
            "description": "",
            "description_tooltip": null,
            "layout": "IPY_MODEL_0cc331f282a5407e9a9b6c871c8b4675",
            "placeholder": "​",
            "style": "IPY_MODEL_87a1e5e149634d9a9770488b65e177e2",
            "value": " 42068/42068 [00:00&lt;00:00, 270549.95 examples/s]"
          }
        },
        "61c6856d7b64442488989d2d473ac2c1": {
          "model_module": "@jupyter-widgets/base",
          "model_name": "LayoutModel",
          "model_module_version": "1.2.0",
          "state": {
            "_model_module": "@jupyter-widgets/base",
            "_model_module_version": "1.2.0",
            "_model_name": "LayoutModel",
            "_view_count": null,
            "_view_module": "@jupyter-widgets/base",
            "_view_module_version": "1.2.0",
            "_view_name": "LayoutView",
            "align_content": null,
            "align_items": null,
            "align_self": null,
            "border": null,
            "bottom": null,
            "display": null,
            "flex": null,
            "flex_flow": null,
            "grid_area": null,
            "grid_auto_columns": null,
            "grid_auto_flow": null,
            "grid_auto_rows": null,
            "grid_column": null,
            "grid_gap": null,
            "grid_row": null,
            "grid_template_areas": null,
            "grid_template_columns": null,
            "grid_template_rows": null,
            "height": null,
            "justify_content": null,
            "justify_items": null,
            "left": null,
            "margin": null,
            "max_height": null,
            "max_width": null,
            "min_height": null,
            "min_width": null,
            "object_fit": null,
            "object_position": null,
            "order": null,
            "overflow": null,
            "overflow_x": null,
            "overflow_y": null,
            "padding": null,
            "right": null,
            "top": null,
            "visibility": null,
            "width": null
          }
        },
        "6ad3d02970c24a2aa83ca5e19cfcaff2": {
          "model_module": "@jupyter-widgets/base",
          "model_name": "LayoutModel",
          "model_module_version": "1.2.0",
          "state": {
            "_model_module": "@jupyter-widgets/base",
            "_model_module_version": "1.2.0",
            "_model_name": "LayoutModel",
            "_view_count": null,
            "_view_module": "@jupyter-widgets/base",
            "_view_module_version": "1.2.0",
            "_view_name": "LayoutView",
            "align_content": null,
            "align_items": null,
            "align_self": null,
            "border": null,
            "bottom": null,
            "display": null,
            "flex": null,
            "flex_flow": null,
            "grid_area": null,
            "grid_auto_columns": null,
            "grid_auto_flow": null,
            "grid_auto_rows": null,
            "grid_column": null,
            "grid_gap": null,
            "grid_row": null,
            "grid_template_areas": null,
            "grid_template_columns": null,
            "grid_template_rows": null,
            "height": null,
            "justify_content": null,
            "justify_items": null,
            "left": null,
            "margin": null,
            "max_height": null,
            "max_width": null,
            "min_height": null,
            "min_width": null,
            "object_fit": null,
            "object_position": null,
            "order": null,
            "overflow": null,
            "overflow_x": null,
            "overflow_y": null,
            "padding": null,
            "right": null,
            "top": null,
            "visibility": null,
            "width": null
          }
        },
        "926b29fcbf964b94a706af57a4762966": {
          "model_module": "@jupyter-widgets/controls",
          "model_name": "DescriptionStyleModel",
          "model_module_version": "1.5.0",
          "state": {
            "_model_module": "@jupyter-widgets/controls",
            "_model_module_version": "1.5.0",
            "_model_name": "DescriptionStyleModel",
            "_view_count": null,
            "_view_module": "@jupyter-widgets/base",
            "_view_module_version": "1.2.0",
            "_view_name": "StyleView",
            "description_width": ""
          }
        },
        "ae02163303e149869357a1f412e6c799": {
          "model_module": "@jupyter-widgets/base",
          "model_name": "LayoutModel",
          "model_module_version": "1.2.0",
          "state": {
            "_model_module": "@jupyter-widgets/base",
            "_model_module_version": "1.2.0",
            "_model_name": "LayoutModel",
            "_view_count": null,
            "_view_module": "@jupyter-widgets/base",
            "_view_module_version": "1.2.0",
            "_view_name": "LayoutView",
            "align_content": null,
            "align_items": null,
            "align_self": null,
            "border": null,
            "bottom": null,
            "display": null,
            "flex": null,
            "flex_flow": null,
            "grid_area": null,
            "grid_auto_columns": null,
            "grid_auto_flow": null,
            "grid_auto_rows": null,
            "grid_column": null,
            "grid_gap": null,
            "grid_row": null,
            "grid_template_areas": null,
            "grid_template_columns": null,
            "grid_template_rows": null,
            "height": null,
            "justify_content": null,
            "justify_items": null,
            "left": null,
            "margin": null,
            "max_height": null,
            "max_width": null,
            "min_height": null,
            "min_width": null,
            "object_fit": null,
            "object_position": null,
            "order": null,
            "overflow": null,
            "overflow_x": null,
            "overflow_y": null,
            "padding": null,
            "right": null,
            "top": null,
            "visibility": null,
            "width": null
          }
        },
        "81803433af54437ebc4158356a88907c": {
          "model_module": "@jupyter-widgets/controls",
          "model_name": "ProgressStyleModel",
          "model_module_version": "1.5.0",
          "state": {
            "_model_module": "@jupyter-widgets/controls",
            "_model_module_version": "1.5.0",
            "_model_name": "ProgressStyleModel",
            "_view_count": null,
            "_view_module": "@jupyter-widgets/base",
            "_view_module_version": "1.2.0",
            "_view_name": "StyleView",
            "bar_color": null,
            "description_width": ""
          }
        },
        "0cc331f282a5407e9a9b6c871c8b4675": {
          "model_module": "@jupyter-widgets/base",
          "model_name": "LayoutModel",
          "model_module_version": "1.2.0",
          "state": {
            "_model_module": "@jupyter-widgets/base",
            "_model_module_version": "1.2.0",
            "_model_name": "LayoutModel",
            "_view_count": null,
            "_view_module": "@jupyter-widgets/base",
            "_view_module_version": "1.2.0",
            "_view_name": "LayoutView",
            "align_content": null,
            "align_items": null,
            "align_self": null,
            "border": null,
            "bottom": null,
            "display": null,
            "flex": null,
            "flex_flow": null,
            "grid_area": null,
            "grid_auto_columns": null,
            "grid_auto_flow": null,
            "grid_auto_rows": null,
            "grid_column": null,
            "grid_gap": null,
            "grid_row": null,
            "grid_template_areas": null,
            "grid_template_columns": null,
            "grid_template_rows": null,
            "height": null,
            "justify_content": null,
            "justify_items": null,
            "left": null,
            "margin": null,
            "max_height": null,
            "max_width": null,
            "min_height": null,
            "min_width": null,
            "object_fit": null,
            "object_position": null,
            "order": null,
            "overflow": null,
            "overflow_x": null,
            "overflow_y": null,
            "padding": null,
            "right": null,
            "top": null,
            "visibility": null,
            "width": null
          }
        },
        "87a1e5e149634d9a9770488b65e177e2": {
          "model_module": "@jupyter-widgets/controls",
          "model_name": "DescriptionStyleModel",
          "model_module_version": "1.5.0",
          "state": {
            "_model_module": "@jupyter-widgets/controls",
            "_model_module_version": "1.5.0",
            "_model_name": "DescriptionStyleModel",
            "_view_count": null,
            "_view_module": "@jupyter-widgets/base",
            "_view_module_version": "1.2.0",
            "_view_name": "StyleView",
            "description_width": ""
          }
        },
        "e08792ac3dd84db7a98f97ab588b2bbc": {
          "model_module": "@jupyter-widgets/controls",
          "model_name": "HBoxModel",
          "model_module_version": "1.5.0",
          "state": {
            "_dom_classes": [],
            "_model_module": "@jupyter-widgets/controls",
            "_model_module_version": "1.5.0",
            "_model_name": "HBoxModel",
            "_view_count": null,
            "_view_module": "@jupyter-widgets/controls",
            "_view_module_version": "1.5.0",
            "_view_name": "HBoxView",
            "box_style": "",
            "children": [
              "IPY_MODEL_dbf71d82f66f4affb886b225570f6e01",
              "IPY_MODEL_b2330e983e5f42f3ab7e48a2c10b7ab8",
              "IPY_MODEL_00cd0d3d4c6b4653b095c412ca0e2938"
            ],
            "layout": "IPY_MODEL_0bebe4431cce415986439bc84277d95d"
          }
        },
        "dbf71d82f66f4affb886b225570f6e01": {
          "model_module": "@jupyter-widgets/controls",
          "model_name": "HTMLModel",
          "model_module_version": "1.5.0",
          "state": {
            "_dom_classes": [],
            "_model_module": "@jupyter-widgets/controls",
            "_model_module_version": "1.5.0",
            "_model_name": "HTMLModel",
            "_view_count": null,
            "_view_module": "@jupyter-widgets/controls",
            "_view_module_version": "1.5.0",
            "_view_name": "HTMLView",
            "description": "",
            "description_tooltip": null,
            "layout": "IPY_MODEL_aa56cc9e4a064ca09d5c4fe91c8c3cdc",
            "placeholder": "​",
            "style": "IPY_MODEL_f80e6cacc4a748818824e2de81308acd",
            "value": "Generating test split: 100%"
          }
        },
        "b2330e983e5f42f3ab7e48a2c10b7ab8": {
          "model_module": "@jupyter-widgets/controls",
          "model_name": "FloatProgressModel",
          "model_module_version": "1.5.0",
          "state": {
            "_dom_classes": [],
            "_model_module": "@jupyter-widgets/controls",
            "_model_module_version": "1.5.0",
            "_model_name": "FloatProgressModel",
            "_view_count": null,
            "_view_module": "@jupyter-widgets/controls",
            "_view_module_version": "1.5.0",
            "_view_name": "ProgressView",
            "bar_style": "success",
            "description": "",
            "description_tooltip": null,
            "layout": "IPY_MODEL_3701e0e0675243aca845f01f4d6036e7",
            "max": 3761,
            "min": 0,
            "orientation": "horizontal",
            "style": "IPY_MODEL_d4a416258b1f45188dc437a605370733",
            "value": 3761
          }
        },
        "00cd0d3d4c6b4653b095c412ca0e2938": {
          "model_module": "@jupyter-widgets/controls",
          "model_name": "HTMLModel",
          "model_module_version": "1.5.0",
          "state": {
            "_dom_classes": [],
            "_model_module": "@jupyter-widgets/controls",
            "_model_module_version": "1.5.0",
            "_model_name": "HTMLModel",
            "_view_count": null,
            "_view_module": "@jupyter-widgets/controls",
            "_view_module_version": "1.5.0",
            "_view_name": "HTMLView",
            "description": "",
            "description_tooltip": null,
            "layout": "IPY_MODEL_30ac26c7a30946889ce16b1a154763f6",
            "placeholder": "​",
            "style": "IPY_MODEL_76f54b705c744a0e9960458d534c4869",
            "value": " 3761/3761 [00:00&lt;00:00, 73429.80 examples/s]"
          }
        },
        "0bebe4431cce415986439bc84277d95d": {
          "model_module": "@jupyter-widgets/base",
          "model_name": "LayoutModel",
          "model_module_version": "1.2.0",
          "state": {
            "_model_module": "@jupyter-widgets/base",
            "_model_module_version": "1.2.0",
            "_model_name": "LayoutModel",
            "_view_count": null,
            "_view_module": "@jupyter-widgets/base",
            "_view_module_version": "1.2.0",
            "_view_name": "LayoutView",
            "align_content": null,
            "align_items": null,
            "align_self": null,
            "border": null,
            "bottom": null,
            "display": null,
            "flex": null,
            "flex_flow": null,
            "grid_area": null,
            "grid_auto_columns": null,
            "grid_auto_flow": null,
            "grid_auto_rows": null,
            "grid_column": null,
            "grid_gap": null,
            "grid_row": null,
            "grid_template_areas": null,
            "grid_template_columns": null,
            "grid_template_rows": null,
            "height": null,
            "justify_content": null,
            "justify_items": null,
            "left": null,
            "margin": null,
            "max_height": null,
            "max_width": null,
            "min_height": null,
            "min_width": null,
            "object_fit": null,
            "object_position": null,
            "order": null,
            "overflow": null,
            "overflow_x": null,
            "overflow_y": null,
            "padding": null,
            "right": null,
            "top": null,
            "visibility": null,
            "width": null
          }
        },
        "aa56cc9e4a064ca09d5c4fe91c8c3cdc": {
          "model_module": "@jupyter-widgets/base",
          "model_name": "LayoutModel",
          "model_module_version": "1.2.0",
          "state": {
            "_model_module": "@jupyter-widgets/base",
            "_model_module_version": "1.2.0",
            "_model_name": "LayoutModel",
            "_view_count": null,
            "_view_module": "@jupyter-widgets/base",
            "_view_module_version": "1.2.0",
            "_view_name": "LayoutView",
            "align_content": null,
            "align_items": null,
            "align_self": null,
            "border": null,
            "bottom": null,
            "display": null,
            "flex": null,
            "flex_flow": null,
            "grid_area": null,
            "grid_auto_columns": null,
            "grid_auto_flow": null,
            "grid_auto_rows": null,
            "grid_column": null,
            "grid_gap": null,
            "grid_row": null,
            "grid_template_areas": null,
            "grid_template_columns": null,
            "grid_template_rows": null,
            "height": null,
            "justify_content": null,
            "justify_items": null,
            "left": null,
            "margin": null,
            "max_height": null,
            "max_width": null,
            "min_height": null,
            "min_width": null,
            "object_fit": null,
            "object_position": null,
            "order": null,
            "overflow": null,
            "overflow_x": null,
            "overflow_y": null,
            "padding": null,
            "right": null,
            "top": null,
            "visibility": null,
            "width": null
          }
        },
        "f80e6cacc4a748818824e2de81308acd": {
          "model_module": "@jupyter-widgets/controls",
          "model_name": "DescriptionStyleModel",
          "model_module_version": "1.5.0",
          "state": {
            "_model_module": "@jupyter-widgets/controls",
            "_model_module_version": "1.5.0",
            "_model_name": "DescriptionStyleModel",
            "_view_count": null,
            "_view_module": "@jupyter-widgets/base",
            "_view_module_version": "1.2.0",
            "_view_name": "StyleView",
            "description_width": ""
          }
        },
        "3701e0e0675243aca845f01f4d6036e7": {
          "model_module": "@jupyter-widgets/base",
          "model_name": "LayoutModel",
          "model_module_version": "1.2.0",
          "state": {
            "_model_module": "@jupyter-widgets/base",
            "_model_module_version": "1.2.0",
            "_model_name": "LayoutModel",
            "_view_count": null,
            "_view_module": "@jupyter-widgets/base",
            "_view_module_version": "1.2.0",
            "_view_name": "LayoutView",
            "align_content": null,
            "align_items": null,
            "align_self": null,
            "border": null,
            "bottom": null,
            "display": null,
            "flex": null,
            "flex_flow": null,
            "grid_area": null,
            "grid_auto_columns": null,
            "grid_auto_flow": null,
            "grid_auto_rows": null,
            "grid_column": null,
            "grid_gap": null,
            "grid_row": null,
            "grid_template_areas": null,
            "grid_template_columns": null,
            "grid_template_rows": null,
            "height": null,
            "justify_content": null,
            "justify_items": null,
            "left": null,
            "margin": null,
            "max_height": null,
            "max_width": null,
            "min_height": null,
            "min_width": null,
            "object_fit": null,
            "object_position": null,
            "order": null,
            "overflow": null,
            "overflow_x": null,
            "overflow_y": null,
            "padding": null,
            "right": null,
            "top": null,
            "visibility": null,
            "width": null
          }
        },
        "d4a416258b1f45188dc437a605370733": {
          "model_module": "@jupyter-widgets/controls",
          "model_name": "ProgressStyleModel",
          "model_module_version": "1.5.0",
          "state": {
            "_model_module": "@jupyter-widgets/controls",
            "_model_module_version": "1.5.0",
            "_model_name": "ProgressStyleModel",
            "_view_count": null,
            "_view_module": "@jupyter-widgets/base",
            "_view_module_version": "1.2.0",
            "_view_name": "StyleView",
            "bar_color": null,
            "description_width": ""
          }
        },
        "30ac26c7a30946889ce16b1a154763f6": {
          "model_module": "@jupyter-widgets/base",
          "model_name": "LayoutModel",
          "model_module_version": "1.2.0",
          "state": {
            "_model_module": "@jupyter-widgets/base",
            "_model_module_version": "1.2.0",
            "_model_name": "LayoutModel",
            "_view_count": null,
            "_view_module": "@jupyter-widgets/base",
            "_view_module_version": "1.2.0",
            "_view_name": "LayoutView",
            "align_content": null,
            "align_items": null,
            "align_self": null,
            "border": null,
            "bottom": null,
            "display": null,
            "flex": null,
            "flex_flow": null,
            "grid_area": null,
            "grid_auto_columns": null,
            "grid_auto_flow": null,
            "grid_auto_rows": null,
            "grid_column": null,
            "grid_gap": null,
            "grid_row": null,
            "grid_template_areas": null,
            "grid_template_columns": null,
            "grid_template_rows": null,
            "height": null,
            "justify_content": null,
            "justify_items": null,
            "left": null,
            "margin": null,
            "max_height": null,
            "max_width": null,
            "min_height": null,
            "min_width": null,
            "object_fit": null,
            "object_position": null,
            "order": null,
            "overflow": null,
            "overflow_x": null,
            "overflow_y": null,
            "padding": null,
            "right": null,
            "top": null,
            "visibility": null,
            "width": null
          }
        },
        "76f54b705c744a0e9960458d534c4869": {
          "model_module": "@jupyter-widgets/controls",
          "model_name": "DescriptionStyleModel",
          "model_module_version": "1.5.0",
          "state": {
            "_model_module": "@jupyter-widgets/controls",
            "_model_module_version": "1.5.0",
            "_model_name": "DescriptionStyleModel",
            "_view_count": null,
            "_view_module": "@jupyter-widgets/base",
            "_view_module_version": "1.2.0",
            "_view_name": "StyleView",
            "description_width": ""
          }
        },
        "74e355a1da17433b83f453ed11220a01": {
          "model_module": "@jupyter-widgets/controls",
          "model_name": "HBoxModel",
          "model_module_version": "1.5.0",
          "state": {
            "_dom_classes": [],
            "_model_module": "@jupyter-widgets/controls",
            "_model_module_version": "1.5.0",
            "_model_name": "HBoxModel",
            "_view_count": null,
            "_view_module": "@jupyter-widgets/controls",
            "_view_module_version": "1.5.0",
            "_view_name": "HBoxView",
            "box_style": "",
            "children": [
              "IPY_MODEL_1e251a2ef6824b66a2dfab6df5b6df07",
              "IPY_MODEL_db649c00513e4643b5af092b4dbd4cea",
              "IPY_MODEL_2135d271479746878c5eac0d3234c2c6"
            ],
            "layout": "IPY_MODEL_bf024685fd7c4ab2b9d1c8c2af0a635a"
          }
        },
        "1e251a2ef6824b66a2dfab6df5b6df07": {
          "model_module": "@jupyter-widgets/controls",
          "model_name": "HTMLModel",
          "model_module_version": "1.5.0",
          "state": {
            "_dom_classes": [],
            "_model_module": "@jupyter-widgets/controls",
            "_model_module_version": "1.5.0",
            "_model_name": "HTMLModel",
            "_view_count": null,
            "_view_module": "@jupyter-widgets/controls",
            "_view_module_version": "1.5.0",
            "_view_name": "HTMLView",
            "description": "",
            "description_tooltip": null,
            "layout": "IPY_MODEL_f1d36da66c4140e39187337825219063",
            "placeholder": "​",
            "style": "IPY_MODEL_1fe704976986464dacf70ae3d6a87454",
            "value": "Generating validation split: 100%"
          }
        },
        "db649c00513e4643b5af092b4dbd4cea": {
          "model_module": "@jupyter-widgets/controls",
          "model_name": "FloatProgressModel",
          "model_module_version": "1.5.0",
          "state": {
            "_dom_classes": [],
            "_model_module": "@jupyter-widgets/controls",
            "_model_module_version": "1.5.0",
            "_model_name": "FloatProgressModel",
            "_view_count": null,
            "_view_module": "@jupyter-widgets/controls",
            "_view_module_version": "1.5.0",
            "_view_name": "ProgressView",
            "bar_style": "success",
            "description": "",
            "description_tooltip": null,
            "layout": "IPY_MODEL_c75e2ba8c5ed4678a322106cf45e475b",
            "max": 3370,
            "min": 0,
            "orientation": "horizontal",
            "style": "IPY_MODEL_8d13f624443945a09615a494cec1defe",
            "value": 3370
          }
        },
        "2135d271479746878c5eac0d3234c2c6": {
          "model_module": "@jupyter-widgets/controls",
          "model_name": "HTMLModel",
          "model_module_version": "1.5.0",
          "state": {
            "_dom_classes": [],
            "_model_module": "@jupyter-widgets/controls",
            "_model_module_version": "1.5.0",
            "_model_name": "HTMLModel",
            "_view_count": null,
            "_view_module": "@jupyter-widgets/controls",
            "_view_module_version": "1.5.0",
            "_view_name": "HTMLView",
            "description": "",
            "description_tooltip": null,
            "layout": "IPY_MODEL_14e9f1002499416e968f2bb03e2e67a1",
            "placeholder": "​",
            "style": "IPY_MODEL_4c44cd4f6b9a4f378f5544eda240c6a9",
            "value": " 3370/3370 [00:00&lt;00:00, 86917.09 examples/s]"
          }
        },
        "bf024685fd7c4ab2b9d1c8c2af0a635a": {
          "model_module": "@jupyter-widgets/base",
          "model_name": "LayoutModel",
          "model_module_version": "1.2.0",
          "state": {
            "_model_module": "@jupyter-widgets/base",
            "_model_module_version": "1.2.0",
            "_model_name": "LayoutModel",
            "_view_count": null,
            "_view_module": "@jupyter-widgets/base",
            "_view_module_version": "1.2.0",
            "_view_name": "LayoutView",
            "align_content": null,
            "align_items": null,
            "align_self": null,
            "border": null,
            "bottom": null,
            "display": null,
            "flex": null,
            "flex_flow": null,
            "grid_area": null,
            "grid_auto_columns": null,
            "grid_auto_flow": null,
            "grid_auto_rows": null,
            "grid_column": null,
            "grid_gap": null,
            "grid_row": null,
            "grid_template_areas": null,
            "grid_template_columns": null,
            "grid_template_rows": null,
            "height": null,
            "justify_content": null,
            "justify_items": null,
            "left": null,
            "margin": null,
            "max_height": null,
            "max_width": null,
            "min_height": null,
            "min_width": null,
            "object_fit": null,
            "object_position": null,
            "order": null,
            "overflow": null,
            "overflow_x": null,
            "overflow_y": null,
            "padding": null,
            "right": null,
            "top": null,
            "visibility": null,
            "width": null
          }
        },
        "f1d36da66c4140e39187337825219063": {
          "model_module": "@jupyter-widgets/base",
          "model_name": "LayoutModel",
          "model_module_version": "1.2.0",
          "state": {
            "_model_module": "@jupyter-widgets/base",
            "_model_module_version": "1.2.0",
            "_model_name": "LayoutModel",
            "_view_count": null,
            "_view_module": "@jupyter-widgets/base",
            "_view_module_version": "1.2.0",
            "_view_name": "LayoutView",
            "align_content": null,
            "align_items": null,
            "align_self": null,
            "border": null,
            "bottom": null,
            "display": null,
            "flex": null,
            "flex_flow": null,
            "grid_area": null,
            "grid_auto_columns": null,
            "grid_auto_flow": null,
            "grid_auto_rows": null,
            "grid_column": null,
            "grid_gap": null,
            "grid_row": null,
            "grid_template_areas": null,
            "grid_template_columns": null,
            "grid_template_rows": null,
            "height": null,
            "justify_content": null,
            "justify_items": null,
            "left": null,
            "margin": null,
            "max_height": null,
            "max_width": null,
            "min_height": null,
            "min_width": null,
            "object_fit": null,
            "object_position": null,
            "order": null,
            "overflow": null,
            "overflow_x": null,
            "overflow_y": null,
            "padding": null,
            "right": null,
            "top": null,
            "visibility": null,
            "width": null
          }
        },
        "1fe704976986464dacf70ae3d6a87454": {
          "model_module": "@jupyter-widgets/controls",
          "model_name": "DescriptionStyleModel",
          "model_module_version": "1.5.0",
          "state": {
            "_model_module": "@jupyter-widgets/controls",
            "_model_module_version": "1.5.0",
            "_model_name": "DescriptionStyleModel",
            "_view_count": null,
            "_view_module": "@jupyter-widgets/base",
            "_view_module_version": "1.2.0",
            "_view_name": "StyleView",
            "description_width": ""
          }
        },
        "c75e2ba8c5ed4678a322106cf45e475b": {
          "model_module": "@jupyter-widgets/base",
          "model_name": "LayoutModel",
          "model_module_version": "1.2.0",
          "state": {
            "_model_module": "@jupyter-widgets/base",
            "_model_module_version": "1.2.0",
            "_model_name": "LayoutModel",
            "_view_count": null,
            "_view_module": "@jupyter-widgets/base",
            "_view_module_version": "1.2.0",
            "_view_name": "LayoutView",
            "align_content": null,
            "align_items": null,
            "align_self": null,
            "border": null,
            "bottom": null,
            "display": null,
            "flex": null,
            "flex_flow": null,
            "grid_area": null,
            "grid_auto_columns": null,
            "grid_auto_flow": null,
            "grid_auto_rows": null,
            "grid_column": null,
            "grid_gap": null,
            "grid_row": null,
            "grid_template_areas": null,
            "grid_template_columns": null,
            "grid_template_rows": null,
            "height": null,
            "justify_content": null,
            "justify_items": null,
            "left": null,
            "margin": null,
            "max_height": null,
            "max_width": null,
            "min_height": null,
            "min_width": null,
            "object_fit": null,
            "object_position": null,
            "order": null,
            "overflow": null,
            "overflow_x": null,
            "overflow_y": null,
            "padding": null,
            "right": null,
            "top": null,
            "visibility": null,
            "width": null
          }
        },
        "8d13f624443945a09615a494cec1defe": {
          "model_module": "@jupyter-widgets/controls",
          "model_name": "ProgressStyleModel",
          "model_module_version": "1.5.0",
          "state": {
            "_model_module": "@jupyter-widgets/controls",
            "_model_module_version": "1.5.0",
            "_model_name": "ProgressStyleModel",
            "_view_count": null,
            "_view_module": "@jupyter-widgets/base",
            "_view_module_version": "1.2.0",
            "_view_name": "StyleView",
            "bar_color": null,
            "description_width": ""
          }
        },
        "14e9f1002499416e968f2bb03e2e67a1": {
          "model_module": "@jupyter-widgets/base",
          "model_name": "LayoutModel",
          "model_module_version": "1.2.0",
          "state": {
            "_model_module": "@jupyter-widgets/base",
            "_model_module_version": "1.2.0",
            "_model_name": "LayoutModel",
            "_view_count": null,
            "_view_module": "@jupyter-widgets/base",
            "_view_module_version": "1.2.0",
            "_view_name": "LayoutView",
            "align_content": null,
            "align_items": null,
            "align_self": null,
            "border": null,
            "bottom": null,
            "display": null,
            "flex": null,
            "flex_flow": null,
            "grid_area": null,
            "grid_auto_columns": null,
            "grid_auto_flow": null,
            "grid_auto_rows": null,
            "grid_column": null,
            "grid_gap": null,
            "grid_row": null,
            "grid_template_areas": null,
            "grid_template_columns": null,
            "grid_template_rows": null,
            "height": null,
            "justify_content": null,
            "justify_items": null,
            "left": null,
            "margin": null,
            "max_height": null,
            "max_width": null,
            "min_height": null,
            "min_width": null,
            "object_fit": null,
            "object_position": null,
            "order": null,
            "overflow": null,
            "overflow_x": null,
            "overflow_y": null,
            "padding": null,
            "right": null,
            "top": null,
            "visibility": null,
            "width": null
          }
        },
        "4c44cd4f6b9a4f378f5544eda240c6a9": {
          "model_module": "@jupyter-widgets/controls",
          "model_name": "DescriptionStyleModel",
          "model_module_version": "1.5.0",
          "state": {
            "_model_module": "@jupyter-widgets/controls",
            "_model_module_version": "1.5.0",
            "_model_name": "DescriptionStyleModel",
            "_view_count": null,
            "_view_module": "@jupyter-widgets/base",
            "_view_module_version": "1.2.0",
            "_view_name": "StyleView",
            "description_width": ""
          }
        },
        "1b937e58a5d642feb2e032f2cf87cd95": {
          "model_module": "@jupyter-widgets/controls",
          "model_name": "HBoxModel",
          "model_module_version": "1.5.0",
          "state": {
            "_dom_classes": [],
            "_model_module": "@jupyter-widgets/controls",
            "_model_module_version": "1.5.0",
            "_model_name": "HBoxModel",
            "_view_count": null,
            "_view_module": "@jupyter-widgets/controls",
            "_view_module_version": "1.5.0",
            "_view_name": "HBoxView",
            "box_style": "",
            "children": [
              "IPY_MODEL_795a4c4c74da49e083bd66f2936dfc46",
              "IPY_MODEL_bab80dab3ef54c22a775c3bd63943812",
              "IPY_MODEL_8aa3389d222541359157343363d3b6e5"
            ],
            "layout": "IPY_MODEL_b5c13d88e0974c3ca1b60d2f5fd4312d"
          }
        },
        "795a4c4c74da49e083bd66f2936dfc46": {
          "model_module": "@jupyter-widgets/controls",
          "model_name": "HTMLModel",
          "model_module_version": "1.5.0",
          "state": {
            "_dom_classes": [],
            "_model_module": "@jupyter-widgets/controls",
            "_model_module_version": "1.5.0",
            "_model_name": "HTMLModel",
            "_view_count": null,
            "_view_module": "@jupyter-widgets/controls",
            "_view_module_version": "1.5.0",
            "_view_name": "HTMLView",
            "description": "",
            "description_tooltip": null,
            "layout": "IPY_MODEL_5195db4212c64249976a46180f18b001",
            "placeholder": "​",
            "style": "IPY_MODEL_c9fd933a30de4b06a7de11e761aeb10c",
            "value": "Map: 100%"
          }
        },
        "bab80dab3ef54c22a775c3bd63943812": {
          "model_module": "@jupyter-widgets/controls",
          "model_name": "FloatProgressModel",
          "model_module_version": "1.5.0",
          "state": {
            "_dom_classes": [],
            "_model_module": "@jupyter-widgets/controls",
            "_model_module_version": "1.5.0",
            "_model_name": "FloatProgressModel",
            "_view_count": null,
            "_view_module": "@jupyter-widgets/controls",
            "_view_module_version": "1.5.0",
            "_view_name": "ProgressView",
            "bar_style": "success",
            "description": "",
            "description_tooltip": null,
            "layout": "IPY_MODEL_0c59db6b50544933ae06317005ebca6b",
            "max": 33654,
            "min": 0,
            "orientation": "horizontal",
            "style": "IPY_MODEL_11c518af6e214ac0b1cd9946f03cda2a",
            "value": 33654
          }
        },
        "8aa3389d222541359157343363d3b6e5": {
          "model_module": "@jupyter-widgets/controls",
          "model_name": "HTMLModel",
          "model_module_version": "1.5.0",
          "state": {
            "_dom_classes": [],
            "_model_module": "@jupyter-widgets/controls",
            "_model_module_version": "1.5.0",
            "_model_name": "HTMLModel",
            "_view_count": null,
            "_view_module": "@jupyter-widgets/controls",
            "_view_module_version": "1.5.0",
            "_view_name": "HTMLView",
            "description": "",
            "description_tooltip": null,
            "layout": "IPY_MODEL_6c1bfeeea0784e48a41f8120e9ee25c8",
            "placeholder": "​",
            "style": "IPY_MODEL_116cc65981154f96a4f5132eab281055",
            "value": " 33654/33654 [00:04&lt;00:00, 9586.69 examples/s]"
          }
        },
        "b5c13d88e0974c3ca1b60d2f5fd4312d": {
          "model_module": "@jupyter-widgets/base",
          "model_name": "LayoutModel",
          "model_module_version": "1.2.0",
          "state": {
            "_model_module": "@jupyter-widgets/base",
            "_model_module_version": "1.2.0",
            "_model_name": "LayoutModel",
            "_view_count": null,
            "_view_module": "@jupyter-widgets/base",
            "_view_module_version": "1.2.0",
            "_view_name": "LayoutView",
            "align_content": null,
            "align_items": null,
            "align_self": null,
            "border": null,
            "bottom": null,
            "display": null,
            "flex": null,
            "flex_flow": null,
            "grid_area": null,
            "grid_auto_columns": null,
            "grid_auto_flow": null,
            "grid_auto_rows": null,
            "grid_column": null,
            "grid_gap": null,
            "grid_row": null,
            "grid_template_areas": null,
            "grid_template_columns": null,
            "grid_template_rows": null,
            "height": null,
            "justify_content": null,
            "justify_items": null,
            "left": null,
            "margin": null,
            "max_height": null,
            "max_width": null,
            "min_height": null,
            "min_width": null,
            "object_fit": null,
            "object_position": null,
            "order": null,
            "overflow": null,
            "overflow_x": null,
            "overflow_y": null,
            "padding": null,
            "right": null,
            "top": null,
            "visibility": null,
            "width": null
          }
        },
        "5195db4212c64249976a46180f18b001": {
          "model_module": "@jupyter-widgets/base",
          "model_name": "LayoutModel",
          "model_module_version": "1.2.0",
          "state": {
            "_model_module": "@jupyter-widgets/base",
            "_model_module_version": "1.2.0",
            "_model_name": "LayoutModel",
            "_view_count": null,
            "_view_module": "@jupyter-widgets/base",
            "_view_module_version": "1.2.0",
            "_view_name": "LayoutView",
            "align_content": null,
            "align_items": null,
            "align_self": null,
            "border": null,
            "bottom": null,
            "display": null,
            "flex": null,
            "flex_flow": null,
            "grid_area": null,
            "grid_auto_columns": null,
            "grid_auto_flow": null,
            "grid_auto_rows": null,
            "grid_column": null,
            "grid_gap": null,
            "grid_row": null,
            "grid_template_areas": null,
            "grid_template_columns": null,
            "grid_template_rows": null,
            "height": null,
            "justify_content": null,
            "justify_items": null,
            "left": null,
            "margin": null,
            "max_height": null,
            "max_width": null,
            "min_height": null,
            "min_width": null,
            "object_fit": null,
            "object_position": null,
            "order": null,
            "overflow": null,
            "overflow_x": null,
            "overflow_y": null,
            "padding": null,
            "right": null,
            "top": null,
            "visibility": null,
            "width": null
          }
        },
        "c9fd933a30de4b06a7de11e761aeb10c": {
          "model_module": "@jupyter-widgets/controls",
          "model_name": "DescriptionStyleModel",
          "model_module_version": "1.5.0",
          "state": {
            "_model_module": "@jupyter-widgets/controls",
            "_model_module_version": "1.5.0",
            "_model_name": "DescriptionStyleModel",
            "_view_count": null,
            "_view_module": "@jupyter-widgets/base",
            "_view_module_version": "1.2.0",
            "_view_name": "StyleView",
            "description_width": ""
          }
        },
        "0c59db6b50544933ae06317005ebca6b": {
          "model_module": "@jupyter-widgets/base",
          "model_name": "LayoutModel",
          "model_module_version": "1.2.0",
          "state": {
            "_model_module": "@jupyter-widgets/base",
            "_model_module_version": "1.2.0",
            "_model_name": "LayoutModel",
            "_view_count": null,
            "_view_module": "@jupyter-widgets/base",
            "_view_module_version": "1.2.0",
            "_view_name": "LayoutView",
            "align_content": null,
            "align_items": null,
            "align_self": null,
            "border": null,
            "bottom": null,
            "display": null,
            "flex": null,
            "flex_flow": null,
            "grid_area": null,
            "grid_auto_columns": null,
            "grid_auto_flow": null,
            "grid_auto_rows": null,
            "grid_column": null,
            "grid_gap": null,
            "grid_row": null,
            "grid_template_areas": null,
            "grid_template_columns": null,
            "grid_template_rows": null,
            "height": null,
            "justify_content": null,
            "justify_items": null,
            "left": null,
            "margin": null,
            "max_height": null,
            "max_width": null,
            "min_height": null,
            "min_width": null,
            "object_fit": null,
            "object_position": null,
            "order": null,
            "overflow": null,
            "overflow_x": null,
            "overflow_y": null,
            "padding": null,
            "right": null,
            "top": null,
            "visibility": null,
            "width": null
          }
        },
        "11c518af6e214ac0b1cd9946f03cda2a": {
          "model_module": "@jupyter-widgets/controls",
          "model_name": "ProgressStyleModel",
          "model_module_version": "1.5.0",
          "state": {
            "_model_module": "@jupyter-widgets/controls",
            "_model_module_version": "1.5.0",
            "_model_name": "ProgressStyleModel",
            "_view_count": null,
            "_view_module": "@jupyter-widgets/base",
            "_view_module_version": "1.2.0",
            "_view_name": "StyleView",
            "bar_color": null,
            "description_width": ""
          }
        },
        "6c1bfeeea0784e48a41f8120e9ee25c8": {
          "model_module": "@jupyter-widgets/base",
          "model_name": "LayoutModel",
          "model_module_version": "1.2.0",
          "state": {
            "_model_module": "@jupyter-widgets/base",
            "_model_module_version": "1.2.0",
            "_model_name": "LayoutModel",
            "_view_count": null,
            "_view_module": "@jupyter-widgets/base",
            "_view_module_version": "1.2.0",
            "_view_name": "LayoutView",
            "align_content": null,
            "align_items": null,
            "align_self": null,
            "border": null,
            "bottom": null,
            "display": null,
            "flex": null,
            "flex_flow": null,
            "grid_area": null,
            "grid_auto_columns": null,
            "grid_auto_flow": null,
            "grid_auto_rows": null,
            "grid_column": null,
            "grid_gap": null,
            "grid_row": null,
            "grid_template_areas": null,
            "grid_template_columns": null,
            "grid_template_rows": null,
            "height": null,
            "justify_content": null,
            "justify_items": null,
            "left": null,
            "margin": null,
            "max_height": null,
            "max_width": null,
            "min_height": null,
            "min_width": null,
            "object_fit": null,
            "object_position": null,
            "order": null,
            "overflow": null,
            "overflow_x": null,
            "overflow_y": null,
            "padding": null,
            "right": null,
            "top": null,
            "visibility": null,
            "width": null
          }
        },
        "116cc65981154f96a4f5132eab281055": {
          "model_module": "@jupyter-widgets/controls",
          "model_name": "DescriptionStyleModel",
          "model_module_version": "1.5.0",
          "state": {
            "_model_module": "@jupyter-widgets/controls",
            "_model_module_version": "1.5.0",
            "_model_name": "DescriptionStyleModel",
            "_view_count": null,
            "_view_module": "@jupyter-widgets/base",
            "_view_module_version": "1.2.0",
            "_view_name": "StyleView",
            "description_width": ""
          }
        },
        "94b6a732d5434485a4f0daa06d760e8b": {
          "model_module": "@jupyter-widgets/controls",
          "model_name": "HBoxModel",
          "model_module_version": "1.5.0",
          "state": {
            "_dom_classes": [],
            "_model_module": "@jupyter-widgets/controls",
            "_model_module_version": "1.5.0",
            "_model_name": "HBoxModel",
            "_view_count": null,
            "_view_module": "@jupyter-widgets/controls",
            "_view_module_version": "1.5.0",
            "_view_name": "HBoxView",
            "box_style": "",
            "children": [
              "IPY_MODEL_30bc9a4e9fd94166ba87c547c26e2855",
              "IPY_MODEL_fa82ce95e6af48cd84ac3cb975e1be18",
              "IPY_MODEL_69ec6ad07491469abd9ae726e896f532"
            ],
            "layout": "IPY_MODEL_b3a935de110c4bf09688ddb9fc26b25b"
          }
        },
        "30bc9a4e9fd94166ba87c547c26e2855": {
          "model_module": "@jupyter-widgets/controls",
          "model_name": "HTMLModel",
          "model_module_version": "1.5.0",
          "state": {
            "_dom_classes": [],
            "_model_module": "@jupyter-widgets/controls",
            "_model_module_version": "1.5.0",
            "_model_name": "HTMLModel",
            "_view_count": null,
            "_view_module": "@jupyter-widgets/controls",
            "_view_module_version": "1.5.0",
            "_view_name": "HTMLView",
            "description": "",
            "description_tooltip": null,
            "layout": "IPY_MODEL_84efddf48fb54d6dba06fb6dc020ed8a",
            "placeholder": "​",
            "style": "IPY_MODEL_479de5c05c4e4897bb30ce4081fd92a8",
            "value": "Map: 100%"
          }
        },
        "fa82ce95e6af48cd84ac3cb975e1be18": {
          "model_module": "@jupyter-widgets/controls",
          "model_name": "FloatProgressModel",
          "model_module_version": "1.5.0",
          "state": {
            "_dom_classes": [],
            "_model_module": "@jupyter-widgets/controls",
            "_model_module_version": "1.5.0",
            "_model_name": "FloatProgressModel",
            "_view_count": null,
            "_view_module": "@jupyter-widgets/controls",
            "_view_module_version": "1.5.0",
            "_view_name": "ProgressView",
            "bar_style": "success",
            "description": "",
            "description_tooltip": null,
            "layout": "IPY_MODEL_2edbd73bc06f46109aa2e8b31feb8d78",
            "max": 8414,
            "min": 0,
            "orientation": "horizontal",
            "style": "IPY_MODEL_7258e2b0fca14202bf0291b9bff112c7",
            "value": 8414
          }
        },
        "69ec6ad07491469abd9ae726e896f532": {
          "model_module": "@jupyter-widgets/controls",
          "model_name": "HTMLModel",
          "model_module_version": "1.5.0",
          "state": {
            "_dom_classes": [],
            "_model_module": "@jupyter-widgets/controls",
            "_model_module_version": "1.5.0",
            "_model_name": "HTMLModel",
            "_view_count": null,
            "_view_module": "@jupyter-widgets/controls",
            "_view_module_version": "1.5.0",
            "_view_name": "HTMLView",
            "description": "",
            "description_tooltip": null,
            "layout": "IPY_MODEL_e8929159f7cf43b5b260e42a5190483c",
            "placeholder": "​",
            "style": "IPY_MODEL_18b4048058c746469f426e0cd3a45c8b",
            "value": " 8414/8414 [00:01&lt;00:00, 6050.07 examples/s]"
          }
        },
        "b3a935de110c4bf09688ddb9fc26b25b": {
          "model_module": "@jupyter-widgets/base",
          "model_name": "LayoutModel",
          "model_module_version": "1.2.0",
          "state": {
            "_model_module": "@jupyter-widgets/base",
            "_model_module_version": "1.2.0",
            "_model_name": "LayoutModel",
            "_view_count": null,
            "_view_module": "@jupyter-widgets/base",
            "_view_module_version": "1.2.0",
            "_view_name": "LayoutView",
            "align_content": null,
            "align_items": null,
            "align_self": null,
            "border": null,
            "bottom": null,
            "display": null,
            "flex": null,
            "flex_flow": null,
            "grid_area": null,
            "grid_auto_columns": null,
            "grid_auto_flow": null,
            "grid_auto_rows": null,
            "grid_column": null,
            "grid_gap": null,
            "grid_row": null,
            "grid_template_areas": null,
            "grid_template_columns": null,
            "grid_template_rows": null,
            "height": null,
            "justify_content": null,
            "justify_items": null,
            "left": null,
            "margin": null,
            "max_height": null,
            "max_width": null,
            "min_height": null,
            "min_width": null,
            "object_fit": null,
            "object_position": null,
            "order": null,
            "overflow": null,
            "overflow_x": null,
            "overflow_y": null,
            "padding": null,
            "right": null,
            "top": null,
            "visibility": null,
            "width": null
          }
        },
        "84efddf48fb54d6dba06fb6dc020ed8a": {
          "model_module": "@jupyter-widgets/base",
          "model_name": "LayoutModel",
          "model_module_version": "1.2.0",
          "state": {
            "_model_module": "@jupyter-widgets/base",
            "_model_module_version": "1.2.0",
            "_model_name": "LayoutModel",
            "_view_count": null,
            "_view_module": "@jupyter-widgets/base",
            "_view_module_version": "1.2.0",
            "_view_name": "LayoutView",
            "align_content": null,
            "align_items": null,
            "align_self": null,
            "border": null,
            "bottom": null,
            "display": null,
            "flex": null,
            "flex_flow": null,
            "grid_area": null,
            "grid_auto_columns": null,
            "grid_auto_flow": null,
            "grid_auto_rows": null,
            "grid_column": null,
            "grid_gap": null,
            "grid_row": null,
            "grid_template_areas": null,
            "grid_template_columns": null,
            "grid_template_rows": null,
            "height": null,
            "justify_content": null,
            "justify_items": null,
            "left": null,
            "margin": null,
            "max_height": null,
            "max_width": null,
            "min_height": null,
            "min_width": null,
            "object_fit": null,
            "object_position": null,
            "order": null,
            "overflow": null,
            "overflow_x": null,
            "overflow_y": null,
            "padding": null,
            "right": null,
            "top": null,
            "visibility": null,
            "width": null
          }
        },
        "479de5c05c4e4897bb30ce4081fd92a8": {
          "model_module": "@jupyter-widgets/controls",
          "model_name": "DescriptionStyleModel",
          "model_module_version": "1.5.0",
          "state": {
            "_model_module": "@jupyter-widgets/controls",
            "_model_module_version": "1.5.0",
            "_model_name": "DescriptionStyleModel",
            "_view_count": null,
            "_view_module": "@jupyter-widgets/base",
            "_view_module_version": "1.2.0",
            "_view_name": "StyleView",
            "description_width": ""
          }
        },
        "2edbd73bc06f46109aa2e8b31feb8d78": {
          "model_module": "@jupyter-widgets/base",
          "model_name": "LayoutModel",
          "model_module_version": "1.2.0",
          "state": {
            "_model_module": "@jupyter-widgets/base",
            "_model_module_version": "1.2.0",
            "_model_name": "LayoutModel",
            "_view_count": null,
            "_view_module": "@jupyter-widgets/base",
            "_view_module_version": "1.2.0",
            "_view_name": "LayoutView",
            "align_content": null,
            "align_items": null,
            "align_self": null,
            "border": null,
            "bottom": null,
            "display": null,
            "flex": null,
            "flex_flow": null,
            "grid_area": null,
            "grid_auto_columns": null,
            "grid_auto_flow": null,
            "grid_auto_rows": null,
            "grid_column": null,
            "grid_gap": null,
            "grid_row": null,
            "grid_template_areas": null,
            "grid_template_columns": null,
            "grid_template_rows": null,
            "height": null,
            "justify_content": null,
            "justify_items": null,
            "left": null,
            "margin": null,
            "max_height": null,
            "max_width": null,
            "min_height": null,
            "min_width": null,
            "object_fit": null,
            "object_position": null,
            "order": null,
            "overflow": null,
            "overflow_x": null,
            "overflow_y": null,
            "padding": null,
            "right": null,
            "top": null,
            "visibility": null,
            "width": null
          }
        },
        "7258e2b0fca14202bf0291b9bff112c7": {
          "model_module": "@jupyter-widgets/controls",
          "model_name": "ProgressStyleModel",
          "model_module_version": "1.5.0",
          "state": {
            "_model_module": "@jupyter-widgets/controls",
            "_model_module_version": "1.5.0",
            "_model_name": "ProgressStyleModel",
            "_view_count": null,
            "_view_module": "@jupyter-widgets/base",
            "_view_module_version": "1.2.0",
            "_view_name": "StyleView",
            "bar_color": null,
            "description_width": ""
          }
        },
        "e8929159f7cf43b5b260e42a5190483c": {
          "model_module": "@jupyter-widgets/base",
          "model_name": "LayoutModel",
          "model_module_version": "1.2.0",
          "state": {
            "_model_module": "@jupyter-widgets/base",
            "_model_module_version": "1.2.0",
            "_model_name": "LayoutModel",
            "_view_count": null,
            "_view_module": "@jupyter-widgets/base",
            "_view_module_version": "1.2.0",
            "_view_name": "LayoutView",
            "align_content": null,
            "align_items": null,
            "align_self": null,
            "border": null,
            "bottom": null,
            "display": null,
            "flex": null,
            "flex_flow": null,
            "grid_area": null,
            "grid_auto_columns": null,
            "grid_auto_flow": null,
            "grid_auto_rows": null,
            "grid_column": null,
            "grid_gap": null,
            "grid_row": null,
            "grid_template_areas": null,
            "grid_template_columns": null,
            "grid_template_rows": null,
            "height": null,
            "justify_content": null,
            "justify_items": null,
            "left": null,
            "margin": null,
            "max_height": null,
            "max_width": null,
            "min_height": null,
            "min_width": null,
            "object_fit": null,
            "object_position": null,
            "order": null,
            "overflow": null,
            "overflow_x": null,
            "overflow_y": null,
            "padding": null,
            "right": null,
            "top": null,
            "visibility": null,
            "width": null
          }
        },
        "18b4048058c746469f426e0cd3a45c8b": {
          "model_module": "@jupyter-widgets/controls",
          "model_name": "DescriptionStyleModel",
          "model_module_version": "1.5.0",
          "state": {
            "_model_module": "@jupyter-widgets/controls",
            "_model_module_version": "1.5.0",
            "_model_name": "DescriptionStyleModel",
            "_view_count": null,
            "_view_module": "@jupyter-widgets/base",
            "_view_module_version": "1.2.0",
            "_view_name": "StyleView",
            "description_width": ""
          }
        },
        "22498be0303544feb09d829f72816341": {
          "model_module": "@jupyter-widgets/controls",
          "model_name": "HBoxModel",
          "model_module_version": "1.5.0",
          "state": {
            "_dom_classes": [],
            "_model_module": "@jupyter-widgets/controls",
            "_model_module_version": "1.5.0",
            "_model_name": "HBoxModel",
            "_view_count": null,
            "_view_module": "@jupyter-widgets/controls",
            "_view_module_version": "1.5.0",
            "_view_name": "HBoxView",
            "box_style": "",
            "children": [
              "IPY_MODEL_932c8b18a33840019f8df75de6a9b1c8",
              "IPY_MODEL_f706f70a261640929794737d3548b499",
              "IPY_MODEL_204cd6cbdc1b4652967625719f791f41"
            ],
            "layout": "IPY_MODEL_d35d61bcb98a4c6288c265a53ba2f132"
          }
        },
        "932c8b18a33840019f8df75de6a9b1c8": {
          "model_module": "@jupyter-widgets/controls",
          "model_name": "HTMLModel",
          "model_module_version": "1.5.0",
          "state": {
            "_dom_classes": [],
            "_model_module": "@jupyter-widgets/controls",
            "_model_module_version": "1.5.0",
            "_model_name": "HTMLModel",
            "_view_count": null,
            "_view_module": "@jupyter-widgets/controls",
            "_view_module_version": "1.5.0",
            "_view_name": "HTMLView",
            "description": "",
            "description_tooltip": null,
            "layout": "IPY_MODEL_5ac997938f0f4213aed161952cd939a4",
            "placeholder": "​",
            "style": "IPY_MODEL_4f2b12c9655b4b6589acf7c7b8942a6c",
            "value": "Filter: 100%"
          }
        },
        "f706f70a261640929794737d3548b499": {
          "model_module": "@jupyter-widgets/controls",
          "model_name": "FloatProgressModel",
          "model_module_version": "1.5.0",
          "state": {
            "_dom_classes": [],
            "_model_module": "@jupyter-widgets/controls",
            "_model_module_version": "1.5.0",
            "_model_name": "FloatProgressModel",
            "_view_count": null,
            "_view_module": "@jupyter-widgets/controls",
            "_view_module_version": "1.5.0",
            "_view_name": "ProgressView",
            "bar_style": "success",
            "description": "",
            "description_tooltip": null,
            "layout": "IPY_MODEL_f9839dff18ba4a6f84ee6b1ec77074ce",
            "max": 33654,
            "min": 0,
            "orientation": "horizontal",
            "style": "IPY_MODEL_195c706fbdad45eb97780ab3d611d70a",
            "value": 33654
          }
        },
        "204cd6cbdc1b4652967625719f791f41": {
          "model_module": "@jupyter-widgets/controls",
          "model_name": "HTMLModel",
          "model_module_version": "1.5.0",
          "state": {
            "_dom_classes": [],
            "_model_module": "@jupyter-widgets/controls",
            "_model_module_version": "1.5.0",
            "_model_name": "HTMLModel",
            "_view_count": null,
            "_view_module": "@jupyter-widgets/controls",
            "_view_module_version": "1.5.0",
            "_view_name": "HTMLView",
            "description": "",
            "description_tooltip": null,
            "layout": "IPY_MODEL_25a07d56b928491cbff3226eb89e8927",
            "placeholder": "​",
            "style": "IPY_MODEL_dacbfe28aff24861aa43621c301931b5",
            "value": " 33654/33654 [00:00&lt;00:00, 112243.40 examples/s]"
          }
        },
        "d35d61bcb98a4c6288c265a53ba2f132": {
          "model_module": "@jupyter-widgets/base",
          "model_name": "LayoutModel",
          "model_module_version": "1.2.0",
          "state": {
            "_model_module": "@jupyter-widgets/base",
            "_model_module_version": "1.2.0",
            "_model_name": "LayoutModel",
            "_view_count": null,
            "_view_module": "@jupyter-widgets/base",
            "_view_module_version": "1.2.0",
            "_view_name": "LayoutView",
            "align_content": null,
            "align_items": null,
            "align_self": null,
            "border": null,
            "bottom": null,
            "display": null,
            "flex": null,
            "flex_flow": null,
            "grid_area": null,
            "grid_auto_columns": null,
            "grid_auto_flow": null,
            "grid_auto_rows": null,
            "grid_column": null,
            "grid_gap": null,
            "grid_row": null,
            "grid_template_areas": null,
            "grid_template_columns": null,
            "grid_template_rows": null,
            "height": null,
            "justify_content": null,
            "justify_items": null,
            "left": null,
            "margin": null,
            "max_height": null,
            "max_width": null,
            "min_height": null,
            "min_width": null,
            "object_fit": null,
            "object_position": null,
            "order": null,
            "overflow": null,
            "overflow_x": null,
            "overflow_y": null,
            "padding": null,
            "right": null,
            "top": null,
            "visibility": null,
            "width": null
          }
        },
        "5ac997938f0f4213aed161952cd939a4": {
          "model_module": "@jupyter-widgets/base",
          "model_name": "LayoutModel",
          "model_module_version": "1.2.0",
          "state": {
            "_model_module": "@jupyter-widgets/base",
            "_model_module_version": "1.2.0",
            "_model_name": "LayoutModel",
            "_view_count": null,
            "_view_module": "@jupyter-widgets/base",
            "_view_module_version": "1.2.0",
            "_view_name": "LayoutView",
            "align_content": null,
            "align_items": null,
            "align_self": null,
            "border": null,
            "bottom": null,
            "display": null,
            "flex": null,
            "flex_flow": null,
            "grid_area": null,
            "grid_auto_columns": null,
            "grid_auto_flow": null,
            "grid_auto_rows": null,
            "grid_column": null,
            "grid_gap": null,
            "grid_row": null,
            "grid_template_areas": null,
            "grid_template_columns": null,
            "grid_template_rows": null,
            "height": null,
            "justify_content": null,
            "justify_items": null,
            "left": null,
            "margin": null,
            "max_height": null,
            "max_width": null,
            "min_height": null,
            "min_width": null,
            "object_fit": null,
            "object_position": null,
            "order": null,
            "overflow": null,
            "overflow_x": null,
            "overflow_y": null,
            "padding": null,
            "right": null,
            "top": null,
            "visibility": null,
            "width": null
          }
        },
        "4f2b12c9655b4b6589acf7c7b8942a6c": {
          "model_module": "@jupyter-widgets/controls",
          "model_name": "DescriptionStyleModel",
          "model_module_version": "1.5.0",
          "state": {
            "_model_module": "@jupyter-widgets/controls",
            "_model_module_version": "1.5.0",
            "_model_name": "DescriptionStyleModel",
            "_view_count": null,
            "_view_module": "@jupyter-widgets/base",
            "_view_module_version": "1.2.0",
            "_view_name": "StyleView",
            "description_width": ""
          }
        },
        "f9839dff18ba4a6f84ee6b1ec77074ce": {
          "model_module": "@jupyter-widgets/base",
          "model_name": "LayoutModel",
          "model_module_version": "1.2.0",
          "state": {
            "_model_module": "@jupyter-widgets/base",
            "_model_module_version": "1.2.0",
            "_model_name": "LayoutModel",
            "_view_count": null,
            "_view_module": "@jupyter-widgets/base",
            "_view_module_version": "1.2.0",
            "_view_name": "LayoutView",
            "align_content": null,
            "align_items": null,
            "align_self": null,
            "border": null,
            "bottom": null,
            "display": null,
            "flex": null,
            "flex_flow": null,
            "grid_area": null,
            "grid_auto_columns": null,
            "grid_auto_flow": null,
            "grid_auto_rows": null,
            "grid_column": null,
            "grid_gap": null,
            "grid_row": null,
            "grid_template_areas": null,
            "grid_template_columns": null,
            "grid_template_rows": null,
            "height": null,
            "justify_content": null,
            "justify_items": null,
            "left": null,
            "margin": null,
            "max_height": null,
            "max_width": null,
            "min_height": null,
            "min_width": null,
            "object_fit": null,
            "object_position": null,
            "order": null,
            "overflow": null,
            "overflow_x": null,
            "overflow_y": null,
            "padding": null,
            "right": null,
            "top": null,
            "visibility": null,
            "width": null
          }
        },
        "195c706fbdad45eb97780ab3d611d70a": {
          "model_module": "@jupyter-widgets/controls",
          "model_name": "ProgressStyleModel",
          "model_module_version": "1.5.0",
          "state": {
            "_model_module": "@jupyter-widgets/controls",
            "_model_module_version": "1.5.0",
            "_model_name": "ProgressStyleModel",
            "_view_count": null,
            "_view_module": "@jupyter-widgets/base",
            "_view_module_version": "1.2.0",
            "_view_name": "StyleView",
            "bar_color": null,
            "description_width": ""
          }
        },
        "25a07d56b928491cbff3226eb89e8927": {
          "model_module": "@jupyter-widgets/base",
          "model_name": "LayoutModel",
          "model_module_version": "1.2.0",
          "state": {
            "_model_module": "@jupyter-widgets/base",
            "_model_module_version": "1.2.0",
            "_model_name": "LayoutModel",
            "_view_count": null,
            "_view_module": "@jupyter-widgets/base",
            "_view_module_version": "1.2.0",
            "_view_name": "LayoutView",
            "align_content": null,
            "align_items": null,
            "align_self": null,
            "border": null,
            "bottom": null,
            "display": null,
            "flex": null,
            "flex_flow": null,
            "grid_area": null,
            "grid_auto_columns": null,
            "grid_auto_flow": null,
            "grid_auto_rows": null,
            "grid_column": null,
            "grid_gap": null,
            "grid_row": null,
            "grid_template_areas": null,
            "grid_template_columns": null,
            "grid_template_rows": null,
            "height": null,
            "justify_content": null,
            "justify_items": null,
            "left": null,
            "margin": null,
            "max_height": null,
            "max_width": null,
            "min_height": null,
            "min_width": null,
            "object_fit": null,
            "object_position": null,
            "order": null,
            "overflow": null,
            "overflow_x": null,
            "overflow_y": null,
            "padding": null,
            "right": null,
            "top": null,
            "visibility": null,
            "width": null
          }
        },
        "dacbfe28aff24861aa43621c301931b5": {
          "model_module": "@jupyter-widgets/controls",
          "model_name": "DescriptionStyleModel",
          "model_module_version": "1.5.0",
          "state": {
            "_model_module": "@jupyter-widgets/controls",
            "_model_module_version": "1.5.0",
            "_model_name": "DescriptionStyleModel",
            "_view_count": null,
            "_view_module": "@jupyter-widgets/base",
            "_view_module_version": "1.2.0",
            "_view_name": "StyleView",
            "description_width": ""
          }
        },
        "0033c66fce5b45e9874cb9d1f12d09bd": {
          "model_module": "@jupyter-widgets/controls",
          "model_name": "HBoxModel",
          "model_module_version": "1.5.0",
          "state": {
            "_dom_classes": [],
            "_model_module": "@jupyter-widgets/controls",
            "_model_module_version": "1.5.0",
            "_model_name": "HBoxModel",
            "_view_count": null,
            "_view_module": "@jupyter-widgets/controls",
            "_view_module_version": "1.5.0",
            "_view_name": "HBoxView",
            "box_style": "",
            "children": [
              "IPY_MODEL_91ebb84d9ad0466e965bed04a9739c98",
              "IPY_MODEL_7c9de769b2d04a6994e36b236feacc91",
              "IPY_MODEL_bd72620bfe2141a0b038b92b63a2577f"
            ],
            "layout": "IPY_MODEL_d3b3de2911cf46c5b0b221c900042f4f"
          }
        },
        "91ebb84d9ad0466e965bed04a9739c98": {
          "model_module": "@jupyter-widgets/controls",
          "model_name": "HTMLModel",
          "model_module_version": "1.5.0",
          "state": {
            "_dom_classes": [],
            "_model_module": "@jupyter-widgets/controls",
            "_model_module_version": "1.5.0",
            "_model_name": "HTMLModel",
            "_view_count": null,
            "_view_module": "@jupyter-widgets/controls",
            "_view_module_version": "1.5.0",
            "_view_name": "HTMLView",
            "description": "",
            "description_tooltip": null,
            "layout": "IPY_MODEL_2733758bc8e44b5283694c749e559c00",
            "placeholder": "​",
            "style": "IPY_MODEL_31061d9d6d724c7fa88ab01645c65e96",
            "value": "Filter: 100%"
          }
        },
        "7c9de769b2d04a6994e36b236feacc91": {
          "model_module": "@jupyter-widgets/controls",
          "model_name": "FloatProgressModel",
          "model_module_version": "1.5.0",
          "state": {
            "_dom_classes": [],
            "_model_module": "@jupyter-widgets/controls",
            "_model_module_version": "1.5.0",
            "_model_name": "FloatProgressModel",
            "_view_count": null,
            "_view_module": "@jupyter-widgets/controls",
            "_view_module_version": "1.5.0",
            "_view_name": "ProgressView",
            "bar_style": "success",
            "description": "",
            "description_tooltip": null,
            "layout": "IPY_MODEL_27b1d566f890482bbd69778030b16329",
            "max": 33654,
            "min": 0,
            "orientation": "horizontal",
            "style": "IPY_MODEL_e022f276d2dc48e896139a4a636e2d8a",
            "value": 33654
          }
        },
        "bd72620bfe2141a0b038b92b63a2577f": {
          "model_module": "@jupyter-widgets/controls",
          "model_name": "HTMLModel",
          "model_module_version": "1.5.0",
          "state": {
            "_dom_classes": [],
            "_model_module": "@jupyter-widgets/controls",
            "_model_module_version": "1.5.0",
            "_model_name": "HTMLModel",
            "_view_count": null,
            "_view_module": "@jupyter-widgets/controls",
            "_view_module_version": "1.5.0",
            "_view_name": "HTMLView",
            "description": "",
            "description_tooltip": null,
            "layout": "IPY_MODEL_693d5f9d767e413a831a47b013f1069d",
            "placeholder": "​",
            "style": "IPY_MODEL_83dac075b61f41e7b8b300e40f560035",
            "value": " 33654/33654 [00:00&lt;00:00, 92134.08 examples/s]"
          }
        },
        "d3b3de2911cf46c5b0b221c900042f4f": {
          "model_module": "@jupyter-widgets/base",
          "model_name": "LayoutModel",
          "model_module_version": "1.2.0",
          "state": {
            "_model_module": "@jupyter-widgets/base",
            "_model_module_version": "1.2.0",
            "_model_name": "LayoutModel",
            "_view_count": null,
            "_view_module": "@jupyter-widgets/base",
            "_view_module_version": "1.2.0",
            "_view_name": "LayoutView",
            "align_content": null,
            "align_items": null,
            "align_self": null,
            "border": null,
            "bottom": null,
            "display": null,
            "flex": null,
            "flex_flow": null,
            "grid_area": null,
            "grid_auto_columns": null,
            "grid_auto_flow": null,
            "grid_auto_rows": null,
            "grid_column": null,
            "grid_gap": null,
            "grid_row": null,
            "grid_template_areas": null,
            "grid_template_columns": null,
            "grid_template_rows": null,
            "height": null,
            "justify_content": null,
            "justify_items": null,
            "left": null,
            "margin": null,
            "max_height": null,
            "max_width": null,
            "min_height": null,
            "min_width": null,
            "object_fit": null,
            "object_position": null,
            "order": null,
            "overflow": null,
            "overflow_x": null,
            "overflow_y": null,
            "padding": null,
            "right": null,
            "top": null,
            "visibility": null,
            "width": null
          }
        },
        "2733758bc8e44b5283694c749e559c00": {
          "model_module": "@jupyter-widgets/base",
          "model_name": "LayoutModel",
          "model_module_version": "1.2.0",
          "state": {
            "_model_module": "@jupyter-widgets/base",
            "_model_module_version": "1.2.0",
            "_model_name": "LayoutModel",
            "_view_count": null,
            "_view_module": "@jupyter-widgets/base",
            "_view_module_version": "1.2.0",
            "_view_name": "LayoutView",
            "align_content": null,
            "align_items": null,
            "align_self": null,
            "border": null,
            "bottom": null,
            "display": null,
            "flex": null,
            "flex_flow": null,
            "grid_area": null,
            "grid_auto_columns": null,
            "grid_auto_flow": null,
            "grid_auto_rows": null,
            "grid_column": null,
            "grid_gap": null,
            "grid_row": null,
            "grid_template_areas": null,
            "grid_template_columns": null,
            "grid_template_rows": null,
            "height": null,
            "justify_content": null,
            "justify_items": null,
            "left": null,
            "margin": null,
            "max_height": null,
            "max_width": null,
            "min_height": null,
            "min_width": null,
            "object_fit": null,
            "object_position": null,
            "order": null,
            "overflow": null,
            "overflow_x": null,
            "overflow_y": null,
            "padding": null,
            "right": null,
            "top": null,
            "visibility": null,
            "width": null
          }
        },
        "31061d9d6d724c7fa88ab01645c65e96": {
          "model_module": "@jupyter-widgets/controls",
          "model_name": "DescriptionStyleModel",
          "model_module_version": "1.5.0",
          "state": {
            "_model_module": "@jupyter-widgets/controls",
            "_model_module_version": "1.5.0",
            "_model_name": "DescriptionStyleModel",
            "_view_count": null,
            "_view_module": "@jupyter-widgets/base",
            "_view_module_version": "1.2.0",
            "_view_name": "StyleView",
            "description_width": ""
          }
        },
        "27b1d566f890482bbd69778030b16329": {
          "model_module": "@jupyter-widgets/base",
          "model_name": "LayoutModel",
          "model_module_version": "1.2.0",
          "state": {
            "_model_module": "@jupyter-widgets/base",
            "_model_module_version": "1.2.0",
            "_model_name": "LayoutModel",
            "_view_count": null,
            "_view_module": "@jupyter-widgets/base",
            "_view_module_version": "1.2.0",
            "_view_name": "LayoutView",
            "align_content": null,
            "align_items": null,
            "align_self": null,
            "border": null,
            "bottom": null,
            "display": null,
            "flex": null,
            "flex_flow": null,
            "grid_area": null,
            "grid_auto_columns": null,
            "grid_auto_flow": null,
            "grid_auto_rows": null,
            "grid_column": null,
            "grid_gap": null,
            "grid_row": null,
            "grid_template_areas": null,
            "grid_template_columns": null,
            "grid_template_rows": null,
            "height": null,
            "justify_content": null,
            "justify_items": null,
            "left": null,
            "margin": null,
            "max_height": null,
            "max_width": null,
            "min_height": null,
            "min_width": null,
            "object_fit": null,
            "object_position": null,
            "order": null,
            "overflow": null,
            "overflow_x": null,
            "overflow_y": null,
            "padding": null,
            "right": null,
            "top": null,
            "visibility": null,
            "width": null
          }
        },
        "e022f276d2dc48e896139a4a636e2d8a": {
          "model_module": "@jupyter-widgets/controls",
          "model_name": "ProgressStyleModel",
          "model_module_version": "1.5.0",
          "state": {
            "_model_module": "@jupyter-widgets/controls",
            "_model_module_version": "1.5.0",
            "_model_name": "ProgressStyleModel",
            "_view_count": null,
            "_view_module": "@jupyter-widgets/base",
            "_view_module_version": "1.2.0",
            "_view_name": "StyleView",
            "bar_color": null,
            "description_width": ""
          }
        },
        "693d5f9d767e413a831a47b013f1069d": {
          "model_module": "@jupyter-widgets/base",
          "model_name": "LayoutModel",
          "model_module_version": "1.2.0",
          "state": {
            "_model_module": "@jupyter-widgets/base",
            "_model_module_version": "1.2.0",
            "_model_name": "LayoutModel",
            "_view_count": null,
            "_view_module": "@jupyter-widgets/base",
            "_view_module_version": "1.2.0",
            "_view_name": "LayoutView",
            "align_content": null,
            "align_items": null,
            "align_self": null,
            "border": null,
            "bottom": null,
            "display": null,
            "flex": null,
            "flex_flow": null,
            "grid_area": null,
            "grid_auto_columns": null,
            "grid_auto_flow": null,
            "grid_auto_rows": null,
            "grid_column": null,
            "grid_gap": null,
            "grid_row": null,
            "grid_template_areas": null,
            "grid_template_columns": null,
            "grid_template_rows": null,
            "height": null,
            "justify_content": null,
            "justify_items": null,
            "left": null,
            "margin": null,
            "max_height": null,
            "max_width": null,
            "min_height": null,
            "min_width": null,
            "object_fit": null,
            "object_position": null,
            "order": null,
            "overflow": null,
            "overflow_x": null,
            "overflow_y": null,
            "padding": null,
            "right": null,
            "top": null,
            "visibility": null,
            "width": null
          }
        },
        "83dac075b61f41e7b8b300e40f560035": {
          "model_module": "@jupyter-widgets/controls",
          "model_name": "DescriptionStyleModel",
          "model_module_version": "1.5.0",
          "state": {
            "_model_module": "@jupyter-widgets/controls",
            "_model_module_version": "1.5.0",
            "_model_name": "DescriptionStyleModel",
            "_view_count": null,
            "_view_module": "@jupyter-widgets/base",
            "_view_module_version": "1.2.0",
            "_view_name": "StyleView",
            "description_width": ""
          }
        },
        "e6801809414a4bb596df1db2b6e2f09e": {
          "model_module": "@jupyter-widgets/controls",
          "model_name": "HBoxModel",
          "model_module_version": "1.5.0",
          "state": {
            "_dom_classes": [],
            "_model_module": "@jupyter-widgets/controls",
            "_model_module_version": "1.5.0",
            "_model_name": "HBoxModel",
            "_view_count": null,
            "_view_module": "@jupyter-widgets/controls",
            "_view_module_version": "1.5.0",
            "_view_name": "HBoxView",
            "box_style": "",
            "children": [
              "IPY_MODEL_e2a658a6ffd84d73881ad7259390180f",
              "IPY_MODEL_257b948fc0ed451e843d282cfa5cd40f",
              "IPY_MODEL_ea48b4fc6a374e88bbe76b4353faccdf"
            ],
            "layout": "IPY_MODEL_f4c1a7ff14404e76ba17912db0526693"
          }
        },
        "e2a658a6ffd84d73881ad7259390180f": {
          "model_module": "@jupyter-widgets/controls",
          "model_name": "HTMLModel",
          "model_module_version": "1.5.0",
          "state": {
            "_dom_classes": [],
            "_model_module": "@jupyter-widgets/controls",
            "_model_module_version": "1.5.0",
            "_model_name": "HTMLModel",
            "_view_count": null,
            "_view_module": "@jupyter-widgets/controls",
            "_view_module_version": "1.5.0",
            "_view_name": "HTMLView",
            "description": "",
            "description_tooltip": null,
            "layout": "IPY_MODEL_c9d3f934b18f4593b80148a25f6f1079",
            "placeholder": "​",
            "style": "IPY_MODEL_0b1b8a4cb37446eeb6ddbf7778aadf51",
            "value": "Filter: 100%"
          }
        },
        "257b948fc0ed451e843d282cfa5cd40f": {
          "model_module": "@jupyter-widgets/controls",
          "model_name": "FloatProgressModel",
          "model_module_version": "1.5.0",
          "state": {
            "_dom_classes": [],
            "_model_module": "@jupyter-widgets/controls",
            "_model_module_version": "1.5.0",
            "_model_name": "FloatProgressModel",
            "_view_count": null,
            "_view_module": "@jupyter-widgets/controls",
            "_view_module_version": "1.5.0",
            "_view_name": "ProgressView",
            "bar_style": "success",
            "description": "",
            "description_tooltip": null,
            "layout": "IPY_MODEL_562e4ce4f4fa4f859fa2171f1921db73",
            "max": 8414,
            "min": 0,
            "orientation": "horizontal",
            "style": "IPY_MODEL_2e23270ab3294dd8b1fa8beef9683593",
            "value": 8414
          }
        },
        "ea48b4fc6a374e88bbe76b4353faccdf": {
          "model_module": "@jupyter-widgets/controls",
          "model_name": "HTMLModel",
          "model_module_version": "1.5.0",
          "state": {
            "_dom_classes": [],
            "_model_module": "@jupyter-widgets/controls",
            "_model_module_version": "1.5.0",
            "_model_name": "HTMLModel",
            "_view_count": null,
            "_view_module": "@jupyter-widgets/controls",
            "_view_module_version": "1.5.0",
            "_view_name": "HTMLView",
            "description": "",
            "description_tooltip": null,
            "layout": "IPY_MODEL_3db0d07d8f694d5ba85b164cd038be7e",
            "placeholder": "​",
            "style": "IPY_MODEL_ede3ef11d33b4c04b6742494569b7786",
            "value": " 8414/8414 [00:00&lt;00:00, 22769.76 examples/s]"
          }
        },
        "f4c1a7ff14404e76ba17912db0526693": {
          "model_module": "@jupyter-widgets/base",
          "model_name": "LayoutModel",
          "model_module_version": "1.2.0",
          "state": {
            "_model_module": "@jupyter-widgets/base",
            "_model_module_version": "1.2.0",
            "_model_name": "LayoutModel",
            "_view_count": null,
            "_view_module": "@jupyter-widgets/base",
            "_view_module_version": "1.2.0",
            "_view_name": "LayoutView",
            "align_content": null,
            "align_items": null,
            "align_self": null,
            "border": null,
            "bottom": null,
            "display": null,
            "flex": null,
            "flex_flow": null,
            "grid_area": null,
            "grid_auto_columns": null,
            "grid_auto_flow": null,
            "grid_auto_rows": null,
            "grid_column": null,
            "grid_gap": null,
            "grid_row": null,
            "grid_template_areas": null,
            "grid_template_columns": null,
            "grid_template_rows": null,
            "height": null,
            "justify_content": null,
            "justify_items": null,
            "left": null,
            "margin": null,
            "max_height": null,
            "max_width": null,
            "min_height": null,
            "min_width": null,
            "object_fit": null,
            "object_position": null,
            "order": null,
            "overflow": null,
            "overflow_x": null,
            "overflow_y": null,
            "padding": null,
            "right": null,
            "top": null,
            "visibility": null,
            "width": null
          }
        },
        "c9d3f934b18f4593b80148a25f6f1079": {
          "model_module": "@jupyter-widgets/base",
          "model_name": "LayoutModel",
          "model_module_version": "1.2.0",
          "state": {
            "_model_module": "@jupyter-widgets/base",
            "_model_module_version": "1.2.0",
            "_model_name": "LayoutModel",
            "_view_count": null,
            "_view_module": "@jupyter-widgets/base",
            "_view_module_version": "1.2.0",
            "_view_name": "LayoutView",
            "align_content": null,
            "align_items": null,
            "align_self": null,
            "border": null,
            "bottom": null,
            "display": null,
            "flex": null,
            "flex_flow": null,
            "grid_area": null,
            "grid_auto_columns": null,
            "grid_auto_flow": null,
            "grid_auto_rows": null,
            "grid_column": null,
            "grid_gap": null,
            "grid_row": null,
            "grid_template_areas": null,
            "grid_template_columns": null,
            "grid_template_rows": null,
            "height": null,
            "justify_content": null,
            "justify_items": null,
            "left": null,
            "margin": null,
            "max_height": null,
            "max_width": null,
            "min_height": null,
            "min_width": null,
            "object_fit": null,
            "object_position": null,
            "order": null,
            "overflow": null,
            "overflow_x": null,
            "overflow_y": null,
            "padding": null,
            "right": null,
            "top": null,
            "visibility": null,
            "width": null
          }
        },
        "0b1b8a4cb37446eeb6ddbf7778aadf51": {
          "model_module": "@jupyter-widgets/controls",
          "model_name": "DescriptionStyleModel",
          "model_module_version": "1.5.0",
          "state": {
            "_model_module": "@jupyter-widgets/controls",
            "_model_module_version": "1.5.0",
            "_model_name": "DescriptionStyleModel",
            "_view_count": null,
            "_view_module": "@jupyter-widgets/base",
            "_view_module_version": "1.2.0",
            "_view_name": "StyleView",
            "description_width": ""
          }
        },
        "562e4ce4f4fa4f859fa2171f1921db73": {
          "model_module": "@jupyter-widgets/base",
          "model_name": "LayoutModel",
          "model_module_version": "1.2.0",
          "state": {
            "_model_module": "@jupyter-widgets/base",
            "_model_module_version": "1.2.0",
            "_model_name": "LayoutModel",
            "_view_count": null,
            "_view_module": "@jupyter-widgets/base",
            "_view_module_version": "1.2.0",
            "_view_name": "LayoutView",
            "align_content": null,
            "align_items": null,
            "align_self": null,
            "border": null,
            "bottom": null,
            "display": null,
            "flex": null,
            "flex_flow": null,
            "grid_area": null,
            "grid_auto_columns": null,
            "grid_auto_flow": null,
            "grid_auto_rows": null,
            "grid_column": null,
            "grid_gap": null,
            "grid_row": null,
            "grid_template_areas": null,
            "grid_template_columns": null,
            "grid_template_rows": null,
            "height": null,
            "justify_content": null,
            "justify_items": null,
            "left": null,
            "margin": null,
            "max_height": null,
            "max_width": null,
            "min_height": null,
            "min_width": null,
            "object_fit": null,
            "object_position": null,
            "order": null,
            "overflow": null,
            "overflow_x": null,
            "overflow_y": null,
            "padding": null,
            "right": null,
            "top": null,
            "visibility": null,
            "width": null
          }
        },
        "2e23270ab3294dd8b1fa8beef9683593": {
          "model_module": "@jupyter-widgets/controls",
          "model_name": "ProgressStyleModel",
          "model_module_version": "1.5.0",
          "state": {
            "_model_module": "@jupyter-widgets/controls",
            "_model_module_version": "1.5.0",
            "_model_name": "ProgressStyleModel",
            "_view_count": null,
            "_view_module": "@jupyter-widgets/base",
            "_view_module_version": "1.2.0",
            "_view_name": "StyleView",
            "bar_color": null,
            "description_width": ""
          }
        },
        "3db0d07d8f694d5ba85b164cd038be7e": {
          "model_module": "@jupyter-widgets/base",
          "model_name": "LayoutModel",
          "model_module_version": "1.2.0",
          "state": {
            "_model_module": "@jupyter-widgets/base",
            "_model_module_version": "1.2.0",
            "_model_name": "LayoutModel",
            "_view_count": null,
            "_view_module": "@jupyter-widgets/base",
            "_view_module_version": "1.2.0",
            "_view_name": "LayoutView",
            "align_content": null,
            "align_items": null,
            "align_self": null,
            "border": null,
            "bottom": null,
            "display": null,
            "flex": null,
            "flex_flow": null,
            "grid_area": null,
            "grid_auto_columns": null,
            "grid_auto_flow": null,
            "grid_auto_rows": null,
            "grid_column": null,
            "grid_gap": null,
            "grid_row": null,
            "grid_template_areas": null,
            "grid_template_columns": null,
            "grid_template_rows": null,
            "height": null,
            "justify_content": null,
            "justify_items": null,
            "left": null,
            "margin": null,
            "max_height": null,
            "max_width": null,
            "min_height": null,
            "min_width": null,
            "object_fit": null,
            "object_position": null,
            "order": null,
            "overflow": null,
            "overflow_x": null,
            "overflow_y": null,
            "padding": null,
            "right": null,
            "top": null,
            "visibility": null,
            "width": null
          }
        },
        "ede3ef11d33b4c04b6742494569b7786": {
          "model_module": "@jupyter-widgets/controls",
          "model_name": "DescriptionStyleModel",
          "model_module_version": "1.5.0",
          "state": {
            "_model_module": "@jupyter-widgets/controls",
            "_model_module_version": "1.5.0",
            "_model_name": "DescriptionStyleModel",
            "_view_count": null,
            "_view_module": "@jupyter-widgets/base",
            "_view_module_version": "1.2.0",
            "_view_name": "StyleView",
            "description_width": ""
          }
        },
        "f059361bbeb04d2f8df6499036b68393": {
          "model_module": "@jupyter-widgets/controls",
          "model_name": "HBoxModel",
          "model_module_version": "1.5.0",
          "state": {
            "_dom_classes": [],
            "_model_module": "@jupyter-widgets/controls",
            "_model_module_version": "1.5.0",
            "_model_name": "HBoxModel",
            "_view_count": null,
            "_view_module": "@jupyter-widgets/controls",
            "_view_module_version": "1.5.0",
            "_view_name": "HBoxView",
            "box_style": "",
            "children": [
              "IPY_MODEL_c64f2dfd4cd84b859bc64f718c6b076b",
              "IPY_MODEL_d29b06d0705e41299e153082fb9bbbc9",
              "IPY_MODEL_5659fee170ae47b5b26dd0c407f6fe8e"
            ],
            "layout": "IPY_MODEL_305a7d5c6e534e49b9983295b8812f6d"
          }
        },
        "c64f2dfd4cd84b859bc64f718c6b076b": {
          "model_module": "@jupyter-widgets/controls",
          "model_name": "HTMLModel",
          "model_module_version": "1.5.0",
          "state": {
            "_dom_classes": [],
            "_model_module": "@jupyter-widgets/controls",
            "_model_module_version": "1.5.0",
            "_model_name": "HTMLModel",
            "_view_count": null,
            "_view_module": "@jupyter-widgets/controls",
            "_view_module_version": "1.5.0",
            "_view_name": "HTMLView",
            "description": "",
            "description_tooltip": null,
            "layout": "IPY_MODEL_26f53062079d45de80a10fa00a88f831",
            "placeholder": "​",
            "style": "IPY_MODEL_e691ca50a13a478d88fd81f312961f2e",
            "value": "Map: 100%"
          }
        },
        "d29b06d0705e41299e153082fb9bbbc9": {
          "model_module": "@jupyter-widgets/controls",
          "model_name": "FloatProgressModel",
          "model_module_version": "1.5.0",
          "state": {
            "_dom_classes": [],
            "_model_module": "@jupyter-widgets/controls",
            "_model_module_version": "1.5.0",
            "_model_name": "FloatProgressModel",
            "_view_count": null,
            "_view_module": "@jupyter-widgets/controls",
            "_view_module_version": "1.5.0",
            "_view_name": "ProgressView",
            "bar_style": "success",
            "description": "",
            "description_tooltip": null,
            "layout": "IPY_MODEL_5c97915d8a704b2eb4bfa0a0582a5835",
            "max": 33539,
            "min": 0,
            "orientation": "horizontal",
            "style": "IPY_MODEL_e5a0604177cc4b39867fee1b26ea9e79",
            "value": 33539
          }
        },
        "5659fee170ae47b5b26dd0c407f6fe8e": {
          "model_module": "@jupyter-widgets/controls",
          "model_name": "HTMLModel",
          "model_module_version": "1.5.0",
          "state": {
            "_dom_classes": [],
            "_model_module": "@jupyter-widgets/controls",
            "_model_module_version": "1.5.0",
            "_model_name": "HTMLModel",
            "_view_count": null,
            "_view_module": "@jupyter-widgets/controls",
            "_view_module_version": "1.5.0",
            "_view_name": "HTMLView",
            "description": "",
            "description_tooltip": null,
            "layout": "IPY_MODEL_87ac7f75e35844eeacf69dc8a53fc6ca",
            "placeholder": "​",
            "style": "IPY_MODEL_f418a3d0247a475682b500b3774c2b9d",
            "value": " 33539/33539 [00:03&lt;00:00, 7249.81 examples/s]"
          }
        },
        "305a7d5c6e534e49b9983295b8812f6d": {
          "model_module": "@jupyter-widgets/base",
          "model_name": "LayoutModel",
          "model_module_version": "1.2.0",
          "state": {
            "_model_module": "@jupyter-widgets/base",
            "_model_module_version": "1.2.0",
            "_model_name": "LayoutModel",
            "_view_count": null,
            "_view_module": "@jupyter-widgets/base",
            "_view_module_version": "1.2.0",
            "_view_name": "LayoutView",
            "align_content": null,
            "align_items": null,
            "align_self": null,
            "border": null,
            "bottom": null,
            "display": null,
            "flex": null,
            "flex_flow": null,
            "grid_area": null,
            "grid_auto_columns": null,
            "grid_auto_flow": null,
            "grid_auto_rows": null,
            "grid_column": null,
            "grid_gap": null,
            "grid_row": null,
            "grid_template_areas": null,
            "grid_template_columns": null,
            "grid_template_rows": null,
            "height": null,
            "justify_content": null,
            "justify_items": null,
            "left": null,
            "margin": null,
            "max_height": null,
            "max_width": null,
            "min_height": null,
            "min_width": null,
            "object_fit": null,
            "object_position": null,
            "order": null,
            "overflow": null,
            "overflow_x": null,
            "overflow_y": null,
            "padding": null,
            "right": null,
            "top": null,
            "visibility": null,
            "width": null
          }
        },
        "26f53062079d45de80a10fa00a88f831": {
          "model_module": "@jupyter-widgets/base",
          "model_name": "LayoutModel",
          "model_module_version": "1.2.0",
          "state": {
            "_model_module": "@jupyter-widgets/base",
            "_model_module_version": "1.2.0",
            "_model_name": "LayoutModel",
            "_view_count": null,
            "_view_module": "@jupyter-widgets/base",
            "_view_module_version": "1.2.0",
            "_view_name": "LayoutView",
            "align_content": null,
            "align_items": null,
            "align_self": null,
            "border": null,
            "bottom": null,
            "display": null,
            "flex": null,
            "flex_flow": null,
            "grid_area": null,
            "grid_auto_columns": null,
            "grid_auto_flow": null,
            "grid_auto_rows": null,
            "grid_column": null,
            "grid_gap": null,
            "grid_row": null,
            "grid_template_areas": null,
            "grid_template_columns": null,
            "grid_template_rows": null,
            "height": null,
            "justify_content": null,
            "justify_items": null,
            "left": null,
            "margin": null,
            "max_height": null,
            "max_width": null,
            "min_height": null,
            "min_width": null,
            "object_fit": null,
            "object_position": null,
            "order": null,
            "overflow": null,
            "overflow_x": null,
            "overflow_y": null,
            "padding": null,
            "right": null,
            "top": null,
            "visibility": null,
            "width": null
          }
        },
        "e691ca50a13a478d88fd81f312961f2e": {
          "model_module": "@jupyter-widgets/controls",
          "model_name": "DescriptionStyleModel",
          "model_module_version": "1.5.0",
          "state": {
            "_model_module": "@jupyter-widgets/controls",
            "_model_module_version": "1.5.0",
            "_model_name": "DescriptionStyleModel",
            "_view_count": null,
            "_view_module": "@jupyter-widgets/base",
            "_view_module_version": "1.2.0",
            "_view_name": "StyleView",
            "description_width": ""
          }
        },
        "5c97915d8a704b2eb4bfa0a0582a5835": {
          "model_module": "@jupyter-widgets/base",
          "model_name": "LayoutModel",
          "model_module_version": "1.2.0",
          "state": {
            "_model_module": "@jupyter-widgets/base",
            "_model_module_version": "1.2.0",
            "_model_name": "LayoutModel",
            "_view_count": null,
            "_view_module": "@jupyter-widgets/base",
            "_view_module_version": "1.2.0",
            "_view_name": "LayoutView",
            "align_content": null,
            "align_items": null,
            "align_self": null,
            "border": null,
            "bottom": null,
            "display": null,
            "flex": null,
            "flex_flow": null,
            "grid_area": null,
            "grid_auto_columns": null,
            "grid_auto_flow": null,
            "grid_auto_rows": null,
            "grid_column": null,
            "grid_gap": null,
            "grid_row": null,
            "grid_template_areas": null,
            "grid_template_columns": null,
            "grid_template_rows": null,
            "height": null,
            "justify_content": null,
            "justify_items": null,
            "left": null,
            "margin": null,
            "max_height": null,
            "max_width": null,
            "min_height": null,
            "min_width": null,
            "object_fit": null,
            "object_position": null,
            "order": null,
            "overflow": null,
            "overflow_x": null,
            "overflow_y": null,
            "padding": null,
            "right": null,
            "top": null,
            "visibility": null,
            "width": null
          }
        },
        "e5a0604177cc4b39867fee1b26ea9e79": {
          "model_module": "@jupyter-widgets/controls",
          "model_name": "ProgressStyleModel",
          "model_module_version": "1.5.0",
          "state": {
            "_model_module": "@jupyter-widgets/controls",
            "_model_module_version": "1.5.0",
            "_model_name": "ProgressStyleModel",
            "_view_count": null,
            "_view_module": "@jupyter-widgets/base",
            "_view_module_version": "1.2.0",
            "_view_name": "StyleView",
            "bar_color": null,
            "description_width": ""
          }
        },
        "87ac7f75e35844eeacf69dc8a53fc6ca": {
          "model_module": "@jupyter-widgets/base",
          "model_name": "LayoutModel",
          "model_module_version": "1.2.0",
          "state": {
            "_model_module": "@jupyter-widgets/base",
            "_model_module_version": "1.2.0",
            "_model_name": "LayoutModel",
            "_view_count": null,
            "_view_module": "@jupyter-widgets/base",
            "_view_module_version": "1.2.0",
            "_view_name": "LayoutView",
            "align_content": null,
            "align_items": null,
            "align_self": null,
            "border": null,
            "bottom": null,
            "display": null,
            "flex": null,
            "flex_flow": null,
            "grid_area": null,
            "grid_auto_columns": null,
            "grid_auto_flow": null,
            "grid_auto_rows": null,
            "grid_column": null,
            "grid_gap": null,
            "grid_row": null,
            "grid_template_areas": null,
            "grid_template_columns": null,
            "grid_template_rows": null,
            "height": null,
            "justify_content": null,
            "justify_items": null,
            "left": null,
            "margin": null,
            "max_height": null,
            "max_width": null,
            "min_height": null,
            "min_width": null,
            "object_fit": null,
            "object_position": null,
            "order": null,
            "overflow": null,
            "overflow_x": null,
            "overflow_y": null,
            "padding": null,
            "right": null,
            "top": null,
            "visibility": null,
            "width": null
          }
        },
        "f418a3d0247a475682b500b3774c2b9d": {
          "model_module": "@jupyter-widgets/controls",
          "model_name": "DescriptionStyleModel",
          "model_module_version": "1.5.0",
          "state": {
            "_model_module": "@jupyter-widgets/controls",
            "_model_module_version": "1.5.0",
            "_model_name": "DescriptionStyleModel",
            "_view_count": null,
            "_view_module": "@jupyter-widgets/base",
            "_view_module_version": "1.2.0",
            "_view_name": "StyleView",
            "description_width": ""
          }
        },
        "d923292285cf47eea8d8e9aff198ec6b": {
          "model_module": "@jupyter-widgets/controls",
          "model_name": "HBoxModel",
          "model_module_version": "1.5.0",
          "state": {
            "_dom_classes": [],
            "_model_module": "@jupyter-widgets/controls",
            "_model_module_version": "1.5.0",
            "_model_name": "HBoxModel",
            "_view_count": null,
            "_view_module": "@jupyter-widgets/controls",
            "_view_module_version": "1.5.0",
            "_view_name": "HBoxView",
            "box_style": "",
            "children": [
              "IPY_MODEL_0eeff58793584ca5ac22f33ec2630d92",
              "IPY_MODEL_3c17d7acdb424846912dd51f2ab7df20",
              "IPY_MODEL_cce527d08c9c4ee0a8b7074ad3f308b4"
            ],
            "layout": "IPY_MODEL_fb16d7bef19944d7afa916f040e35898"
          }
        },
        "0eeff58793584ca5ac22f33ec2630d92": {
          "model_module": "@jupyter-widgets/controls",
          "model_name": "HTMLModel",
          "model_module_version": "1.5.0",
          "state": {
            "_dom_classes": [],
            "_model_module": "@jupyter-widgets/controls",
            "_model_module_version": "1.5.0",
            "_model_name": "HTMLModel",
            "_view_count": null,
            "_view_module": "@jupyter-widgets/controls",
            "_view_module_version": "1.5.0",
            "_view_name": "HTMLView",
            "description": "",
            "description_tooltip": null,
            "layout": "IPY_MODEL_dd6e2c2bdd6b47288c7b644fbfb0f2ac",
            "placeholder": "​",
            "style": "IPY_MODEL_e669c7a775674fc18afce75166756004",
            "value": "Map: 100%"
          }
        },
        "3c17d7acdb424846912dd51f2ab7df20": {
          "model_module": "@jupyter-widgets/controls",
          "model_name": "FloatProgressModel",
          "model_module_version": "1.5.0",
          "state": {
            "_dom_classes": [],
            "_model_module": "@jupyter-widgets/controls",
            "_model_module_version": "1.5.0",
            "_model_name": "FloatProgressModel",
            "_view_count": null,
            "_view_module": "@jupyter-widgets/controls",
            "_view_module_version": "1.5.0",
            "_view_name": "ProgressView",
            "bar_style": "success",
            "description": "",
            "description_tooltip": null,
            "layout": "IPY_MODEL_d3643d573e344788af1ea65248657823",
            "max": 8392,
            "min": 0,
            "orientation": "horizontal",
            "style": "IPY_MODEL_b71b2c0515cd426080b6ed59c5d5fb24",
            "value": 8392
          }
        },
        "cce527d08c9c4ee0a8b7074ad3f308b4": {
          "model_module": "@jupyter-widgets/controls",
          "model_name": "HTMLModel",
          "model_module_version": "1.5.0",
          "state": {
            "_dom_classes": [],
            "_model_module": "@jupyter-widgets/controls",
            "_model_module_version": "1.5.0",
            "_model_name": "HTMLModel",
            "_view_count": null,
            "_view_module": "@jupyter-widgets/controls",
            "_view_module_version": "1.5.0",
            "_view_name": "HTMLView",
            "description": "",
            "description_tooltip": null,
            "layout": "IPY_MODEL_74286344714f450eae655b3ca6fff2b7",
            "placeholder": "​",
            "style": "IPY_MODEL_2ec1f1c6224d4d91a7331143eaf82cfc",
            "value": " 8392/8392 [00:01&lt;00:00, 6715.20 examples/s]"
          }
        },
        "fb16d7bef19944d7afa916f040e35898": {
          "model_module": "@jupyter-widgets/base",
          "model_name": "LayoutModel",
          "model_module_version": "1.2.0",
          "state": {
            "_model_module": "@jupyter-widgets/base",
            "_model_module_version": "1.2.0",
            "_model_name": "LayoutModel",
            "_view_count": null,
            "_view_module": "@jupyter-widgets/base",
            "_view_module_version": "1.2.0",
            "_view_name": "LayoutView",
            "align_content": null,
            "align_items": null,
            "align_self": null,
            "border": null,
            "bottom": null,
            "display": null,
            "flex": null,
            "flex_flow": null,
            "grid_area": null,
            "grid_auto_columns": null,
            "grid_auto_flow": null,
            "grid_auto_rows": null,
            "grid_column": null,
            "grid_gap": null,
            "grid_row": null,
            "grid_template_areas": null,
            "grid_template_columns": null,
            "grid_template_rows": null,
            "height": null,
            "justify_content": null,
            "justify_items": null,
            "left": null,
            "margin": null,
            "max_height": null,
            "max_width": null,
            "min_height": null,
            "min_width": null,
            "object_fit": null,
            "object_position": null,
            "order": null,
            "overflow": null,
            "overflow_x": null,
            "overflow_y": null,
            "padding": null,
            "right": null,
            "top": null,
            "visibility": null,
            "width": null
          }
        },
        "dd6e2c2bdd6b47288c7b644fbfb0f2ac": {
          "model_module": "@jupyter-widgets/base",
          "model_name": "LayoutModel",
          "model_module_version": "1.2.0",
          "state": {
            "_model_module": "@jupyter-widgets/base",
            "_model_module_version": "1.2.0",
            "_model_name": "LayoutModel",
            "_view_count": null,
            "_view_module": "@jupyter-widgets/base",
            "_view_module_version": "1.2.0",
            "_view_name": "LayoutView",
            "align_content": null,
            "align_items": null,
            "align_self": null,
            "border": null,
            "bottom": null,
            "display": null,
            "flex": null,
            "flex_flow": null,
            "grid_area": null,
            "grid_auto_columns": null,
            "grid_auto_flow": null,
            "grid_auto_rows": null,
            "grid_column": null,
            "grid_gap": null,
            "grid_row": null,
            "grid_template_areas": null,
            "grid_template_columns": null,
            "grid_template_rows": null,
            "height": null,
            "justify_content": null,
            "justify_items": null,
            "left": null,
            "margin": null,
            "max_height": null,
            "max_width": null,
            "min_height": null,
            "min_width": null,
            "object_fit": null,
            "object_position": null,
            "order": null,
            "overflow": null,
            "overflow_x": null,
            "overflow_y": null,
            "padding": null,
            "right": null,
            "top": null,
            "visibility": null,
            "width": null
          }
        },
        "e669c7a775674fc18afce75166756004": {
          "model_module": "@jupyter-widgets/controls",
          "model_name": "DescriptionStyleModel",
          "model_module_version": "1.5.0",
          "state": {
            "_model_module": "@jupyter-widgets/controls",
            "_model_module_version": "1.5.0",
            "_model_name": "DescriptionStyleModel",
            "_view_count": null,
            "_view_module": "@jupyter-widgets/base",
            "_view_module_version": "1.2.0",
            "_view_name": "StyleView",
            "description_width": ""
          }
        },
        "d3643d573e344788af1ea65248657823": {
          "model_module": "@jupyter-widgets/base",
          "model_name": "LayoutModel",
          "model_module_version": "1.2.0",
          "state": {
            "_model_module": "@jupyter-widgets/base",
            "_model_module_version": "1.2.0",
            "_model_name": "LayoutModel",
            "_view_count": null,
            "_view_module": "@jupyter-widgets/base",
            "_view_module_version": "1.2.0",
            "_view_name": "LayoutView",
            "align_content": null,
            "align_items": null,
            "align_self": null,
            "border": null,
            "bottom": null,
            "display": null,
            "flex": null,
            "flex_flow": null,
            "grid_area": null,
            "grid_auto_columns": null,
            "grid_auto_flow": null,
            "grid_auto_rows": null,
            "grid_column": null,
            "grid_gap": null,
            "grid_row": null,
            "grid_template_areas": null,
            "grid_template_columns": null,
            "grid_template_rows": null,
            "height": null,
            "justify_content": null,
            "justify_items": null,
            "left": null,
            "margin": null,
            "max_height": null,
            "max_width": null,
            "min_height": null,
            "min_width": null,
            "object_fit": null,
            "object_position": null,
            "order": null,
            "overflow": null,
            "overflow_x": null,
            "overflow_y": null,
            "padding": null,
            "right": null,
            "top": null,
            "visibility": null,
            "width": null
          }
        },
        "b71b2c0515cd426080b6ed59c5d5fb24": {
          "model_module": "@jupyter-widgets/controls",
          "model_name": "ProgressStyleModel",
          "model_module_version": "1.5.0",
          "state": {
            "_model_module": "@jupyter-widgets/controls",
            "_model_module_version": "1.5.0",
            "_model_name": "ProgressStyleModel",
            "_view_count": null,
            "_view_module": "@jupyter-widgets/base",
            "_view_module_version": "1.2.0",
            "_view_name": "StyleView",
            "bar_color": null,
            "description_width": ""
          }
        },
        "74286344714f450eae655b3ca6fff2b7": {
          "model_module": "@jupyter-widgets/base",
          "model_name": "LayoutModel",
          "model_module_version": "1.2.0",
          "state": {
            "_model_module": "@jupyter-widgets/base",
            "_model_module_version": "1.2.0",
            "_model_name": "LayoutModel",
            "_view_count": null,
            "_view_module": "@jupyter-widgets/base",
            "_view_module_version": "1.2.0",
            "_view_name": "LayoutView",
            "align_content": null,
            "align_items": null,
            "align_self": null,
            "border": null,
            "bottom": null,
            "display": null,
            "flex": null,
            "flex_flow": null,
            "grid_area": null,
            "grid_auto_columns": null,
            "grid_auto_flow": null,
            "grid_auto_rows": null,
            "grid_column": null,
            "grid_gap": null,
            "grid_row": null,
            "grid_template_areas": null,
            "grid_template_columns": null,
            "grid_template_rows": null,
            "height": null,
            "justify_content": null,
            "justify_items": null,
            "left": null,
            "margin": null,
            "max_height": null,
            "max_width": null,
            "min_height": null,
            "min_width": null,
            "object_fit": null,
            "object_position": null,
            "order": null,
            "overflow": null,
            "overflow_x": null,
            "overflow_y": null,
            "padding": null,
            "right": null,
            "top": null,
            "visibility": null,
            "width": null
          }
        },
        "2ec1f1c6224d4d91a7331143eaf82cfc": {
          "model_module": "@jupyter-widgets/controls",
          "model_name": "DescriptionStyleModel",
          "model_module_version": "1.5.0",
          "state": {
            "_model_module": "@jupyter-widgets/controls",
            "_model_module_version": "1.5.0",
            "_model_name": "DescriptionStyleModel",
            "_view_count": null,
            "_view_module": "@jupyter-widgets/base",
            "_view_module_version": "1.2.0",
            "_view_name": "StyleView",
            "description_width": ""
          }
        }
      }
    }
  },
  "nbformat": 4,
  "nbformat_minor": 5
}